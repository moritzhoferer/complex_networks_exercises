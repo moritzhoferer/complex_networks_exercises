{
 "cells": [
  {
   "cell_type": "markdown",
   "metadata": {},
   "source": [
    "# Exercise 05: Ensembles with Fixed Degree Sequence and the Friendship Paradox\n",
    "\n",
    "**Assignment due:** *March 26 2019*  \n",
    "\n",
    "In this week's exercise, we implement the configuration model after Molloy and Reed, which can be used to generate random networks with arbitrary degree distributions. Then, we explore the friendship paradox in (social) networks."
   ]
  },
  {
   "cell_type": "code",
   "execution_count": 1,
   "metadata": {},
   "outputs": [],
   "source": [
    "#BOILERPLATE_CODE\n",
    "%matplotlib inline\n",
    "\n",
    "import pathpy as pp\n",
    "import networkx as nx\n",
    "import numpy as np\n",
    "\n",
    "import matplotlib.pyplot as plt"
   ]
  },
  {
   "cell_type": "markdown",
   "metadata": {},
   "source": [
    "### Task 1: When is a sequence graphic?\n",
    "\n",
    "Implement a function that tests whether a given sequence of degrees is graphic, as defined in L03 slide 3. Use the the results presented in Behzad and Chartrand 1967 and Erdös and Gallai 1960 as summarised [here](http://mathworld.wolfram.com/GraphicSequence.html) and [here](https://en.wikipedia.org/wiki/Erd%C5%91s%E2%80%93Gallai_theorem). Test your function with one sequence that is definitely graphic and one that is definitely not graphic."
   ]
  },
  {
   "cell_type": "code",
   "execution_count": 2,
   "metadata": {},
   "outputs": [],
   "source": [
    "def is_graphic_Erdos_Gallai(seq):\n",
    "    seq = np.sort(seq)[::-1]\n",
    "#     print(seq)\n",
    "    if np.sum(seq)%2 != 0:\n",
    "        print('Sum of degrees is odd.')\n",
    "        return False\n",
    "    \n",
    "    for i in range(1, len(seq)):\n",
    "        lht = np.sum(seq[:i+1])\n",
    "        rht = i * (i - 1)\n",
    "        for j in range(i+1, len(seq)):\n",
    "            rht += min(j, seq[j])\n",
    "#         print(lht, rht)\n",
    "        if lht > rht:\n",
    "            print('Unequality of Erdős–Gallai theorem not fulfilled')\n",
    "            return False\n",
    "    \n",
    "    return True"
   ]
  },
  {
   "cell_type": "code",
   "execution_count": 3,
   "metadata": {},
   "outputs": [],
   "source": [
    "sequence_lecture = [2, 3, 2, 4, 2, 3, 2] # Example from lecture L03\n",
    "test_sequence = [2, 3, 2, 4, 2, 3, 2, 10] # add a 8-th node with degree 10"
   ]
  },
  {
   "cell_type": "code",
   "execution_count": 4,
   "metadata": {},
   "outputs": [
    {
     "data": {
      "text/plain": [
       "True"
      ]
     },
     "execution_count": 4,
     "metadata": {},
     "output_type": "execute_result"
    }
   ],
   "source": [
    "is_graphic_Erdos_Gallai(sequence_lecture) "
   ]
  },
  {
   "cell_type": "code",
   "execution_count": 5,
   "metadata": {},
   "outputs": [
    {
     "name": "stdout",
     "output_type": "stream",
     "text": [
      "Unequality of Erdős–Gallai theorem not fulfilled\n"
     ]
    },
    {
     "data": {
      "text/plain": [
       "False"
      ]
     },
     "execution_count": 5,
     "metadata": {},
     "output_type": "execute_result"
    }
   ],
   "source": [
    "is_graphic_Erdos_Gallai(test_sequence) # Last entry is larger than n-1"
   ]
  },
  {
   "cell_type": "markdown",
   "metadata": {},
   "source": [
    "Create a function that is the same as `is_graphic_Erdos_Gallai`, but do not sort the sequence at the beginning, i.e. do not impose the condition $d_1 \\leq d_2 \\leq \\ldots$. Now find a sequence for which the two functions give different results."
   ]
  },
  {
   "cell_type": "code",
   "execution_count": 6,
   "metadata": {},
   "outputs": [],
   "source": [
    "def is_graphic_Erdos_Gallai_unsorted(seq):\n",
    "    seq = np.asarray(seq)\n",
    "#     print(seq)\n",
    "    if np.sum(seq)%2 != 0:\n",
    "        print('Sum of degrees is odd.')\n",
    "        return False\n",
    "    \n",
    "    for i in range(1, len(seq)):\n",
    "        lht = np.sum(seq[:i+1])\n",
    "        rht = i * (i - 1)\n",
    "        for j in range(i+1, len(seq)):\n",
    "            rht += min(j, seq[j])\n",
    "#         print(lht, rht)\n",
    "        if lht > rht:\n",
    "            print('Unequality of Erdős–Gallai theorem not fulfilled')\n",
    "            return False\n",
    "    \n",
    "    return True"
   ]
  },
  {
   "cell_type": "code",
   "execution_count": 7,
   "metadata": {},
   "outputs": [
    {
     "data": {
      "text/plain": [
       "True"
      ]
     },
     "execution_count": 7,
     "metadata": {},
     "output_type": "execute_result"
    }
   ],
   "source": [
    "is_graphic_Erdos_Gallai_unsorted(test_sequence) # Example from lecture"
   ]
  },
  {
   "cell_type": "code",
   "execution_count": 8,
   "metadata": {},
   "outputs": [],
   "source": [
    "# print(\n",
    "#     is_graphic_Erdos_Gallai_unsorted(test_sequence) == is_graphic_Erdos_Gallai(test_sequence)\n",
    "# ) "
   ]
  },
  {
   "cell_type": "markdown",
   "metadata": {},
   "source": [
    "### Task 2: The Molloy-Reed Configuration Model\n",
    "\n",
    "Implement the configuration model for random networks with a given degree sequence in `python` as described in lecture L04.  Please do not use the built-in `pathpy` function, but rather implement the generating process on your own. \n",
    "\n",
    "**Hint:** Use the function `is_graphic_sequence` from the module `pathpy.algorithms.random_graphs` if you could not manage to write your own function `is_graphic_Erdos_Gallai`."
   ]
  },
  {
   "cell_type": "code",
   "execution_count": 9,
   "metadata": {},
   "outputs": [],
   "source": [
    "def molloy_reed_conf(degrees):\n",
    "    n = len(degrees)\n",
    "    g = pp.Network(directed=False)\n",
    "    for i in range(n):\n",
    "        g.add_node(i)\n",
    "        \n",
    "    if is_graphic_Erdos_Gallai(degrees):        \n",
    "        stubs = [i for i, iVal in enumerate(degrees) for k in range(iVal)]\n",
    "        while stubs:\n",
    "            i = np.random.choice(stubs)\n",
    "            stubs.remove(i)\n",
    "            j = np.random.choice(stubs)\n",
    "            stubs.remove(j)\n",
    "            g.add_edge(i, j)\n",
    "    \n",
    "    else:\n",
    "        print('Erdős–Gallai theorem ist not fulfilled. Returning empty graph.')\n",
    "    \n",
    "    return g"
   ]
  },
  {
   "cell_type": "markdown",
   "metadata": {},
   "source": [
    "Use your function to generate a k-regular random network with $100$ nodes and $k = 4$, i.e. a network in which all nodes have a degree of exactly four."
   ]
  },
  {
   "cell_type": "code",
   "execution_count": 10,
   "metadata": {},
   "outputs": [],
   "source": [
    "degrees_rrg = np.full(shape=100, fill_value=4)\n",
    "rrg = molloy_reed_conf(degrees_rrg)"
   ]
  },
  {
   "cell_type": "markdown",
   "metadata": {},
   "source": [
    "Following the approach introduced in lecture 5, draw two degree sequences with 300 entries each from a *Zipf* distribution with parameter $\\gamma=2.5$, and a Poisson distribution with $\\lambda=3$. Generate two random networks with the drawn degree sequences, plot the networks as well as their degree distributions. Use `np.random.zipf` and `np.random.poisson`."
   ]
  },
  {
   "cell_type": "code",
   "execution_count": 11,
   "metadata": {},
   "outputs": [
    {
     "name": "stdout",
     "output_type": "stream",
     "text": [
      "Sum of degrees is odd.\n",
      "Sum of degrees is odd.\n",
      "Sum of degrees is odd.\n"
     ]
    }
   ],
   "source": [
    "tester = False \n",
    "while not tester:\n",
    "    degrees_zipf = np.random.zipf(2.5, size=300)\n",
    "    tester = is_graphic_Erdos_Gallai(degrees_zipf)\n",
    "\n",
    "tester = False  \n",
    "while not tester:\n",
    "    degrees_poisson = np.random.poisson(lam=3., size=300)\n",
    "    tester = is_graphic_Erdos_Gallai(degrees_poisson)"
   ]
  },
  {
   "cell_type": "code",
   "execution_count": 12,
   "metadata": {},
   "outputs": [],
   "source": [
    "g_poisson = molloy_reed_conf(degrees_poisson)"
   ]
  },
  {
   "cell_type": "code",
   "execution_count": 13,
   "metadata": {},
   "outputs": [],
   "source": [
    "g_zipf = molloy_reed_conf(degrees_zipf)"
   ]
  },
  {
   "cell_type": "code",
   "execution_count": 14,
   "metadata": {},
   "outputs": [
    {
     "data": {
      "image/png": "[encoded data removed]",
      "text/plain": [
       "<Figure size 432x288 with 1 Axes>"
      ]
     },
     "metadata": {
      "needs_background": "light"
     },
     "output_type": "display_data"
    }
   ],
   "source": [
    "bins = np.arange(max(np.append(degrees_poisson, degrees_zipf))) + .5\n",
    "\n",
    "fig = plt.figure()\n",
    "ax = plt.subplot(111)\n",
    "n_, bins_, patches_ = ax.hist(degrees_poisson, bins=bins, density=True, label='Poisson', histtype='step')\n",
    "n_, bins_, patches_ = ax.hist(degrees_zipf, bins=bins, density=True, label='Zipf', histtype='step')\n",
    "ax.set_xlabel(r'Degree $d$')\n",
    "ax.set_ylabel(r'Probablity density $p\\left(d\\right)$')\n",
    "# ax.set_yscale('log')\n",
    "ax.legend(loc='best')\n",
    "\n",
    "fig.savefig('./graphics/exercise_05_task_2_distributions.pdf')"
   ]
  },
  {
   "cell_type": "markdown",
   "metadata": {},
   "source": [
    "Generate random networks with the two degree sequences. Plot the networks as well as their degree distributions."
   ]
  },
  {
   "cell_type": "code",
   "execution_count": 15,
   "metadata": {},
   "outputs": [
    {
     "data": {
      "text/html": [
       "<style>\n",
       "    text.label_kpBrtHpH {\n",
       "        text-anchor: middle;\n",
       "        font-size: 8px;\n",
       "        font-family: Arial, Helvetica, sans-serif;\n",
       "        fill: #999999;\n",
       "        stroke: #ffffff;\n",
       "        stroke-width: 0.1px;\n",
       "        opacity: 1.0;\n",
       "    }\n",
       "    .links_kpBrtHpH line {\n",
       "    stroke-opacity: 1.0;\n",
       "    }\n",
       "    .arrows svg:path {\n",
       "        stroke: #666;\n",
       "    }\n",
       "    .nodes_kpBrtHpH circle {\n",
       "    stroke: #fff;\n",
       "    stroke-width: 0.5px;\n",
       "    }\n",
       "</style>\n",
       "\n",
       "<svg width=\"400\" height=\"400\" id=\"kpBrtHpH\">        \n",
       "    <text x=\"20\" y=\"20\" font-family=\"sans-serif\" font-size=\"14px\" fill=\"#666\" style=\"cursor: pointer\"\n",
       "        id='kpBrtHpH_svg_txt'>[save svg]</text>\n",
       "</svg>\n",
       "\n",
       "<script charset=\"utf-8\" src=\"https://d3js.org/d3.v4.min.js\"></script>\n",
       "<script charset=\"utf-8\">\n",
       "\n",
       "// Load via requireJS if available (jupyter notebook environment)\n",
       "try {\n",
       "    // Problem: require.config will raise an exception when called for the second time \n",
       "    require.config({\n",
       "        paths: {\n",
       "            //d3: \"https://d3js.org/d3.v4.min\"\n",
       "            d3: \"https://d3js.org/d3.v4.min.js\".replace(\".js\", \"\")\n",
       "        }\n",
       "    });\n",
       "    console.log(\"Detected requireJS\");\n",
       "}\n",
       "catch(err){\n",
       "    // a reference error indicates that requireJS does not exist. \n",
       "    // other errors may occur due to multiple calls to config\n",
       "    if (err instanceof ReferenceError){\n",
       "        console.log(\"Detected no requireJS\");\n",
       "\n",
       "        // Helper function that waits for d3js to be loaded\n",
       "        require = function require(symbols, callback) {\n",
       "            var ms = 5;\n",
       "            window.setTimeout(function(t) {\n",
       "                if (window[symbols[0]])\n",
       "                    callback(window[symbols[0]]);\n",
       "                else \n",
       "                    window.setTimeout(arguments.callee, ms);\n",
       "            }, ms);\n",
       "        }\n",
       "    }\n",
       "}\n",
       "\n",
       "// wait until d3js has been loaded\n",
       "require([\"d3\"], function(d3) {\n",
       "    var svg = d3.select(\"#\"+\"kpBrtHpH\"), radius = 6, width = +svg.attr(\"width\"), height = +svg.attr(\"height\");\n",
       "\n",
       "    var color = d3.scaleOrdinal(d3.schemeCategory20);\n",
       "\n",
       "    var graph = {\"links\": [{\"source\": \"n_12\", \"target\": \"n_36\", \"color\": \"#999999\", \"width\": 0.5, \"weight\": 0.5}, {\"source\": \"n_51\", \"target\": \"n_168\", \"color\": \"#999999\", \"width\": 0.5, \"weight\": 0.16666666666666666}, {\"source\": \"n_85\", \"target\": \"n_213\", \"color\": \"#999999\", \"width\": 0.5, \"weight\": 0.25}, {\"source\": \"n_183\", \"target\": \"n_240\", \"color\": \"#999999\", \"width\": 0.5, \"weight\": 0.5}, {\"source\": \"n_79\", \"target\": \"n_154\", \"color\": \"#999999\", \"width\": 0.5, \"weight\": 0.5}, {\"source\": \"n_112\", \"target\": \"n_227\", \"color\": \"#999999\", \"width\": 0.5, \"weight\": 0.5}, {\"source\": \"n_237\", \"target\": \"n_268\", \"color\": \"#999999\", \"width\": 0.5, \"weight\": 0.5}, {\"source\": \"n_6\", \"target\": \"n_214\", \"color\": \"#999999\", \"width\": 0.5, \"weight\": 0.5}, {\"source\": \"n_64\", \"target\": \"n_228\", \"color\": \"#999999\", \"width\": 0.5, \"weight\": 0.5}, {\"source\": \"n_19\", \"target\": \"n_194\", \"color\": \"#999999\", \"width\": 0.5, \"weight\": 0.5}, {\"source\": \"n_171\", \"target\": \"n_261\", \"color\": \"#999999\", \"width\": 0.5, \"weight\": 0.5}, {\"source\": \"n_155\", \"target\": \"n_259\", \"color\": \"#999999\", \"width\": 0.5, \"weight\": 0.16666666666666666}, {\"source\": \"n_107\", \"target\": \"n_282\", \"color\": \"#999999\", \"width\": 0.5, \"weight\": 0.5}, {\"source\": \"n_215\", \"target\": \"n_263\", \"color\": \"#999999\", \"width\": 0.5, \"weight\": 0.5}, {\"source\": \"n_26\", \"target\": \"n_267\", \"color\": \"#999999\", \"width\": 0.5, \"weight\": 0.5}, {\"source\": \"n_8\", \"target\": \"n_281\", \"color\": \"#999999\", \"width\": 0.5, \"weight\": 0.5}, {\"source\": \"n_56\", \"target\": \"n_107\", \"color\": \"#999999\", \"width\": 0.5, \"weight\": 0.5}, {\"source\": \"n_20\", \"target\": \"n_230\", \"color\": \"#999999\", \"width\": 0.5, \"weight\": 0.5}, {\"source\": \"n_37\", \"target\": \"n_286\", \"color\": \"#999999\", \"width\": 0.5, \"weight\": 0.25}, {\"source\": \"n_109\", \"target\": \"n_201\", \"color\": \"#999999\", \"width\": 0.5, \"weight\": 0.25}, {\"source\": \"n_200\", \"target\": \"n_293\", \"color\": \"#999999\", \"width\": 0.5, \"weight\": 0.5}, {\"source\": \"n_147\", \"target\": \"n_160\", \"color\": \"#999999\", \"width\": 0.5, \"weight\": 0.5}, {\"source\": \"n_107\", \"target\": \"n_196\", \"color\": \"#999999\", \"width\": 0.5, \"weight\": 0.5}, {\"source\": \"n_7\", \"target\": \"n_153\", \"color\": \"#999999\", \"width\": 0.5, \"weight\": 0.5}, {\"source\": \"n_39\", \"target\": \"n_206\", \"color\": \"#999999\", \"width\": 0.5, \"weight\": 0.16666666666666666}, {\"source\": \"n_53\", \"target\": \"n_182\", \"color\": \"#999999\", \"width\": 0.5, \"weight\": 0.5}, {\"source\": \"n_0\", \"target\": \"n_259\", \"color\": \"#999999\", \"width\": 0.5, \"weight\": 0.5}, {\"source\": \"n_67\", \"target\": \"n_70\", \"color\": \"#999999\", \"width\": 0.5, \"weight\": 0.16666666666666666}, {\"source\": \"n_21\", \"target\": \"n_279\", \"color\": \"#999999\", \"width\": 0.5, \"weight\": 0.5}, {\"source\": \"n_123\", \"target\": \"n_286\", \"color\": \"#999999\", \"width\": 0.5, \"weight\": 0.16666666666666666}, {\"source\": \"n_62\", \"target\": \"n_253\", \"color\": \"#999999\", \"width\": 0.5, \"weight\": 0.5}, {\"source\": \"n_150\", \"target\": \"n_215\", \"color\": \"#999999\", \"width\": 0.5, \"weight\": 0.25}, {\"source\": \"n_107\", \"target\": \"n_192\", \"color\": \"#999999\", \"width\": 0.5, \"weight\": 0.5}, {\"source\": \"n_69\", \"target\": \"n_223\", \"color\": \"#999999\", \"width\": 0.5, \"weight\": 0.5}, {\"source\": \"n_159\", \"target\": \"n_291\", \"color\": \"#999999\", \"width\": 0.5, \"weight\": 0.5}, {\"source\": \"n_89\", \"target\": \"n_109\", \"color\": \"#999999\", \"width\": 0.5, \"weight\": 0.5}, {\"source\": \"n_54\", \"target\": \"n_114\", \"color\": \"#999999\", \"width\": 0.5, \"weight\": 0.5}, {\"source\": \"n_55\", \"target\": \"n_58\", \"color\": \"#999999\", \"width\": 0.5, \"weight\": 0.5}, {\"source\": \"n_34\", \"target\": \"n_107\", \"color\": \"#999999\", \"width\": 0.5, \"weight\": 0.5}, {\"source\": \"n_187\", \"target\": \"n_272\", \"color\": \"#999999\", \"width\": 0.5, \"weight\": 0.25}, {\"source\": \"n_17\", \"target\": \"n_262\", \"color\": \"#999999\", \"width\": 0.5, \"weight\": 0.5}, {\"source\": \"n_71\", \"target\": \"n_124\", \"color\": \"#999999\", \"width\": 0.5, \"weight\": 0.25}, {\"source\": \"n_126\", \"target\": \"n_208\", \"color\": \"#999999\", \"width\": 0.5, \"weight\": 0.5}, {\"source\": \"n_212\", \"target\": \"n_241\", \"color\": \"#999999\", \"width\": 0.5, \"weight\": 0.5}, {\"source\": \"n_136\", \"target\": \"n_151\", \"color\": \"#999999\", \"width\": 0.5, \"weight\": 0.25}, {\"source\": \"n_201\", \"target\": \"n_296\", \"color\": \"#999999\", \"width\": 0.5, \"weight\": 0.25}, {\"source\": \"n_92\", \"target\": \"n_168\", \"color\": \"#999999\", \"width\": 0.5, \"weight\": 0.5}, {\"source\": \"n_103\", \"target\": \"n_203\", \"color\": \"#999999\", \"width\": 0.5, \"weight\": 0.5}, {\"source\": \"n_95\", \"target\": \"n_161\", \"color\": \"#999999\", \"width\": 0.5, \"weight\": 0.5}, {\"source\": \"n_2\", \"target\": \"n_229\", \"color\": \"#999999\", \"width\": 0.5, \"weight\": 0.5}, {\"source\": \"n_172\", \"target\": \"n_215\", \"color\": \"#999999\", \"width\": 0.5, \"weight\": 0.5}, {\"source\": \"n_23\", \"target\": \"n_123\", \"color\": \"#999999\", \"width\": 0.5, \"weight\": 0.16666666666666666}, {\"source\": \"n_53\", \"target\": \"n_168\", \"color\": \"#999999\", \"width\": 0.5, \"weight\": 0.16666666666666666}, {\"source\": \"n_14\", \"target\": \"n_93\", \"color\": \"#999999\", \"width\": 0.5, \"weight\": 0.5}, {\"source\": \"n_38\", \"target\": \"n_110\", \"color\": \"#999999\", \"width\": 0.5, \"weight\": 0.5}, {\"source\": \"n_24\", \"target\": \"n_215\", \"color\": \"#999999\", \"width\": 0.5, \"weight\": 0.5}, {\"source\": \"n_121\", \"target\": \"n_133\", \"color\": \"#999999\", \"width\": 0.5, \"weight\": 0.5}, {\"source\": \"n_32\", \"target\": \"n_254\", \"color\": \"#999999\", \"width\": 0.5, \"weight\": 0.5}, {\"source\": \"n_110\", \"target\": \"n_291\", \"color\": \"#999999\", \"width\": 0.5, \"weight\": 0.25}, {\"source\": \"n_8\", \"target\": \"n_257\", \"color\": \"#999999\", \"width\": 0.5, \"weight\": 0.5}, {\"source\": \"n_65\", \"target\": \"n_166\", \"color\": \"#999999\", \"width\": 0.5, \"weight\": 0.5}, {\"source\": \"n_44\", \"target\": \"n_122\", \"color\": \"#999999\", \"width\": 0.5, \"weight\": 0.5}, {\"source\": \"n_46\", \"target\": \"n_264\", \"color\": \"#999999\", \"width\": 0.5, \"weight\": 0.5}, {\"source\": \"n_50\", \"target\": \"n_164\", \"color\": \"#999999\", \"width\": 0.5, \"weight\": 0.5}, {\"source\": \"n_84\", \"target\": \"n_235\", \"color\": \"#999999\", \"width\": 0.5, \"weight\": 0.5}, {\"source\": \"n_74\", \"target\": \"n_272\", \"color\": \"#999999\", \"width\": 0.5, \"weight\": 0.5}, {\"source\": \"n_114\", \"target\": \"n_286\", \"color\": \"#999999\", \"width\": 0.5, \"weight\": 0.125}, {\"source\": \"n_104\", \"target\": \"n_292\", \"color\": \"#999999\", \"width\": 0.5, \"weight\": 0.5}, {\"source\": \"n_259\", \"target\": \"n_259\", \"color\": \"#999999\", \"width\": 0.5, \"weight\": 0.16666666666666666}, {\"source\": \"n_53\", \"target\": \"n_93\", \"color\": \"#999999\", \"width\": 0.5, \"weight\": 0.16666666666666666}, {\"source\": \"n_86\", \"target\": \"n_269\", \"color\": \"#999999\", \"width\": 0.5, \"weight\": 0.5}, {\"source\": \"n_12\", \"target\": \"n_60\", \"color\": \"#999999\", \"width\": 0.5, \"weight\": 0.125}, {\"source\": \"n_12\", \"target\": \"n_136\", \"color\": \"#999999\", \"width\": 0.5, \"weight\": 0.125}, {\"source\": \"n_107\", \"target\": \"n_114\", \"color\": \"#999999\", \"width\": 0.5, \"weight\": 0.125}, {\"source\": \"n_211\", \"target\": \"n_298\", \"color\": \"#999999\", \"width\": 0.5, \"weight\": 0.5}, {\"source\": \"n_53\", \"target\": \"n_242\", \"color\": \"#999999\", \"width\": 0.5, \"weight\": 0.5}, {\"source\": \"n_35\", \"target\": \"n_67\", \"color\": \"#999999\", \"width\": 0.5, \"weight\": 0.5}, {\"source\": \"n_15\", \"target\": \"n_109\", \"color\": \"#999999\", \"width\": 0.5, \"weight\": 0.5}, {\"source\": \"n_155\", \"target\": \"n_177\", \"color\": \"#999999\", \"width\": 0.5, \"weight\": 0.25}, {\"source\": \"n_113\", \"target\": \"n_163\", \"color\": \"#999999\", \"width\": 0.5, \"weight\": 0.5}, {\"source\": \"n_13\", \"target\": \"n_16\", \"color\": \"#999999\", \"width\": 0.5, \"weight\": 0.5}, {\"source\": \"n_18\", \"target\": \"n_262\", \"color\": \"#999999\", \"width\": 0.5, \"weight\": 0.5}, {\"source\": \"n_120\", \"target\": \"n_230\", \"color\": \"#999999\", \"width\": 0.5, \"weight\": 0.16666666666666666}, {\"source\": \"n_40\", \"target\": \"n_299\", \"color\": \"#999999\", \"width\": 0.5, \"weight\": 0.5}, {\"source\": \"n_226\", \"target\": \"n_252\", \"color\": \"#999999\", \"width\": 0.5, \"weight\": 0.5}, {\"source\": \"n_107\", \"target\": \"n_117\", \"color\": \"#999999\", \"width\": 0.5, \"weight\": 0.5}, {\"source\": \"n_10\", \"target\": \"n_120\", \"color\": \"#999999\", \"width\": 0.5, \"weight\": 0.5}, {\"source\": \"n_90\", \"target\": \"n_189\", \"color\": \"#999999\", \"width\": 0.5, \"weight\": 0.5}, {\"source\": \"n_105\", \"target\": \"n_141\", \"color\": \"#999999\", \"width\": 0.5, \"weight\": 0.5}, {\"source\": \"n_98\", \"target\": \"n_145\", \"color\": \"#999999\", \"width\": 0.5, \"weight\": 0.5}, {\"source\": \"n_9\", \"target\": \"n_200\", \"color\": \"#999999\", \"width\": 0.5, \"weight\": 0.5}, {\"source\": \"n_104\", \"target\": \"n_124\", \"color\": \"#999999\", \"width\": 0.5, \"weight\": 0.25}, {\"source\": \"n_108\", \"target\": \"n_121\", \"color\": \"#999999\", \"width\": 0.5, \"weight\": 0.16666666666666666}, {\"source\": \"n_39\", \"target\": \"n_218\", \"color\": \"#999999\", \"width\": 0.5, \"weight\": 0.16666666666666666}, {\"source\": \"n_125\", \"target\": \"n_204\", \"color\": \"#999999\", \"width\": 0.5, \"weight\": 0.5}, {\"source\": \"n_178\", \"target\": \"n_258\", \"color\": \"#999999\", \"width\": 0.5, \"weight\": 0.25}, {\"source\": \"n_53\", \"target\": \"n_244\", \"color\": \"#999999\", \"width\": 0.5, \"weight\": 0.5}, {\"source\": \"n_27\", \"target\": \"n_60\", \"color\": \"#999999\", \"width\": 0.5, \"weight\": 0.5}, {\"source\": \"n_51\", \"target\": \"n_121\", \"color\": \"#999999\", \"width\": 0.5, \"weight\": 0.16666666666666666}, {\"source\": \"n_207\", \"target\": \"n_276\", \"color\": \"#999999\", \"width\": 0.5, \"weight\": 0.5}, {\"source\": \"n_119\", \"target\": \"n_143\", \"color\": \"#999999\", \"width\": 0.5, \"weight\": 0.5}, {\"source\": \"n_190\", \"target\": \"n_230\", \"color\": \"#999999\", \"width\": 0.5, \"weight\": 0.5}, {\"source\": \"n_255\", \"target\": \"n_285\", \"color\": \"#999999\", \"width\": 0.5, \"weight\": 0.5}, {\"source\": \"n_135\", \"target\": \"n_274\", \"color\": \"#999999\", \"width\": 0.5, \"weight\": 0.5}, {\"source\": \"n_140\", \"target\": \"n_213\", \"color\": \"#999999\", \"width\": 0.5, \"weight\": 0.5}, {\"source\": \"n_66\", \"target\": \"n_288\", \"color\": \"#999999\", \"width\": 0.5, \"weight\": 0.5}, {\"source\": \"n_59\", \"target\": \"n_205\", \"color\": \"#999999\", \"width\": 0.5, \"weight\": 0.16666666666666666}, {\"source\": \"n_111\", \"target\": \"n_121\", \"color\": \"#999999\", \"width\": 0.5, \"weight\": 0.5}, {\"source\": \"n_28\", \"target\": \"n_297\", \"color\": \"#999999\", \"width\": 0.5, \"weight\": 0.5}, {\"source\": \"n_100\", \"target\": \"n_191\", \"color\": \"#999999\", \"width\": 0.5, \"weight\": 0.5}, {\"source\": \"n_88\", \"target\": \"n_291\", \"color\": \"#999999\", \"width\": 0.5, \"weight\": 0.5}, {\"source\": \"n_162\", \"target\": \"n_232\", \"color\": \"#999999\", \"width\": 0.5, \"weight\": 0.5}, {\"source\": \"n_61\", \"target\": \"n_126\", \"color\": \"#999999\", \"width\": 0.5, \"weight\": 0.5}, {\"source\": \"n_142\", \"target\": \"n_193\", \"color\": \"#999999\", \"width\": 0.5, \"weight\": 0.5}, {\"source\": \"n_83\", \"target\": \"n_91\", \"color\": \"#999999\", \"width\": 0.5, \"weight\": 0.5}, {\"source\": \"n_101\", \"target\": \"n_102\", \"color\": \"#999999\", \"width\": 0.5, \"weight\": 0.5}, {\"source\": \"n_120\", \"target\": \"n_295\", \"color\": \"#999999\", \"width\": 0.5, \"weight\": 0.5}, {\"source\": \"n_283\", \"target\": \"n_296\", \"color\": \"#999999\", \"width\": 0.5, \"weight\": 0.16666666666666666}, {\"source\": \"n_1\", \"target\": \"n_136\", \"color\": \"#999999\", \"width\": 0.5, \"weight\": 0.5}, {\"source\": \"n_76\", \"target\": \"n_247\", \"color\": \"#999999\", \"width\": 0.5, \"weight\": 0.5}, {\"source\": \"n_59\", \"target\": \"n_224\", \"color\": \"#999999\", \"width\": 0.5, \"weight\": 0.5}, {\"source\": \"n_136\", \"target\": \"n_205\", \"color\": \"#999999\", \"width\": 0.5, \"weight\": 0.16666666666666666}, {\"source\": \"n_185\", \"target\": \"n_250\", \"color\": \"#999999\", \"width\": 0.5, \"weight\": 0.5}, {\"source\": \"n_63\", \"target\": \"n_151\", \"color\": \"#999999\", \"width\": 0.5, \"weight\": 0.25}, {\"source\": \"n_53\", \"target\": \"n_175\", \"color\": \"#999999\", \"width\": 0.5, \"weight\": 0.5}, {\"source\": \"n_67\", \"target\": \"n_239\", \"color\": \"#999999\", \"width\": 0.5, \"weight\": 0.5}, {\"source\": \"n_82\", \"target\": \"n_167\", \"color\": \"#999999\", \"width\": 0.5, \"weight\": 0.5}, {\"source\": \"n_79\", \"target\": \"n_123\", \"color\": \"#999999\", \"width\": 0.5, \"weight\": 0.16666666666666666}, {\"source\": \"n_45\", \"target\": \"n_67\", \"color\": \"#999999\", \"width\": 0.5, \"weight\": 0.16666666666666666}, {\"source\": \"n_42\", \"target\": \"n_128\", \"color\": \"#999999\", \"width\": 0.5, \"weight\": 0.5}, {\"source\": \"n_179\", \"target\": \"n_296\", \"color\": \"#999999\", \"width\": 0.5, \"weight\": 0.5}, {\"source\": \"n_216\", \"target\": \"n_236\", \"color\": \"#999999\", \"width\": 0.5, \"weight\": 0.5}, {\"source\": \"n_11\", \"target\": \"n_93\", \"color\": \"#999999\", \"width\": 0.5, \"weight\": 0.5}, {\"source\": \"n_81\", \"target\": \"n_260\", \"color\": \"#999999\", \"width\": 0.5, \"weight\": 0.5}, {\"source\": \"n_146\", \"target\": \"n_296\", \"color\": \"#999999\", \"width\": 0.5, \"weight\": 0.5}, {\"source\": \"n_31\", \"target\": \"n_53\", \"color\": \"#999999\", \"width\": 0.5, \"weight\": 0.5}, {\"source\": \"n_85\", \"target\": \"n_270\", \"color\": \"#999999\", \"width\": 0.5, \"weight\": 0.5}, {\"source\": \"n_234\", \"target\": \"n_248\", \"color\": \"#999999\", \"width\": 0.5, \"weight\": 0.5}, {\"source\": \"n_141\", \"target\": \"n_170\", \"color\": \"#999999\", \"width\": 0.5, \"weight\": 0.5}, {\"source\": \"n_109\", \"target\": \"n_200\", \"color\": \"#999999\", \"width\": 0.5, \"weight\": 0.1}, {\"source\": \"n_129\", \"target\": \"n_206\", \"color\": \"#999999\", \"width\": 0.5, \"weight\": 0.5}, {\"source\": \"n_30\", \"target\": \"n_121\", \"color\": \"#999999\", \"width\": 0.5, \"weight\": 0.5}, {\"source\": \"n_25\", \"target\": \"n_72\", \"color\": \"#999999\", \"width\": 0.5, \"weight\": 0.5}, {\"source\": \"n_218\", \"target\": \"n_248\", \"color\": \"#999999\", \"width\": 0.5, \"weight\": 0.16666666666666666}, {\"source\": \"n_266\", \"target\": \"n_294\", \"color\": \"#999999\", \"width\": 0.5, \"weight\": 0.5}, {\"source\": \"n_167\", \"target\": \"n_209\", \"color\": \"#999999\", \"width\": 0.5, \"weight\": 0.5}, {\"source\": \"n_49\", \"target\": \"n_228\", \"color\": \"#999999\", \"width\": 0.5, \"weight\": 0.5}, {\"source\": \"n_121\", \"target\": \"n_221\", \"color\": \"#999999\", \"width\": 0.5, \"weight\": 0.5}, {\"source\": \"n_113\", \"target\": \"n_275\", \"color\": \"#999999\", \"width\": 0.5, \"weight\": 0.5}, {\"source\": \"n_149\", \"target\": \"n_186\", \"color\": \"#999999\", \"width\": 0.5, \"weight\": 0.5}, {\"source\": \"n_60\", \"target\": \"n_158\", \"color\": \"#999999\", \"width\": 0.5, \"weight\": 0.5}, {\"source\": \"n_4\", \"target\": \"n_37\", \"color\": \"#999999\", \"width\": 0.5, \"weight\": 0.5}, {\"source\": \"n_26\", \"target\": \"n_33\", \"color\": \"#999999\", \"width\": 0.5, \"weight\": 0.5}, {\"source\": \"n_126\", \"target\": \"n_132\", \"color\": \"#999999\", \"width\": 0.5, \"weight\": 0.5}, {\"source\": \"n_12\", \"target\": \"n_156\", \"color\": \"#999999\", \"width\": 0.5, \"weight\": 0.125}, {\"source\": \"n_63\", \"target\": \"n_176\", \"color\": \"#999999\", \"width\": 0.5, \"weight\": 0.5}, {\"source\": \"n_5\", \"target\": \"n_118\", \"color\": \"#999999\", \"width\": 0.5, \"weight\": 0.5}, {\"source\": \"n_94\", \"target\": \"n_206\", \"color\": \"#999999\", \"width\": 0.5, \"weight\": 0.5}, {\"source\": \"n_103\", \"target\": \"n_226\", \"color\": \"#999999\", \"width\": 0.5, \"weight\": 0.25}, {\"source\": \"n_155\", \"target\": \"n_180\", \"color\": \"#999999\", \"width\": 0.5, \"weight\": 0.5}, {\"source\": \"n_50\", \"target\": \"n_245\", \"color\": \"#999999\", \"width\": 0.5, \"weight\": 0.5}, {\"source\": \"n_121\", \"target\": \"n_233\", \"color\": \"#999999\", \"width\": 0.5, \"weight\": 0.25}, {\"source\": \"n_206\", \"target\": \"n_248\", \"color\": \"#999999\", \"width\": 0.5, \"weight\": 0.16666666666666666}, {\"source\": \"n_28\", \"target\": \"n_136\", \"color\": \"#999999\", \"width\": 0.5, \"weight\": 0.25}, {\"source\": \"n_53\", \"target\": \"n_199\", \"color\": \"#999999\", \"width\": 0.5, \"weight\": 0.5}, {\"source\": \"n_43\", \"target\": \"n_266\", \"color\": \"#999999\", \"width\": 0.5, \"weight\": 0.25}, {\"source\": \"n_96\", \"target\": \"n_121\", \"color\": \"#999999\", \"width\": 0.5, \"weight\": 0.5}, {\"source\": \"n_106\", \"target\": \"n_156\", \"color\": \"#999999\", \"width\": 0.5, \"weight\": 0.5}, {\"source\": \"n_60\", \"target\": \"n_116\", \"color\": \"#999999\", \"width\": 0.5, \"weight\": 0.5}, {\"source\": \"n_29\", \"target\": \"n_148\", \"color\": \"#999999\", \"width\": 0.5, \"weight\": 0.5}, {\"source\": \"n_45\", \"target\": \"n_200\", \"color\": \"#999999\", \"width\": 0.5, \"weight\": 0.16666666666666666}, {\"source\": \"n_26\", \"target\": \"n_141\", \"color\": \"#999999\", \"width\": 0.5, \"weight\": 0.16666666666666666}, {\"source\": \"n_98\", \"target\": \"n_212\", \"color\": \"#999999\", \"width\": 0.5, \"weight\": 0.25}, {\"source\": \"n_217\", \"target\": \"n_251\", \"color\": \"#999999\", \"width\": 0.5, \"weight\": 0.5}, {\"source\": \"n_126\", \"target\": \"n_222\", \"color\": \"#999999\", \"width\": 0.5, \"weight\": 0.25}, {\"source\": \"n_210\", \"target\": \"n_218\", \"color\": \"#999999\", \"width\": 0.5, \"weight\": 0.5}, {\"source\": \"n_57\", \"target\": \"n_205\", \"color\": \"#999999\", \"width\": 0.5, \"weight\": 0.5}, {\"source\": \"n_134\", \"target\": \"n_138\", \"color\": \"#999999\", \"width\": 0.5, \"weight\": 0.5}, {\"source\": \"n_139\", \"target\": \"n_260\", \"color\": \"#999999\", \"width\": 0.5, \"weight\": 0.5}, {\"source\": \"n_43\", \"target\": \"n_121\", \"color\": \"#999999\", \"width\": 0.5, \"weight\": 0.25}, {\"source\": \"n_48\", \"target\": \"n_104\", \"color\": \"#999999\", \"width\": 0.5, \"weight\": 0.5}, {\"source\": \"n_181\", \"target\": \"n_230\", \"color\": \"#999999\", \"width\": 0.5, \"weight\": 0.5}, {\"source\": \"n_169\", \"target\": \"n_215\", \"color\": \"#999999\", \"width\": 0.5, \"weight\": 0.25}, {\"source\": \"n_107\", \"target\": \"n_215\", \"color\": \"#999999\", \"width\": 0.5, \"weight\": 0.08333333333333333}, {\"source\": \"n_166\", \"target\": \"n_200\", \"color\": \"#999999\", \"width\": 0.5, \"weight\": 0.25}, {\"source\": \"n_225\", \"target\": \"n_291\", \"color\": \"#999999\", \"width\": 0.5, \"weight\": 0.5}, {\"source\": \"n_3\", \"target\": \"n_22\", \"color\": \"#999999\", \"width\": 0.5, \"weight\": 0.5}, {\"source\": \"n_130\", \"target\": \"n_213\", \"color\": \"#999999\", \"width\": 0.5, \"weight\": 0.5}, {\"source\": \"n_165\", \"target\": \"n_238\", \"color\": \"#999999\", \"width\": 0.5, \"weight\": 0.5}, {\"source\": \"n_78\", \"target\": \"n_222\", \"color\": \"#999999\", \"width\": 0.5, \"weight\": 0.5}, {\"source\": \"n_148\", \"target\": \"n_173\", \"color\": \"#999999\", \"width\": 0.5, \"weight\": 0.5}, {\"source\": \"n_68\", \"target\": \"n_271\", \"color\": \"#999999\", \"width\": 0.5, \"weight\": 0.5}, {\"source\": \"n_115\", \"target\": \"n_160\", \"color\": \"#999999\", \"width\": 0.5, \"weight\": 0.5}, {\"source\": \"n_97\", \"target\": \"n_202\", \"color\": \"#999999\", \"width\": 0.5, \"weight\": 0.5}, {\"source\": \"n_108\", \"target\": \"n_283\", \"color\": \"#999999\", \"width\": 0.5, \"weight\": 0.16666666666666666}, {\"source\": \"n_156\", \"target\": \"n_191\", \"color\": \"#999999\", \"width\": 0.5, \"weight\": 0.25}, {\"source\": \"n_198\", \"target\": \"n_289\", \"color\": \"#999999\", \"width\": 0.5, \"weight\": 0.5}, {\"source\": \"n_60\", \"target\": \"n_284\", \"color\": \"#999999\", \"width\": 0.5, \"weight\": 0.5}, {\"source\": \"n_121\", \"target\": \"n_230\", \"color\": \"#999999\", \"width\": 0.5, \"weight\": 0.1}, {\"source\": \"n_23\", \"target\": \"n_52\", \"color\": \"#999999\", \"width\": 0.5, \"weight\": 0.5}, {\"source\": \"n_258\", \"target\": \"n_266\", \"color\": \"#999999\", \"width\": 0.5, \"weight\": 0.25}, {\"source\": \"n_80\", \"target\": \"n_98\", \"color\": \"#999999\", \"width\": 0.5, \"weight\": 0.5}, {\"source\": \"n_137\", \"target\": \"n_187\", \"color\": \"#999999\", \"width\": 0.5, \"weight\": 0.5}, {\"source\": \"n_219\", \"target\": \"n_220\", \"color\": \"#999999\", \"width\": 0.5, \"weight\": 0.5}, {\"source\": \"n_152\", \"target\": \"n_167\", \"color\": \"#999999\", \"width\": 0.5, \"weight\": 0.5}, {\"source\": \"n_59\", \"target\": \"n_184\", \"color\": \"#999999\", \"width\": 0.5, \"weight\": 0.5}, {\"source\": \"n_197\", \"target\": \"n_273\", \"color\": \"#999999\", \"width\": 0.5, \"weight\": 0.5}, {\"source\": \"n_76\", \"target\": \"n_98\", \"color\": \"#999999\", \"width\": 0.5, \"weight\": 0.25}, {\"source\": \"n_144\", \"target\": \"n_156\", \"color\": \"#999999\", \"width\": 0.5, \"weight\": 0.5}, {\"source\": \"n_70\", \"target\": \"n_79\", \"color\": \"#999999\", \"width\": 0.5, \"weight\": 0.16666666666666666}, {\"source\": \"n_75\", \"target\": \"n_121\", \"color\": \"#999999\", \"width\": 0.5, \"weight\": 0.5}, {\"source\": \"n_107\", \"target\": \"n_287\", \"color\": \"#999999\", \"width\": 0.5, \"weight\": 0.5}, {\"source\": \"n_174\", \"target\": \"n_195\", \"color\": \"#999999\", \"width\": 0.5, \"weight\": 0.5}, {\"source\": \"n_246\", \"target\": \"n_290\", \"color\": \"#999999\", \"width\": 0.5, \"weight\": 0.5}, {\"source\": \"n_131\", \"target\": \"n_177\", \"color\": \"#999999\", \"width\": 0.5, \"weight\": 0.5}, {\"source\": \"n_71\", \"target\": \"n_127\", \"color\": \"#999999\", \"width\": 0.5, \"weight\": 0.5}, {\"source\": \"n_41\", \"target\": \"n_77\", \"color\": \"#999999\", \"width\": 0.5, \"weight\": 0.5}, {\"source\": \"n_169\", \"target\": \"n_286\", \"color\": \"#999999\", \"width\": 0.5, \"weight\": 0.25}, {\"source\": \"n_121\", \"target\": \"n_256\", \"color\": \"#999999\", \"width\": 0.5, \"weight\": 0.5}, {\"source\": \"n_70\", \"target\": \"n_233\", \"color\": \"#999999\", \"width\": 0.5, \"weight\": 0.25}, {\"source\": \"n_47\", \"target\": \"n_283\", \"color\": \"#999999\", \"width\": 0.5, \"weight\": 0.5}, {\"source\": \"n_87\", \"target\": \"n_200\", \"color\": \"#999999\", \"width\": 0.5, \"weight\": 0.5}, {\"source\": \"n_51\", \"target\": \"n_157\", \"color\": \"#999999\", \"width\": 0.5, \"weight\": 0.5}, {\"source\": \"n_39\", \"target\": \"n_121\", \"color\": \"#999999\", \"width\": 0.5, \"weight\": 0.16666666666666666}, {\"source\": \"n_108\", \"target\": \"n_243\", \"color\": \"#999999\", \"width\": 0.5, \"weight\": 0.5}, {\"source\": \"n_109\", \"target\": \"n_213\", \"color\": \"#999999\", \"width\": 0.5, \"weight\": 0.125}, {\"source\": \"n_99\", \"target\": \"n_114\", \"color\": \"#999999\", \"width\": 0.5, \"weight\": 0.5}, {\"source\": \"n_73\", \"target\": \"n_231\", \"color\": \"#999999\", \"width\": 0.5, \"weight\": 0.5}, {\"source\": \"n_23\", \"target\": \"n_249\", \"color\": \"#999999\", \"width\": 0.5, \"weight\": 0.5}, {\"source\": \"n_150\", \"target\": \"n_178\", \"color\": \"#999999\", \"width\": 0.5, \"weight\": 0.25}, {\"source\": \"n_45\", \"target\": \"n_188\", \"color\": \"#999999\", \"width\": 0.5, \"weight\": 0.5}, {\"source\": \"n_79\", \"target\": \"n_277\", \"color\": \"#999999\", \"width\": 0.5, \"weight\": 0.5}, {\"source\": \"n_77\", \"target\": \"n_278\", \"color\": \"#999999\", \"width\": 0.5, \"weight\": 0.5}, {\"source\": \"n_265\", \"target\": \"n_280\", \"color\": \"#999999\", \"width\": 0.5, \"weight\": 0.5}], \"nodes\": [{\"id\": \"n_0\", \"text\": \"n_0\", \"color\": \"#99ccff\", \"size\": 5.0}, {\"id\": \"n_1\", \"text\": \"n_1\", \"color\": \"#99ccff\", \"size\": 5.0}, {\"id\": \"n_2\", \"text\": \"n_2\", \"color\": \"#99ccff\", \"size\": 5.0}, {\"id\": \"n_3\", \"text\": \"n_3\", \"color\": \"#99ccff\", \"size\": 5.0}, {\"id\": \"n_4\", \"text\": \"n_4\", \"color\": \"#99ccff\", \"size\": 5.0}, {\"id\": \"n_5\", \"text\": \"n_5\", \"color\": \"#99ccff\", \"size\": 5.0}, {\"id\": \"n_6\", \"text\": \"n_6\", \"color\": \"#99ccff\", \"size\": 5.0}, {\"id\": \"n_7\", \"text\": \"n_7\", \"color\": \"#99ccff\", \"size\": 5.0}, {\"id\": \"n_8\", \"text\": \"n_8\", \"color\": \"#99ccff\", \"size\": 5.0}, {\"id\": \"n_9\", \"text\": \"n_9\", \"color\": \"#99ccff\", \"size\": 5.0}, {\"id\": \"n_10\", \"text\": \"n_10\", \"color\": \"#99ccff\", \"size\": 5.0}, {\"id\": \"n_11\", \"text\": \"n_11\", \"color\": \"#99ccff\", \"size\": 5.0}, {\"id\": \"n_12\", \"text\": \"n_12\", \"color\": \"#99ccff\", \"size\": 5.0}, {\"id\": \"n_13\", \"text\": \"n_13\", \"color\": \"#99ccff\", \"size\": 5.0}, {\"id\": \"n_14\", \"text\": \"n_14\", \"color\": \"#99ccff\", \"size\": 5.0}, {\"id\": \"n_15\", \"text\": \"n_15\", \"color\": \"#99ccff\", \"size\": 5.0}, {\"id\": \"n_16\", \"text\": \"n_16\", \"color\": \"#99ccff\", \"size\": 5.0}, {\"id\": \"n_17\", \"text\": \"n_17\", \"color\": \"#99ccff\", \"size\": 5.0}, {\"id\": \"n_18\", \"text\": \"n_18\", \"color\": \"#99ccff\", \"size\": 5.0}, {\"id\": \"n_19\", \"text\": \"n_19\", \"color\": \"#99ccff\", \"size\": 5.0}, {\"id\": \"n_20\", \"text\": \"n_20\", \"color\": \"#99ccff\", \"size\": 5.0}, {\"id\": \"n_21\", \"text\": \"n_21\", \"color\": \"#99ccff\", \"size\": 5.0}, {\"id\": \"n_22\", \"text\": \"n_22\", \"color\": \"#99ccff\", \"size\": 5.0}, {\"id\": \"n_23\", \"text\": \"n_23\", \"color\": \"#99ccff\", \"size\": 5.0}, {\"id\": \"n_24\", \"text\": \"n_24\", \"color\": \"#99ccff\", \"size\": 5.0}, {\"id\": \"n_25\", \"text\": \"n_25\", \"color\": \"#99ccff\", \"size\": 5.0}, {\"id\": \"n_26\", \"text\": \"n_26\", \"color\": \"#99ccff\", \"size\": 5.0}, {\"id\": \"n_27\", \"text\": \"n_27\", \"color\": \"#99ccff\", \"size\": 5.0}, {\"id\": \"n_28\", \"text\": \"n_28\", \"color\": \"#99ccff\", \"size\": 5.0}, {\"id\": \"n_29\", \"text\": \"n_29\", \"color\": \"#99ccff\", \"size\": 5.0}, {\"id\": \"n_30\", \"text\": \"n_30\", \"color\": \"#99ccff\", \"size\": 5.0}, {\"id\": \"n_31\", \"text\": \"n_31\", \"color\": \"#99ccff\", \"size\": 5.0}, {\"id\": \"n_32\", \"text\": \"n_32\", \"color\": \"#99ccff\", \"size\": 5.0}, {\"id\": \"n_33\", \"text\": \"n_33\", \"color\": \"#99ccff\", \"size\": 5.0}, {\"id\": \"n_34\", \"text\": \"n_34\", \"color\": \"#99ccff\", \"size\": 5.0}, {\"id\": \"n_35\", \"text\": \"n_35\", \"color\": \"#99ccff\", \"size\": 5.0}, {\"id\": \"n_36\", \"text\": \"n_36\", \"color\": \"#99ccff\", \"size\": 5.0}, {\"id\": \"n_37\", \"text\": \"n_37\", \"color\": \"#99ccff\", \"size\": 5.0}, {\"id\": \"n_38\", \"text\": \"n_38\", \"color\": \"#99ccff\", \"size\": 5.0}, {\"id\": \"n_39\", \"text\": \"n_39\", \"color\": \"#99ccff\", \"size\": 5.0}, {\"id\": \"n_40\", \"text\": \"n_40\", \"color\": \"#99ccff\", \"size\": 5.0}, {\"id\": \"n_41\", \"text\": \"n_41\", \"color\": \"#99ccff\", \"size\": 5.0}, {\"id\": \"n_42\", \"text\": \"n_42\", \"color\": \"#99ccff\", \"size\": 5.0}, {\"id\": \"n_43\", \"text\": \"n_43\", \"color\": \"#99ccff\", \"size\": 5.0}, {\"id\": \"n_44\", \"text\": \"n_44\", \"color\": \"#99ccff\", \"size\": 5.0}, {\"id\": \"n_45\", \"text\": \"n_45\", \"color\": \"#99ccff\", \"size\": 5.0}, {\"id\": \"n_46\", \"text\": \"n_46\", \"color\": \"#99ccff\", \"size\": 5.0}, {\"id\": \"n_47\", \"text\": \"n_47\", \"color\": \"#99ccff\", \"size\": 5.0}, {\"id\": \"n_48\", \"text\": \"n_48\", \"color\": \"#99ccff\", \"size\": 5.0}, {\"id\": \"n_49\", \"text\": \"n_49\", \"color\": \"#99ccff\", \"size\": 5.0}, {\"id\": \"n_50\", \"text\": \"n_50\", \"color\": \"#99ccff\", \"size\": 5.0}, {\"id\": \"n_51\", \"text\": \"n_51\", \"color\": \"#99ccff\", \"size\": 5.0}, {\"id\": \"n_52\", \"text\": \"n_52\", \"color\": \"#99ccff\", \"size\": 5.0}, {\"id\": \"n_53\", \"text\": \"n_53\", \"color\": \"#99ccff\", \"size\": 5.0}, {\"id\": \"n_54\", \"text\": \"n_54\", \"color\": \"#99ccff\", \"size\": 5.0}, {\"id\": \"n_55\", \"text\": \"n_55\", \"color\": \"#99ccff\", \"size\": 5.0}, {\"id\": \"n_56\", \"text\": \"n_56\", \"color\": \"#99ccff\", \"size\": 5.0}, {\"id\": \"n_57\", \"text\": \"n_57\", \"color\": \"#99ccff\", \"size\": 5.0}, {\"id\": \"n_58\", \"text\": \"n_58\", \"color\": \"#99ccff\", \"size\": 5.0}, {\"id\": \"n_59\", \"text\": \"n_59\", \"color\": \"#99ccff\", \"size\": 5.0}, {\"id\": \"n_60\", \"text\": \"n_60\", \"color\": \"#99ccff\", \"size\": 5.0}, {\"id\": \"n_61\", \"text\": \"n_61\", \"color\": \"#99ccff\", \"size\": 5.0}, {\"id\": \"n_62\", \"text\": \"n_62\", \"color\": \"#99ccff\", \"size\": 5.0}, {\"id\": \"n_63\", \"text\": \"n_63\", \"color\": \"#99ccff\", \"size\": 5.0}, {\"id\": \"n_64\", \"text\": \"n_64\", \"color\": \"#99ccff\", \"size\": 5.0}, {\"id\": \"n_65\", \"text\": \"n_65\", \"color\": \"#99ccff\", \"size\": 5.0}, {\"id\": \"n_66\", \"text\": \"n_66\", \"color\": \"#99ccff\", \"size\": 5.0}, {\"id\": \"n_67\", \"text\": \"n_67\", \"color\": \"#99ccff\", \"size\": 5.0}, {\"id\": \"n_68\", \"text\": \"n_68\", \"color\": \"#99ccff\", \"size\": 5.0}, {\"id\": \"n_69\", \"text\": \"n_69\", \"color\": \"#99ccff\", \"size\": 5.0}, {\"id\": \"n_70\", \"text\": \"n_70\", \"color\": \"#99ccff\", \"size\": 5.0}, {\"id\": \"n_71\", \"text\": \"n_71\", \"color\": \"#99ccff\", \"size\": 5.0}, {\"id\": \"n_72\", \"text\": \"n_72\", \"color\": \"#99ccff\", \"size\": 5.0}, {\"id\": \"n_73\", \"text\": \"n_73\", \"color\": \"#99ccff\", \"size\": 5.0}, {\"id\": \"n_74\", \"text\": \"n_74\", \"color\": \"#99ccff\", \"size\": 5.0}, {\"id\": \"n_75\", \"text\": \"n_75\", \"color\": \"#99ccff\", \"size\": 5.0}, {\"id\": \"n_76\", \"text\": \"n_76\", \"color\": \"#99ccff\", \"size\": 5.0}, {\"id\": \"n_77\", \"text\": \"n_77\", \"color\": \"#99ccff\", \"size\": 5.0}, {\"id\": \"n_78\", \"text\": \"n_78\", \"color\": \"#99ccff\", \"size\": 5.0}, {\"id\": \"n_79\", \"text\": \"n_79\", \"color\": \"#99ccff\", \"size\": 5.0}, {\"id\": \"n_80\", \"text\": \"n_80\", \"color\": \"#99ccff\", \"size\": 5.0}, {\"id\": \"n_81\", \"text\": \"n_81\", \"color\": \"#99ccff\", \"size\": 5.0}, {\"id\": \"n_82\", \"text\": \"n_82\", \"color\": \"#99ccff\", \"size\": 5.0}, {\"id\": \"n_83\", \"text\": \"n_83\", \"color\": \"#99ccff\", \"size\": 5.0}, {\"id\": \"n_84\", \"text\": \"n_84\", \"color\": \"#99ccff\", \"size\": 5.0}, {\"id\": \"n_85\", \"text\": \"n_85\", \"color\": \"#99ccff\", \"size\": 5.0}, {\"id\": \"n_86\", \"text\": \"n_86\", \"color\": \"#99ccff\", \"size\": 5.0}, {\"id\": \"n_87\", \"text\": \"n_87\", \"color\": \"#99ccff\", \"size\": 5.0}, {\"id\": \"n_88\", \"text\": \"n_88\", \"color\": \"#99ccff\", \"size\": 5.0}, {\"id\": \"n_89\", \"text\": \"n_89\", \"color\": \"#99ccff\", \"size\": 5.0}, {\"id\": \"n_90\", \"text\": \"n_90\", \"color\": \"#99ccff\", \"size\": 5.0}, {\"id\": \"n_91\", \"text\": \"n_91\", \"color\": \"#99ccff\", \"size\": 5.0}, {\"id\": \"n_92\", \"text\": \"n_92\", \"color\": \"#99ccff\", \"size\": 5.0}, {\"id\": \"n_93\", \"text\": \"n_93\", \"color\": \"#99ccff\", \"size\": 5.0}, {\"id\": \"n_94\", \"text\": \"n_94\", \"color\": \"#99ccff\", \"size\": 5.0}, {\"id\": \"n_95\", \"text\": \"n_95\", \"color\": \"#99ccff\", \"size\": 5.0}, {\"id\": \"n_96\", \"text\": \"n_96\", \"color\": \"#99ccff\", \"size\": 5.0}, {\"id\": \"n_97\", \"text\": \"n_97\", \"color\": \"#99ccff\", \"size\": 5.0}, {\"id\": \"n_98\", \"text\": \"n_98\", \"color\": \"#99ccff\", \"size\": 5.0}, {\"id\": \"n_99\", \"text\": \"n_99\", \"color\": \"#99ccff\", \"size\": 5.0}, {\"id\": \"n_100\", \"text\": \"n_100\", \"color\": \"#99ccff\", \"size\": 5.0}, {\"id\": \"n_101\", \"text\": \"n_101\", \"color\": \"#99ccff\", \"size\": 5.0}, {\"id\": \"n_102\", \"text\": \"n_102\", \"color\": \"#99ccff\", \"size\": 5.0}, {\"id\": \"n_103\", \"text\": \"n_103\", \"color\": \"#99ccff\", \"size\": 5.0}, {\"id\": \"n_104\", \"text\": \"n_104\", \"color\": \"#99ccff\", \"size\": 5.0}, {\"id\": \"n_105\", \"text\": \"n_105\", \"color\": \"#99ccff\", \"size\": 5.0}, {\"id\": \"n_106\", \"text\": \"n_106\", \"color\": \"#99ccff\", \"size\": 5.0}, {\"id\": \"n_107\", \"text\": \"n_107\", \"color\": \"#99ccff\", \"size\": 5.0}, {\"id\": \"n_108\", \"text\": \"n_108\", \"color\": \"#99ccff\", \"size\": 5.0}, {\"id\": \"n_109\", \"text\": \"n_109\", \"color\": \"#99ccff\", \"size\": 5.0}, {\"id\": \"n_110\", \"text\": \"n_110\", \"color\": \"#99ccff\", \"size\": 5.0}, {\"id\": \"n_111\", \"text\": \"n_111\", \"color\": \"#99ccff\", \"size\": 5.0}, {\"id\": \"n_112\", \"text\": \"n_112\", \"color\": \"#99ccff\", \"size\": 5.0}, {\"id\": \"n_113\", \"text\": \"n_113\", \"color\": \"#99ccff\", \"size\": 5.0}, {\"id\": \"n_114\", \"text\": \"n_114\", \"color\": \"#99ccff\", \"size\": 5.0}, {\"id\": \"n_115\", \"text\": \"n_115\", \"color\": \"#99ccff\", \"size\": 5.0}, {\"id\": \"n_116\", \"text\": \"n_116\", \"color\": \"#99ccff\", \"size\": 5.0}, {\"id\": \"n_117\", \"text\": \"n_117\", \"color\": \"#99ccff\", \"size\": 5.0}, {\"id\": \"n_118\", \"text\": \"n_118\", \"color\": \"#99ccff\", \"size\": 5.0}, {\"id\": \"n_119\", \"text\": \"n_119\", \"color\": \"#99ccff\", \"size\": 5.0}, {\"id\": \"n_120\", \"text\": \"n_120\", \"color\": \"#99ccff\", \"size\": 5.0}, {\"id\": \"n_121\", \"text\": \"n_121\", \"color\": \"#99ccff\", \"size\": 5.0}, {\"id\": \"n_122\", \"text\": \"n_122\", \"color\": \"#99ccff\", \"size\": 5.0}, {\"id\": \"n_123\", \"text\": \"n_123\", \"color\": \"#99ccff\", \"size\": 5.0}, {\"id\": \"n_124\", \"text\": \"n_124\", \"color\": \"#99ccff\", \"size\": 5.0}, {\"id\": \"n_125\", \"text\": \"n_125\", \"color\": \"#99ccff\", \"size\": 5.0}, {\"id\": \"n_126\", \"text\": \"n_126\", \"color\": \"#99ccff\", \"size\": 5.0}, {\"id\": \"n_127\", \"text\": \"n_127\", \"color\": \"#99ccff\", \"size\": 5.0}, {\"id\": \"n_128\", \"text\": \"n_128\", \"color\": \"#99ccff\", \"size\": 5.0}, {\"id\": \"n_129\", \"text\": \"n_129\", \"color\": \"#99ccff\", \"size\": 5.0}, {\"id\": \"n_130\", \"text\": \"n_130\", \"color\": \"#99ccff\", \"size\": 5.0}, {\"id\": \"n_131\", \"text\": \"n_131\", \"color\": \"#99ccff\", \"size\": 5.0}, {\"id\": \"n_132\", \"text\": \"n_132\", \"color\": \"#99ccff\", \"size\": 5.0}, {\"id\": \"n_133\", \"text\": \"n_133\", \"color\": \"#99ccff\", \"size\": 5.0}, {\"id\": \"n_134\", \"text\": \"n_134\", \"color\": \"#99ccff\", \"size\": 5.0}, {\"id\": \"n_135\", \"text\": \"n_135\", \"color\": \"#99ccff\", \"size\": 5.0}, {\"id\": \"n_136\", \"text\": \"n_136\", \"color\": \"#99ccff\", \"size\": 5.0}, {\"id\": \"n_137\", \"text\": \"n_137\", \"color\": \"#99ccff\", \"size\": 5.0}, {\"id\": \"n_138\", \"text\": \"n_138\", \"color\": \"#99ccff\", \"size\": 5.0}, {\"id\": \"n_139\", \"text\": \"n_139\", \"color\": \"#99ccff\", \"size\": 5.0}, {\"id\": \"n_140\", \"text\": \"n_140\", \"color\": \"#99ccff\", \"size\": 5.0}, {\"id\": \"n_141\", \"text\": \"n_141\", \"color\": \"#99ccff\", \"size\": 5.0}, {\"id\": \"n_142\", \"text\": \"n_142\", \"color\": \"#99ccff\", \"size\": 5.0}, {\"id\": \"n_143\", \"text\": \"n_143\", \"color\": \"#99ccff\", \"size\": 5.0}, {\"id\": \"n_144\", \"text\": \"n_144\", \"color\": \"#99ccff\", \"size\": 5.0}, {\"id\": \"n_145\", \"text\": \"n_145\", \"color\": \"#99ccff\", \"size\": 5.0}, {\"id\": \"n_146\", \"text\": \"n_146\", \"color\": \"#99ccff\", \"size\": 5.0}, {\"id\": \"n_147\", \"text\": \"n_147\", \"color\": \"#99ccff\", \"size\": 5.0}, {\"id\": \"n_148\", \"text\": \"n_148\", \"color\": \"#99ccff\", \"size\": 5.0}, {\"id\": \"n_149\", \"text\": \"n_149\", \"color\": \"#99ccff\", \"size\": 5.0}, {\"id\": \"n_150\", \"text\": \"n_150\", \"color\": \"#99ccff\", \"size\": 5.0}, {\"id\": \"n_151\", \"text\": \"n_151\", \"color\": \"#99ccff\", \"size\": 5.0}, {\"id\": \"n_152\", \"text\": \"n_152\", \"color\": \"#99ccff\", \"size\": 5.0}, {\"id\": \"n_153\", \"text\": \"n_153\", \"color\": \"#99ccff\", \"size\": 5.0}, {\"id\": \"n_154\", \"text\": \"n_154\", \"color\": \"#99ccff\", \"size\": 5.0}, {\"id\": \"n_155\", \"text\": \"n_155\", \"color\": \"#99ccff\", \"size\": 5.0}, {\"id\": \"n_156\", \"text\": \"n_156\", \"color\": \"#99ccff\", \"size\": 5.0}, {\"id\": \"n_157\", \"text\": \"n_157\", \"color\": \"#99ccff\", \"size\": 5.0}, {\"id\": \"n_158\", \"text\": \"n_158\", \"color\": \"#99ccff\", \"size\": 5.0}, {\"id\": \"n_159\", \"text\": \"n_159\", \"color\": \"#99ccff\", \"size\": 5.0}, {\"id\": \"n_160\", \"text\": \"n_160\", \"color\": \"#99ccff\", \"size\": 5.0}, {\"id\": \"n_161\", \"text\": \"n_161\", \"color\": \"#99ccff\", \"size\": 5.0}, {\"id\": \"n_162\", \"text\": \"n_162\", \"color\": \"#99ccff\", \"size\": 5.0}, {\"id\": \"n_163\", \"text\": \"n_163\", \"color\": \"#99ccff\", \"size\": 5.0}, {\"id\": \"n_164\", \"text\": \"n_164\", \"color\": \"#99ccff\", \"size\": 5.0}, {\"id\": \"n_165\", \"text\": \"n_165\", \"color\": \"#99ccff\", \"size\": 5.0}, {\"id\": \"n_166\", \"text\": \"n_166\", \"color\": \"#99ccff\", \"size\": 5.0}, {\"id\": \"n_167\", \"text\": \"n_167\", \"color\": \"#99ccff\", \"size\": 5.0}, {\"id\": \"n_168\", \"text\": \"n_168\", \"color\": \"#99ccff\", \"size\": 5.0}, {\"id\": \"n_169\", \"text\": \"n_169\", \"color\": \"#99ccff\", \"size\": 5.0}, {\"id\": \"n_170\", \"text\": \"n_170\", \"color\": \"#99ccff\", \"size\": 5.0}, {\"id\": \"n_171\", \"text\": \"n_171\", \"color\": \"#99ccff\", \"size\": 5.0}, {\"id\": \"n_172\", \"text\": \"n_172\", \"color\": \"#99ccff\", \"size\": 5.0}, {\"id\": \"n_173\", \"text\": \"n_173\", \"color\": \"#99ccff\", \"size\": 5.0}, {\"id\": \"n_174\", \"text\": \"n_174\", \"color\": \"#99ccff\", \"size\": 5.0}, {\"id\": \"n_175\", \"text\": \"n_175\", \"color\": \"#99ccff\", \"size\": 5.0}, {\"id\": \"n_176\", \"text\": \"n_176\", \"color\": \"#99ccff\", \"size\": 5.0}, {\"id\": \"n_177\", \"text\": \"n_177\", \"color\": \"#99ccff\", \"size\": 5.0}, {\"id\": \"n_178\", \"text\": \"n_178\", \"color\": \"#99ccff\", \"size\": 5.0}, {\"id\": \"n_179\", \"text\": \"n_179\", \"color\": \"#99ccff\", \"size\": 5.0}, {\"id\": \"n_180\", \"text\": \"n_180\", \"color\": \"#99ccff\", \"size\": 5.0}, {\"id\": \"n_181\", \"text\": \"n_181\", \"color\": \"#99ccff\", \"size\": 5.0}, {\"id\": \"n_182\", \"text\": \"n_182\", \"color\": \"#99ccff\", \"size\": 5.0}, {\"id\": \"n_183\", \"text\": \"n_183\", \"color\": \"#99ccff\", \"size\": 5.0}, {\"id\": \"n_184\", \"text\": \"n_184\", \"color\": \"#99ccff\", \"size\": 5.0}, {\"id\": \"n_185\", \"text\": \"n_185\", \"color\": \"#99ccff\", \"size\": 5.0}, {\"id\": \"n_186\", \"text\": \"n_186\", \"color\": \"#99ccff\", \"size\": 5.0}, {\"id\": \"n_187\", \"text\": \"n_187\", \"color\": \"#99ccff\", \"size\": 5.0}, {\"id\": \"n_188\", \"text\": \"n_188\", \"color\": \"#99ccff\", \"size\": 5.0}, {\"id\": \"n_189\", \"text\": \"n_189\", \"color\": \"#99ccff\", \"size\": 5.0}, {\"id\": \"n_190\", \"text\": \"n_190\", \"color\": \"#99ccff\", \"size\": 5.0}, {\"id\": \"n_191\", \"text\": \"n_191\", \"color\": \"#99ccff\", \"size\": 5.0}, {\"id\": \"n_192\", \"text\": \"n_192\", \"color\": \"#99ccff\", \"size\": 5.0}, {\"id\": \"n_193\", \"text\": \"n_193\", \"color\": \"#99ccff\", \"size\": 5.0}, {\"id\": \"n_194\", \"text\": \"n_194\", \"color\": \"#99ccff\", \"size\": 5.0}, {\"id\": \"n_195\", \"text\": \"n_195\", \"color\": \"#99ccff\", \"size\": 5.0}, {\"id\": \"n_196\", \"text\": \"n_196\", \"color\": \"#99ccff\", \"size\": 5.0}, {\"id\": \"n_197\", \"text\": \"n_197\", \"color\": \"#99ccff\", \"size\": 5.0}, {\"id\": \"n_198\", \"text\": \"n_198\", \"color\": \"#99ccff\", \"size\": 5.0}, {\"id\": \"n_199\", \"text\": \"n_199\", \"color\": \"#99ccff\", \"size\": 5.0}, {\"id\": \"n_200\", \"text\": \"n_200\", \"color\": \"#99ccff\", \"size\": 5.0}, {\"id\": \"n_201\", \"text\": \"n_201\", \"color\": \"#99ccff\", \"size\": 5.0}, {\"id\": \"n_202\", \"text\": \"n_202\", \"color\": \"#99ccff\", \"size\": 5.0}, {\"id\": \"n_203\", \"text\": \"n_203\", \"color\": \"#99ccff\", \"size\": 5.0}, {\"id\": \"n_204\", \"text\": \"n_204\", \"color\": \"#99ccff\", \"size\": 5.0}, {\"id\": \"n_205\", \"text\": \"n_205\", \"color\": \"#99ccff\", \"size\": 5.0}, {\"id\": \"n_206\", \"text\": \"n_206\", \"color\": \"#99ccff\", \"size\": 5.0}, {\"id\": \"n_207\", \"text\": \"n_207\", \"color\": \"#99ccff\", \"size\": 5.0}, {\"id\": \"n_208\", \"text\": \"n_208\", \"color\": \"#99ccff\", \"size\": 5.0}, {\"id\": \"n_209\", \"text\": \"n_209\", \"color\": \"#99ccff\", \"size\": 5.0}, {\"id\": \"n_210\", \"text\": \"n_210\", \"color\": \"#99ccff\", \"size\": 5.0}, {\"id\": \"n_211\", \"text\": \"n_211\", \"color\": \"#99ccff\", \"size\": 5.0}, {\"id\": \"n_212\", \"text\": \"n_212\", \"color\": \"#99ccff\", \"size\": 5.0}, {\"id\": \"n_213\", \"text\": \"n_213\", \"color\": \"#99ccff\", \"size\": 5.0}, {\"id\": \"n_214\", \"text\": \"n_214\", \"color\": \"#99ccff\", \"size\": 5.0}, {\"id\": \"n_215\", \"text\": \"n_215\", \"color\": \"#99ccff\", \"size\": 5.0}, {\"id\": \"n_216\", \"text\": \"n_216\", \"color\": \"#99ccff\", \"size\": 5.0}, {\"id\": \"n_217\", \"text\": \"n_217\", \"color\": \"#99ccff\", \"size\": 5.0}, {\"id\": \"n_218\", \"text\": \"n_218\", \"color\": \"#99ccff\", \"size\": 5.0}, {\"id\": \"n_219\", \"text\": \"n_219\", \"color\": \"#99ccff\", \"size\": 5.0}, {\"id\": \"n_220\", \"text\": \"n_220\", \"color\": \"#99ccff\", \"size\": 5.0}, {\"id\": \"n_221\", \"text\": \"n_221\", \"color\": \"#99ccff\", \"size\": 5.0}, {\"id\": \"n_222\", \"text\": \"n_222\", \"color\": \"#99ccff\", \"size\": 5.0}, {\"id\": \"n_223\", \"text\": \"n_223\", \"color\": \"#99ccff\", \"size\": 5.0}, {\"id\": \"n_224\", \"text\": \"n_224\", \"color\": \"#99ccff\", \"size\": 5.0}, {\"id\": \"n_225\", \"text\": \"n_225\", \"color\": \"#99ccff\", \"size\": 5.0}, {\"id\": \"n_226\", \"text\": \"n_226\", \"color\": \"#99ccff\", \"size\": 5.0}, {\"id\": \"n_227\", \"text\": \"n_227\", \"color\": \"#99ccff\", \"size\": 5.0}, {\"id\": \"n_228\", \"text\": \"n_228\", \"color\": \"#99ccff\", \"size\": 5.0}, {\"id\": \"n_229\", \"text\": \"n_229\", \"color\": \"#99ccff\", \"size\": 5.0}, {\"id\": \"n_230\", \"text\": \"n_230\", \"color\": \"#99ccff\", \"size\": 5.0}, {\"id\": \"n_231\", \"text\": \"n_231\", \"color\": \"#99ccff\", \"size\": 5.0}, {\"id\": \"n_232\", \"text\": \"n_232\", \"color\": \"#99ccff\", \"size\": 5.0}, {\"id\": \"n_233\", \"text\": \"n_233\", \"color\": \"#99ccff\", \"size\": 5.0}, {\"id\": \"n_234\", \"text\": \"n_234\", \"color\": \"#99ccff\", \"size\": 5.0}, {\"id\": \"n_235\", \"text\": \"n_235\", \"color\": \"#99ccff\", \"size\": 5.0}, {\"id\": \"n_236\", \"text\": \"n_236\", \"color\": \"#99ccff\", \"size\": 5.0}, {\"id\": \"n_237\", \"text\": \"n_237\", \"color\": \"#99ccff\", \"size\": 5.0}, {\"id\": \"n_238\", \"text\": \"n_238\", \"color\": \"#99ccff\", \"size\": 5.0}, {\"id\": \"n_239\", \"text\": \"n_239\", \"color\": \"#99ccff\", \"size\": 5.0}, {\"id\": \"n_240\", \"text\": \"n_240\", \"color\": \"#99ccff\", \"size\": 5.0}, {\"id\": \"n_241\", \"text\": \"n_241\", \"color\": \"#99ccff\", \"size\": 5.0}, {\"id\": \"n_242\", \"text\": \"n_242\", \"color\": \"#99ccff\", \"size\": 5.0}, {\"id\": \"n_243\", \"text\": \"n_243\", \"color\": \"#99ccff\", \"size\": 5.0}, {\"id\": \"n_244\", \"text\": \"n_244\", \"color\": \"#99ccff\", \"size\": 5.0}, {\"id\": \"n_245\", \"text\": \"n_245\", \"color\": \"#99ccff\", \"size\": 5.0}, {\"id\": \"n_246\", \"text\": \"n_246\", \"color\": \"#99ccff\", \"size\": 5.0}, {\"id\": \"n_247\", \"text\": \"n_247\", \"color\": \"#99ccff\", \"size\": 5.0}, {\"id\": \"n_248\", \"text\": \"n_248\", \"color\": \"#99ccff\", \"size\": 5.0}, {\"id\": \"n_249\", \"text\": \"n_249\", \"color\": \"#99ccff\", \"size\": 5.0}, {\"id\": \"n_250\", \"text\": \"n_250\", \"color\": \"#99ccff\", \"size\": 5.0}, {\"id\": \"n_251\", \"text\": \"n_251\", \"color\": \"#99ccff\", \"size\": 5.0}, {\"id\": \"n_252\", \"text\": \"n_252\", \"color\": \"#99ccff\", \"size\": 5.0}, {\"id\": \"n_253\", \"text\": \"n_253\", \"color\": \"#99ccff\", \"size\": 5.0}, {\"id\": \"n_254\", \"text\": \"n_254\", \"color\": \"#99ccff\", \"size\": 5.0}, {\"id\": \"n_255\", \"text\": \"n_255\", \"color\": \"#99ccff\", \"size\": 5.0}, {\"id\": \"n_256\", \"text\": \"n_256\", \"color\": \"#99ccff\", \"size\": 5.0}, {\"id\": \"n_257\", \"text\": \"n_257\", \"color\": \"#99ccff\", \"size\": 5.0}, {\"id\": \"n_258\", \"text\": \"n_258\", \"color\": \"#99ccff\", \"size\": 5.0}, {\"id\": \"n_259\", \"text\": \"n_259\", \"color\": \"#99ccff\", \"size\": 5.0}, {\"id\": \"n_260\", \"text\": \"n_260\", \"color\": \"#99ccff\", \"size\": 5.0}, {\"id\": \"n_261\", \"text\": \"n_261\", \"color\": \"#99ccff\", \"size\": 5.0}, {\"id\": \"n_262\", \"text\": \"n_262\", \"color\": \"#99ccff\", \"size\": 5.0}, {\"id\": \"n_263\", \"text\": \"n_263\", \"color\": \"#99ccff\", \"size\": 5.0}, {\"id\": \"n_264\", \"text\": \"n_264\", \"color\": \"#99ccff\", \"size\": 5.0}, {\"id\": \"n_265\", \"text\": \"n_265\", \"color\": \"#99ccff\", \"size\": 5.0}, {\"id\": \"n_266\", \"text\": \"n_266\", \"color\": \"#99ccff\", \"size\": 5.0}, {\"id\": \"n_267\", \"text\": \"n_267\", \"color\": \"#99ccff\", \"size\": 5.0}, {\"id\": \"n_268\", \"text\": \"n_268\", \"color\": \"#99ccff\", \"size\": 5.0}, {\"id\": \"n_269\", \"text\": \"n_269\", \"color\": \"#99ccff\", \"size\": 5.0}, {\"id\": \"n_270\", \"text\": \"n_270\", \"color\": \"#99ccff\", \"size\": 5.0}, {\"id\": \"n_271\", \"text\": \"n_271\", \"color\": \"#99ccff\", \"size\": 5.0}, {\"id\": \"n_272\", \"text\": \"n_272\", \"color\": \"#99ccff\", \"size\": 5.0}, {\"id\": \"n_273\", \"text\": \"n_273\", \"color\": \"#99ccff\", \"size\": 5.0}, {\"id\": \"n_274\", \"text\": \"n_274\", \"color\": \"#99ccff\", \"size\": 5.0}, {\"id\": \"n_275\", \"text\": \"n_275\", \"color\": \"#99ccff\", \"size\": 5.0}, {\"id\": \"n_276\", \"text\": \"n_276\", \"color\": \"#99ccff\", \"size\": 5.0}, {\"id\": \"n_277\", \"text\": \"n_277\", \"color\": \"#99ccff\", \"size\": 5.0}, {\"id\": \"n_278\", \"text\": \"n_278\", \"color\": \"#99ccff\", \"size\": 5.0}, {\"id\": \"n_279\", \"text\": \"n_279\", \"color\": \"#99ccff\", \"size\": 5.0}, {\"id\": \"n_280\", \"text\": \"n_280\", \"color\": \"#99ccff\", \"size\": 5.0}, {\"id\": \"n_281\", \"text\": \"n_281\", \"color\": \"#99ccff\", \"size\": 5.0}, {\"id\": \"n_282\", \"text\": \"n_282\", \"color\": \"#99ccff\", \"size\": 5.0}, {\"id\": \"n_283\", \"text\": \"n_283\", \"color\": \"#99ccff\", \"size\": 5.0}, {\"id\": \"n_284\", \"text\": \"n_284\", \"color\": \"#99ccff\", \"size\": 5.0}, {\"id\": \"n_285\", \"text\": \"n_285\", \"color\": \"#99ccff\", \"size\": 5.0}, {\"id\": \"n_286\", \"text\": \"n_286\", \"color\": \"#99ccff\", \"size\": 5.0}, {\"id\": \"n_287\", \"text\": \"n_287\", \"color\": \"#99ccff\", \"size\": 5.0}, {\"id\": \"n_288\", \"text\": \"n_288\", \"color\": \"#99ccff\", \"size\": 5.0}, {\"id\": \"n_289\", \"text\": \"n_289\", \"color\": \"#99ccff\", \"size\": 5.0}, {\"id\": \"n_290\", \"text\": \"n_290\", \"color\": \"#99ccff\", \"size\": 5.0}, {\"id\": \"n_291\", \"text\": \"n_291\", \"color\": \"#99ccff\", \"size\": 5.0}, {\"id\": \"n_292\", \"text\": \"n_292\", \"color\": \"#99ccff\", \"size\": 5.0}, {\"id\": \"n_293\", \"text\": \"n_293\", \"color\": \"#99ccff\", \"size\": 5.0}, {\"id\": \"n_294\", \"text\": \"n_294\", \"color\": \"#99ccff\", \"size\": 5.0}, {\"id\": \"n_295\", \"text\": \"n_295\", \"color\": \"#99ccff\", \"size\": 5.0}, {\"id\": \"n_296\", \"text\": \"n_296\", \"color\": \"#99ccff\", \"size\": 5.0}, {\"id\": \"n_297\", \"text\": \"n_297\", \"color\": \"#99ccff\", \"size\": 5.0}, {\"id\": \"n_298\", \"text\": \"n_298\", \"color\": \"#99ccff\", \"size\": 5.0}, {\"id\": \"n_299\", \"text\": \"n_299\", \"color\": \"#99ccff\", \"size\": 5.0}]};\n",
       "    var directed = false;\n",
       "\n",
       "    var simulation = d3.forceSimulation()        \n",
       "       .force(\"link\", d3.forceLink().id(function(d) { return d.id; }).strength(function(d){return d.weight;}))\n",
       "        .force(\"charge\", d3.forceManyBody().strength(-20).distanceMax(400))\n",
       "       .force(\"repelForce\", d3.forceManyBody().strength(-200).distanceMax(100))\n",
       "       .force(\"center\", d3.forceCenter(400 / 2, 400 / 2))\n",
       "       .alphaTarget(0.0);\n",
       "\n",
       "    svg.append(\"defs\").selectAll(\"marker\")\n",
       "        .data([\"end\"])\n",
       "    .enter().append(\"marker\")\n",
       "        .attr(\"id\", String)\n",
       "        .attr(\"viewBox\", \"0 -5 20 20\")\n",
       "        .attr(\"refX\", 34)\n",
       "        .attr(\"refY\", 0)\n",
       "        .attr(\"markerWidth\", 15)\n",
       "        .attr(\"markerHeight\", 15)\n",
       "        .attr(\"orient\", \"auto\")\n",
       "    .append(\"path\")\n",
       "        // draws a filled path (triangle) between three points\n",
       "        .attr(\"d\", \"M0,-5 L20,0 L0,5 z\")\n",
       "        .attr(\"fill\", '#999')\n",
       "        .attr(\"stroke\", 'none');\n",
       "\n",
       "    var g = svg.append(\"g\")\n",
       "        .attr(\"class\", \"everything\");\n",
       "\n",
       "    var link = g.append(\"g\")\n",
       "        .attr(\"class\", \"links_kpBrtHpH\")\n",
       "        .selectAll(\"line\")\n",
       "        .data(graph.links)\n",
       "        .enter().append(\"line\")\n",
       "        .attr(\"stroke-width\", function(d) { return d.width; })\n",
       "        .attr(\"stroke\", function(d) { return d.color; } );\n",
       "\n",
       "    if (directed)\n",
       "        link.attr(\"marker-end\", \"url(#end)\");\n",
       "\n",
       "    var node_g = g.append(\"g\")\n",
       "        .attr(\"class\", \"nodes_kpBrtHpH\")\n",
       "        .selectAll(\"circle\")\n",
       "        .data(graph.nodes)\n",
       "        .enter()\n",
       "        .append(\"g\"); \n",
       "\n",
       "    var node = node_g.append(\"circle\")\n",
       "        .attr('id', function(d) { return d.id; })\n",
       "        .attr(\"r\", function(d) { return d.size; })\n",
       "        .attr(\"fill\", function(d) { return d.color; })\n",
       "        .call(d3.drag()\n",
       "            .on(\"start\", dragstarted)\n",
       "            .on(\"drag\", dragged)\n",
       "            .on(\"end\", dragended));\n",
       "\n",
       "    var text = node_g.append(\"text\")\n",
       "    .attr(\"x\", [0, -10][0])\n",
       "    .attr(\"y\", [0, -10][1]+3)\n",
       "    .attr(\"id\", function(d) {return d.id; })\n",
       "    .attr(\"class\", \"label_kpBrtHpH\")\n",
       "    .text(function(d) { return d.id; });\n",
       "\n",
       "    node.append(\"title\")\n",
       "        .text(function(d) { return d.text; });\n",
       "\n",
       "    var zoom_handler = d3.zoom()\n",
       "        .on(\"zoom\", zoom_actions);\n",
       "    zoom_handler(svg);\n",
       "\n",
       "    // attach event handler for svg export\n",
       "    d3.select('#kpBrtHpH_svg_txt').on(\"click\", save_svg);\n",
       "\n",
       "    simulation\n",
       "        .nodes(graph.nodes)\n",
       "        .on(\"tick\", ticked);\n",
       "\n",
       "    simulation.force(\"link\")\n",
       "        .links(graph.links);\n",
       "\n",
       "    function ticked() {\n",
       "        link.attr(\"x1\", function(d) { return d.source.x; })\n",
       "            .attr(\"y1\", function(d) { return d.source.y; })\n",
       "            .attr(\"x2\", function(d) { return d.target.x; })\n",
       "            .attr(\"y2\", function(d) { return d.target.y; });\n",
       "\n",
       "         text.attr(\"transform\", transform);\n",
       "\n",
       "\n",
       "        text.attr(\"cx\", function(d) { return d.x; })\n",
       "            .attr(\"cy\", function(d) { return d.y; });\n",
       "\n",
       "        node.attr(\"cx\", function(d) { return d.x; })\n",
       "            .attr(\"cy\", function(d) { return d.y; });\n",
       "    }\n",
       "\n",
       "    function transform(d) {\n",
       "        return \"translate(\" + d.x + \",\" + d.y + \")\";\n",
       "    }\n",
       "\n",
       "    function dragstarted(d) {\n",
       "    if (!d3.event.active) simulation.alphaTarget(0.3).restart();\n",
       "    d.fx = d.x;\n",
       "    d.fy = d.y;\n",
       "    }\n",
       "\n",
       "    function zoom_actions(){\n",
       "        g.attr(\"transform\", d3.event.transform)\n",
       "    }    \n",
       "\n",
       "    function dragged(d) {\n",
       "    d.fx = d3.event.x;\n",
       "    d.fy = d3.event.y;\n",
       "    }\n",
       "\n",
       "    function dragended(d) {\n",
       "    if (!d3.event.active) simulation.alphaTarget(0);\n",
       "    d.fx = null;\n",
       "    d.fy = null;\n",
       "    }\n",
       "\n",
       "    function to_svg() {\n",
       "        // Returns a SVG representation of the current state of the visualisation\n",
       "\t    var svg  = document.getElementById('kpBrtHpH');\n",
       "\t    var xml = (new XMLSerializer).serializeToString(svg);\n",
       "        return xml;\n",
       "    }\n",
       "\n",
       "    function save_svg() {\n",
       "        var svg  = document.getElementById('kpBrtHpH');\n",
       "        var xml = (new XMLSerializer).serializeToString(svg);        \n",
       "        var blob = new Blob([xml], {type: 'text/xml'});\n",
       "        if(window.navigator.msSaveOrOpenBlob) {\n",
       "            window.navigator.msSaveBlob(blob, 'network.svg');\n",
       "        }\n",
       "        else{\n",
       "            var elem = window.document.createElement('a');\n",
       "            elem.href = window.URL.createObjectURL(blob);\n",
       "            elem.download = 'network.svg';\n",
       "            document.body.appendChild(elem);\n",
       "            elem.click();\n",
       "            document.body.removeChild(elem);\n",
       "        }\n",
       "    }\n",
       "});\n",
       "</script>"
      ],
      "text/plain": [
       "<IPython.core.display.HTML object>"
      ]
     },
     "metadata": {},
     "output_type": "display_data"
    }
   ],
   "source": [
    "pp.visualisation.plot(g_zipf)"
   ]
  },
  {
   "cell_type": "code",
   "execution_count": 16,
   "metadata": {},
   "outputs": [
    {
     "data": {
      "text/html": [
       "<style>\n",
       "    text.label_QPekKGQs {\n",
       "        text-anchor: middle;\n",
       "        font-size: 8px;\n",
       "        font-family: Arial, Helvetica, sans-serif;\n",
       "        fill: #999999;\n",
       "        stroke: #ffffff;\n",
       "        stroke-width: 0.1px;\n",
       "        opacity: 1.0;\n",
       "    }\n",
       "    .links_QPekKGQs line {\n",
       "    stroke-opacity: 1.0;\n",
       "    }\n",
       "    .arrows svg:path {\n",
       "        stroke: #666;\n",
       "    }\n",
       "    .nodes_QPekKGQs circle {\n",
       "    stroke: #fff;\n",
       "    stroke-width: 0.5px;\n",
       "    }\n",
       "</style>\n",
       "\n",
       "<svg width=\"400\" height=\"400\" id=\"QPekKGQs\">        \n",
       "    <text x=\"20\" y=\"20\" font-family=\"sans-serif\" font-size=\"14px\" fill=\"#666\" style=\"cursor: pointer\"\n",
       "        id='QPekKGQs_svg_txt'>[save svg]</text>\n",
       "</svg>\n",
       "\n",
       "<script charset=\"utf-8\" src=\"https://d3js.org/d3.v4.min.js\"></script>\n",
       "<script charset=\"utf-8\">\n",
       "\n",
       "// Load via requireJS if available (jupyter notebook environment)\n",
       "try {\n",
       "    // Problem: require.config will raise an exception when called for the second time \n",
       "    require.config({\n",
       "        paths: {\n",
       "            //d3: \"https://d3js.org/d3.v4.min\"\n",
       "            d3: \"https://d3js.org/d3.v4.min.js\".replace(\".js\", \"\")\n",
       "        }\n",
       "    });\n",
       "    console.log(\"Detected requireJS\");\n",
       "}\n",
       "catch(err){\n",
       "    // a reference error indicates that requireJS does not exist. \n",
       "    // other errors may occur due to multiple calls to config\n",
       "    if (err instanceof ReferenceError){\n",
       "        console.log(\"Detected no requireJS\");\n",
       "\n",
       "        // Helper function that waits for d3js to be loaded\n",
       "        require = function require(symbols, callback) {\n",
       "            var ms = 5;\n",
       "            window.setTimeout(function(t) {\n",
       "                if (window[symbols[0]])\n",
       "                    callback(window[symbols[0]]);\n",
       "                else \n",
       "                    window.setTimeout(arguments.callee, ms);\n",
       "            }, ms);\n",
       "        }\n",
       "    }\n",
       "}\n",
       "\n",
       "// wait until d3js has been loaded\n",
       "require([\"d3\"], function(d3) {\n",
       "    var svg = d3.select(\"#\"+\"QPekKGQs\"), radius = 6, width = +svg.attr(\"width\"), height = +svg.attr(\"height\");\n",
       "\n",
       "    var color = d3.scaleOrdinal(d3.schemeCategory20);\n",
       "\n",
       "    var graph = {\"links\": [{\"source\": \"n_110\", \"target\": \"n_120\", \"color\": \"#999999\", \"width\": 0.5, \"weight\": 0.08333333333333333}, {\"source\": \"n_131\", \"target\": \"n_160\", \"color\": \"#999999\", \"width\": 0.5, \"weight\": 0.16666666666666666}, {\"source\": \"n_101\", \"target\": \"n_154\", \"color\": \"#999999\", \"width\": 0.5, \"weight\": 0.25}, {\"source\": \"n_198\", \"target\": \"n_290\", \"color\": \"#999999\", \"width\": 0.5, \"weight\": 0.25}, {\"source\": \"n_21\", \"target\": \"n_176\", \"color\": \"#999999\", \"width\": 0.5, \"weight\": 0.16666666666666666}, {\"source\": \"n_11\", \"target\": \"n_288\", \"color\": \"#999999\", \"width\": 0.5, \"weight\": 0.1}, {\"source\": \"n_126\", \"target\": \"n_250\", \"color\": \"#999999\", \"width\": 0.5, \"weight\": 0.25}, {\"source\": \"n_135\", \"target\": \"n_294\", \"color\": \"#999999\", \"width\": 0.5, \"weight\": 0.25}, {\"source\": \"n_196\", \"target\": \"n_224\", \"color\": \"#999999\", \"width\": 0.5, \"weight\": 0.5}, {\"source\": \"n_166\", \"target\": \"n_182\", \"color\": \"#999999\", \"width\": 0.5, \"weight\": 0.125}, {\"source\": \"n_105\", \"target\": \"n_136\", \"color\": \"#999999\", \"width\": 0.5, \"weight\": 0.16666666666666666}, {\"source\": \"n_159\", \"target\": \"n_277\", \"color\": \"#999999\", \"width\": 0.5, \"weight\": 0.16666666666666666}, {\"source\": \"n_196\", \"target\": \"n_202\", \"color\": \"#999999\", \"width\": 0.5, \"weight\": 0.1}, {\"source\": \"n_11\", \"target\": \"n_36\", \"color\": \"#999999\", \"width\": 0.5, \"weight\": 0.25}, {\"source\": \"n_11\", \"target\": \"n_172\", \"color\": \"#999999\", \"width\": 0.5, \"weight\": 0.25}, {\"source\": \"n_77\", \"target\": \"n_159\", \"color\": \"#999999\", \"width\": 0.5, \"weight\": 0.16666666666666666}, {\"source\": \"n_76\", \"target\": \"n_240\", \"color\": \"#999999\", \"width\": 0.5, \"weight\": 0.16666666666666666}, {\"source\": \"n_5\", \"target\": \"n_216\", \"color\": \"#999999\", \"width\": 0.5, \"weight\": 0.16666666666666666}, {\"source\": \"n_34\", \"target\": \"n_88\", \"color\": \"#999999\", \"width\": 0.5, \"weight\": 0.16666666666666666}, {\"source\": \"n_24\", \"target\": \"n_268\", \"color\": \"#999999\", \"width\": 0.5, \"weight\": 0.125}, {\"source\": \"n_235\", \"target\": \"n_286\", \"color\": \"#999999\", \"width\": 0.5, \"weight\": 0.16666666666666666}, {\"source\": \"n_18\", \"target\": \"n_238\", \"color\": \"#999999\", \"width\": 0.5, \"weight\": 0.16666666666666666}, {\"source\": \"n_85\", \"target\": \"n_231\", \"color\": \"#999999\", \"width\": 0.5, \"weight\": 0.25}, {\"source\": \"n_14\", \"target\": \"n_36\", \"color\": \"#999999\", \"width\": 0.5, \"weight\": 0.25}, {\"source\": \"n_148\", \"target\": \"n_262\", \"color\": \"#999999\", \"width\": 0.5, \"weight\": 0.25}, {\"source\": \"n_49\", \"target\": \"n_66\", \"color\": \"#999999\", \"width\": 0.5, \"weight\": 0.5}, {\"source\": \"n_92\", \"target\": \"n_269\", \"color\": \"#999999\", \"width\": 0.5, \"weight\": 0.125}, {\"source\": \"n_74\", \"target\": \"n_198\", \"color\": \"#999999\", \"width\": 0.5, \"weight\": 0.125}, {\"source\": \"n_43\", \"target\": \"n_133\", \"color\": \"#999999\", \"width\": 0.5, \"weight\": 0.16666666666666666}, {\"source\": \"n_64\", \"target\": \"n_128\", \"color\": \"#999999\", \"width\": 0.5, \"weight\": 0.16666666666666666}, {\"source\": \"n_166\", \"target\": \"n_295\", \"color\": \"#999999\", \"width\": 0.5, \"weight\": 0.125}, {\"source\": \"n_83\", \"target\": \"n_104\", \"color\": \"#999999\", \"width\": 0.5, \"weight\": 0.25}, {\"source\": \"n_25\", \"target\": \"n_94\", \"color\": \"#999999\", \"width\": 0.5, \"weight\": 0.25}, {\"source\": \"n_125\", \"target\": \"n_210\", \"color\": \"#999999\", \"width\": 0.5, \"weight\": 0.1}, {\"source\": \"n_7\", \"target\": \"n_74\", \"color\": \"#999999\", \"width\": 0.5, \"weight\": 0.125}, {\"source\": \"n_13\", \"target\": \"n_198\", \"color\": \"#999999\", \"width\": 0.5, \"weight\": 0.125}, {\"source\": \"n_84\", \"target\": \"n_152\", \"color\": \"#999999\", \"width\": 0.5, \"weight\": 0.25}, {\"source\": \"n_155\", \"target\": \"n_217\", \"color\": \"#999999\", \"width\": 0.5, \"weight\": 0.16666666666666666}, {\"source\": \"n_67\", \"target\": \"n_79\", \"color\": \"#999999\", \"width\": 0.5, \"weight\": 0.16666666666666666}, {\"source\": \"n_4\", \"target\": \"n_214\", \"color\": \"#999999\", \"width\": 0.5, \"weight\": 0.16666666666666666}, {\"source\": \"n_31\", \"target\": \"n_110\", \"color\": \"#999999\", \"width\": 0.5, \"weight\": 0.1}, {\"source\": \"n_203\", \"target\": \"n_218\", \"color\": \"#999999\", \"width\": 0.5, \"weight\": 0.5}, {\"source\": \"n_126\", \"target\": \"n_256\", \"color\": \"#999999\", \"width\": 0.5, \"weight\": 0.125}, {\"source\": \"n_35\", \"target\": \"n_256\", \"color\": \"#999999\", \"width\": 0.5, \"weight\": 0.125}, {\"source\": \"n_74\", \"target\": \"n_126\", \"color\": \"#999999\", \"width\": 0.5, \"weight\": 0.125}, {\"source\": \"n_157\", \"target\": \"n_221\", \"color\": \"#999999\", \"width\": 0.5, \"weight\": 0.08333333333333333}, {\"source\": \"n_112\", \"target\": \"n_151\", \"color\": \"#999999\", \"width\": 0.5, \"weight\": 0.16666666666666666}, {\"source\": \"n_63\", \"target\": \"n_107\", \"color\": \"#999999\", \"width\": 0.5, \"weight\": 0.125}, {\"source\": \"n_170\", \"target\": \"n_244\", \"color\": \"#999999\", \"width\": 0.5, \"weight\": 0.5}, {\"source\": \"n_112\", \"target\": \"n_116\", \"color\": \"#999999\", \"width\": 0.5, \"weight\": 0.16666666666666666}, {\"source\": \"n_76\", \"target\": \"n_286\", \"color\": \"#999999\", \"width\": 0.5, \"weight\": 0.1}, {\"source\": \"n_24\", \"target\": \"n_226\", \"color\": \"#999999\", \"width\": 0.5, \"weight\": 0.125}, {\"source\": \"n_164\", \"target\": \"n_179\", \"color\": \"#999999\", \"width\": 0.5, \"weight\": 0.5}, {\"source\": \"n_115\", \"target\": \"n_296\", \"color\": \"#999999\", \"width\": 0.5, \"weight\": 0.25}, {\"source\": \"n_51\", \"target\": \"n_197\", \"color\": \"#999999\", \"width\": 0.5, \"weight\": 0.25}, {\"source\": \"n_96\", \"target\": \"n_140\", \"color\": \"#999999\", \"width\": 0.5, \"weight\": 0.5}, {\"source\": \"n_139\", \"target\": \"n_213\", \"color\": \"#999999\", \"width\": 0.5, \"weight\": 0.125}, {\"source\": \"n_91\", \"target\": \"n_292\", \"color\": \"#999999\", \"width\": 0.5, \"weight\": 0.125}, {\"source\": \"n_5\", \"target\": \"n_13\", \"color\": \"#999999\", \"width\": 0.5, \"weight\": 0.125}, {\"source\": \"n_111\", \"target\": \"n_278\", \"color\": \"#999999\", \"width\": 0.5, \"weight\": 0.5}, {\"source\": \"n_37\", \"target\": \"n_117\", \"color\": \"#999999\", \"width\": 0.5, \"weight\": 0.16666666666666666}, {\"source\": \"n_80\", \"target\": \"n_211\", \"color\": \"#999999\", \"width\": 0.5, \"weight\": 0.16666666666666666}, {\"source\": \"n_54\", \"target\": \"n_242\", \"color\": \"#999999\", \"width\": 0.5, \"weight\": 0.16666666666666666}, {\"source\": \"n_213\", \"target\": \"n_298\", \"color\": \"#999999\", \"width\": 0.5, \"weight\": 0.125}, {\"source\": \"n_157\", \"target\": \"n_182\", \"color\": \"#999999\", \"width\": 0.5, \"weight\": 0.125}, {\"source\": \"n_195\", \"target\": \"n_281\", \"color\": \"#999999\", \"width\": 0.5, \"weight\": 0.16666666666666666}, {\"source\": \"n_187\", \"target\": \"n_239\", \"color\": \"#999999\", \"width\": 0.5, \"weight\": 0.5}, {\"source\": \"n_153\", \"target\": \"n_185\", \"color\": \"#999999\", \"width\": 0.5, \"weight\": 0.5}, {\"source\": \"n_151\", \"target\": \"n_210\", \"color\": \"#999999\", \"width\": 0.5, \"weight\": 0.125}, {\"source\": \"n_11\", \"target\": \"n_88\", \"color\": \"#999999\", \"width\": 0.5, \"weight\": 0.125}, {\"source\": \"n_181\", \"target\": \"n_230\", \"color\": \"#999999\", \"width\": 0.5, \"weight\": 0.16666666666666666}, {\"source\": \"n_106\", \"target\": \"n_287\", \"color\": \"#999999\", \"width\": 0.5, \"weight\": 0.16666666666666666}, {\"source\": \"n_29\", \"target\": \"n_201\", \"color\": \"#999999\", \"width\": 0.5, \"weight\": 0.25}, {\"source\": \"n_116\", \"target\": \"n_246\", \"color\": \"#999999\", \"width\": 0.5, \"weight\": 0.25}, {\"source\": \"n_72\", \"target\": \"n_91\", \"color\": \"#999999\", \"width\": 0.5, \"weight\": 0.16666666666666666}, {\"source\": \"n_124\", \"target\": \"n_288\", \"color\": \"#999999\", \"width\": 0.5, \"weight\": 0.1}, {\"source\": \"n_59\", \"target\": \"n_236\", \"color\": \"#999999\", \"width\": 0.5, \"weight\": 0.5}, {\"source\": \"n_55\", \"target\": \"n_249\", \"color\": \"#999999\", \"width\": 0.5, \"weight\": 0.1}, {\"source\": \"n_68\", \"target\": \"n_98\", \"color\": \"#999999\", \"width\": 0.5, \"weight\": 0.25}, {\"source\": \"n_76\", \"target\": \"n_173\", \"color\": \"#999999\", \"width\": 0.5, \"weight\": 0.16666666666666666}, {\"source\": \"n_109\", \"target\": \"n_286\", \"color\": \"#999999\", \"width\": 0.5, \"weight\": 0.16666666666666666}, {\"source\": \"n_76\", \"target\": \"n_161\", \"color\": \"#999999\", \"width\": 0.5, \"weight\": 0.125}, {\"source\": \"n_89\", \"target\": \"n_206\", \"color\": \"#999999\", \"width\": 0.5, \"weight\": 0.16666666666666666}, {\"source\": \"n_27\", \"target\": \"n_171\", \"color\": \"#999999\", \"width\": 0.5, \"weight\": 0.16666666666666666}, {\"source\": \"n_118\", \"target\": \"n_244\", \"color\": \"#999999\", \"width\": 0.5, \"weight\": 0.25}, {\"source\": \"n_19\", \"target\": \"n_200\", \"color\": \"#999999\", \"width\": 0.5, \"weight\": 0.25}, {\"source\": \"n_129\", \"target\": \"n_283\", \"color\": \"#999999\", \"width\": 0.5, \"weight\": 0.1}, {\"source\": \"n_46\", \"target\": \"n_131\", \"color\": \"#999999\", \"width\": 0.5, \"weight\": 0.16666666666666666}, {\"source\": \"n_31\", \"target\": \"n_183\", \"color\": \"#999999\", \"width\": 0.5, \"weight\": 0.25}, {\"source\": \"n_168\", \"target\": \"n_280\", \"color\": \"#999999\", \"width\": 0.5, \"weight\": 0.25}, {\"source\": \"n_162\", \"target\": \"n_265\", \"color\": \"#999999\", \"width\": 0.5, \"weight\": 0.25}, {\"source\": \"n_124\", \"target\": \"n_232\", \"color\": \"#999999\", \"width\": 0.5, \"weight\": 0.16666666666666666}, {\"source\": \"n_2\", \"target\": \"n_281\", \"color\": \"#999999\", \"width\": 0.5, \"weight\": 0.25}, {\"source\": \"n_125\", \"target\": \"n_207\", \"color\": \"#999999\", \"width\": 0.5, \"weight\": 0.1}, {\"source\": \"n_6\", \"target\": \"n_138\", \"color\": \"#999999\", \"width\": 0.5, \"weight\": 0.5}, {\"source\": \"n_112\", \"target\": \"n_274\", \"color\": \"#999999\", \"width\": 0.5, \"weight\": 0.16666666666666666}, {\"source\": \"n_54\", \"target\": \"n_141\", \"color\": \"#999999\", \"width\": 0.5, \"weight\": 0.125}, {\"source\": \"n_181\", \"target\": \"n_256\", \"color\": \"#999999\", \"width\": 0.5, \"weight\": 0.125}, {\"source\": \"n_67\", \"target\": \"n_149\", \"color\": \"#999999\", \"width\": 0.5, \"weight\": 0.16666666666666666}, {\"source\": \"n_30\", \"target\": \"n_92\", \"color\": \"#999999\", \"width\": 0.5, \"weight\": 0.16666666666666666}, {\"source\": \"n_59\", \"target\": \"n_128\", \"color\": \"#999999\", \"width\": 0.5, \"weight\": 0.16666666666666666}, {\"source\": \"n_51\", \"target\": \"n_268\", \"color\": \"#999999\", \"width\": 0.5, \"weight\": 0.1}, {\"source\": \"n_21\", \"target\": \"n_278\", \"color\": \"#999999\", \"width\": 0.5, \"weight\": 0.16666666666666666}, {\"source\": \"n_46\", \"target\": \"n_227\", \"color\": \"#999999\", \"width\": 0.5, \"weight\": 0.25}, {\"source\": \"n_43\", \"target\": \"n_269\", \"color\": \"#999999\", \"width\": 0.5, \"weight\": 0.16666666666666666}, {\"source\": \"n_202\", \"target\": \"n_249\", \"color\": \"#999999\", \"width\": 0.5, \"weight\": 0.1}, {\"source\": \"n_199\", \"target\": \"n_249\", \"color\": \"#999999\", \"width\": 0.5, \"weight\": 0.125}, {\"source\": \"n_206\", \"target\": \"n_244\", \"color\": \"#999999\", \"width\": 0.5, \"weight\": 0.16666666666666666}, {\"source\": \"n_173\", \"target\": \"n_293\", \"color\": \"#999999\", \"width\": 0.5, \"weight\": 0.25}, {\"source\": \"n_115\", \"target\": \"n_242\", \"color\": \"#999999\", \"width\": 0.5, \"weight\": 0.16666666666666666}, {\"source\": \"n_52\", \"target\": \"n_275\", \"color\": \"#999999\", \"width\": 0.5, \"weight\": 0.25}, {\"source\": \"n_105\", \"target\": \"n_217\", \"color\": \"#999999\", \"width\": 0.5, \"weight\": 0.16666666666666666}, {\"source\": \"n_160\", \"target\": \"n_166\", \"color\": \"#999999\", \"width\": 0.5, \"weight\": 0.125}, {\"source\": \"n_3\", \"target\": \"n_201\", \"color\": \"#999999\", \"width\": 0.5, \"weight\": 0.1}, {\"source\": \"n_46\", \"target\": \"n_273\", \"color\": \"#999999\", \"width\": 0.5, \"weight\": 0.25}, {\"source\": \"n_135\", \"target\": \"n_150\", \"color\": \"#999999\", \"width\": 0.5, \"weight\": 0.1}, {\"source\": \"n_66\", \"target\": \"n_281\", \"color\": \"#999999\", \"width\": 0.5, \"weight\": 0.125}, {\"source\": \"n_180\", \"target\": \"n_291\", \"color\": \"#999999\", \"width\": 0.5, \"weight\": 0.5}, {\"source\": \"n_14\", \"target\": \"n_190\", \"color\": \"#999999\", \"width\": 0.5, \"weight\": 0.16666666666666666}, {\"source\": \"n_8\", \"target\": \"n_273\", \"color\": \"#999999\", \"width\": 0.5, \"weight\": 0.25}, {\"source\": \"n_3\", \"target\": \"n_210\", \"color\": \"#999999\", \"width\": 0.5, \"weight\": 0.1}, {\"source\": \"n_231\", \"target\": \"n_235\", \"color\": \"#999999\", \"width\": 0.5, \"weight\": 0.25}, {\"source\": \"n_30\", \"target\": \"n_196\", \"color\": \"#999999\", \"width\": 0.5, \"weight\": 0.16666666666666666}, {\"source\": \"n_108\", \"target\": \"n_146\", \"color\": \"#999999\", \"width\": 0.5, \"weight\": 0.16666666666666666}, {\"source\": \"n_59\", \"target\": \"n_172\", \"color\": \"#999999\", \"width\": 0.5, \"weight\": 0.25}, {\"source\": \"n_12\", \"target\": \"n_218\", \"color\": \"#999999\", \"width\": 0.5, \"weight\": 0.5}, {\"source\": \"n_158\", \"target\": \"n_290\", \"color\": \"#999999\", \"width\": 0.5, \"weight\": 0.25}, {\"source\": \"n_1\", \"target\": \"n_157\", \"color\": \"#999999\", \"width\": 0.5, \"weight\": 0.08333333333333333}, {\"source\": \"n_102\", \"target\": \"n_143\", \"color\": \"#999999\", \"width\": 0.5, \"weight\": 0.1}, {\"source\": \"n_107\", \"target\": \"n_120\", \"color\": \"#999999\", \"width\": 0.5, \"weight\": 0.125}, {\"source\": \"n_20\", \"target\": \"n_156\", \"color\": \"#999999\", \"width\": 0.5, \"weight\": 0.25}, {\"source\": \"n_163\", \"target\": \"n_174\", \"color\": \"#999999\", \"width\": 0.5, \"weight\": 0.25}, {\"source\": \"n_120\", \"target\": \"n_243\", \"color\": \"#999999\", \"width\": 0.5, \"weight\": 0.25}, {\"source\": \"n_161\", \"target\": \"n_220\", \"color\": \"#999999\", \"width\": 0.5, \"weight\": 0.25}, {\"source\": \"n_168\", \"target\": \"n_234\", \"color\": \"#999999\", \"width\": 0.5, \"weight\": 0.25}, {\"source\": \"n_32\", \"target\": \"n_247\", \"color\": \"#999999\", \"width\": 0.5, \"weight\": 0.125}, {\"source\": \"n_18\", \"target\": \"n_257\", \"color\": \"#999999\", \"width\": 0.5, \"weight\": 0.5}, {\"source\": \"n_177\", \"target\": \"n_279\", \"color\": \"#999999\", \"width\": 0.5, \"weight\": 0.16666666666666666}, {\"source\": \"n_202\", \"target\": \"n_212\", \"color\": \"#999999\", \"width\": 0.5, \"weight\": 0.25}, {\"source\": \"n_141\", \"target\": \"n_282\", \"color\": \"#999999\", \"width\": 0.5, \"weight\": 0.16666666666666666}, {\"source\": \"n_1\", \"target\": \"n_225\", \"color\": \"#999999\", \"width\": 0.5, \"weight\": 0.16666666666666666}, {\"source\": \"n_247\", \"target\": \"n_271\", \"color\": \"#999999\", \"width\": 0.5, \"weight\": 0.25}, {\"source\": \"n_243\", \"target\": \"n_295\", \"color\": \"#999999\", \"width\": 0.5, \"weight\": 0.25}, {\"source\": \"n_189\", \"target\": \"n_283\", \"color\": \"#999999\", \"width\": 0.5, \"weight\": 0.25}, {\"source\": \"n_38\", \"target\": \"n_214\", \"color\": \"#999999\", \"width\": 0.5, \"weight\": 0.5}, {\"source\": \"n_132\", \"target\": \"n_144\", \"color\": \"#999999\", \"width\": 0.5, \"weight\": 0.25}, {\"source\": \"n_124\", \"target\": \"n_270\", \"color\": \"#999999\", \"width\": 0.5, \"weight\": 0.1}, {\"source\": \"n_122\", \"target\": \"n_216\", \"color\": \"#999999\", \"width\": 0.5, \"weight\": 0.16666666666666666}, {\"source\": \"n_221\", \"target\": \"n_287\", \"color\": \"#999999\", \"width\": 0.5, \"weight\": 0.16666666666666666}, {\"source\": \"n_81\", \"target\": \"n_160\", \"color\": \"#999999\", \"width\": 0.5, \"weight\": 0.125}, {\"source\": \"n_50\", \"target\": \"n_110\", \"color\": \"#999999\", \"width\": 0.5, \"weight\": 0.25}, {\"source\": \"n_107\", \"target\": \"n_213\", \"color\": \"#999999\", \"width\": 0.5, \"weight\": 0.125}, {\"source\": \"n_128\", \"target\": \"n_192\", \"color\": \"#999999\", \"width\": 0.5, \"weight\": 0.25}, {\"source\": \"n_99\", \"target\": \"n_129\", \"color\": \"#999999\", \"width\": 0.5, \"weight\": 0.5}, {\"source\": \"n_140\", \"target\": \"n_193\", \"color\": \"#999999\", \"width\": 0.5, \"weight\": 0.5}, {\"source\": \"n_31\", \"target\": \"n_215\", \"color\": \"#999999\", \"width\": 0.5, \"weight\": 0.125}, {\"source\": \"n_25\", \"target\": \"n_48\", \"color\": \"#999999\", \"width\": 0.5, \"weight\": 0.25}, {\"source\": \"n_86\", \"target\": \"n_226\", \"color\": \"#999999\", \"width\": 0.5, \"weight\": 0.5}, {\"source\": \"n_192\", \"target\": \"n_281\", \"color\": \"#999999\", \"width\": 0.5, \"weight\": 0.25}, {\"source\": \"n_131\", \"target\": \"n_219\", \"color\": \"#999999\", \"width\": 0.5, \"weight\": 0.5}, {\"source\": \"n_15\", \"target\": \"n_238\", \"color\": \"#999999\", \"width\": 0.5, \"weight\": 0.16666666666666666}, {\"source\": \"n_146\", \"target\": \"n_272\", \"color\": \"#999999\", \"width\": 0.5, \"weight\": 0.16666666666666666}, {\"source\": \"n_145\", \"target\": \"n_254\", \"color\": \"#999999\", \"width\": 0.5, \"weight\": 0.5}, {\"source\": \"n_7\", \"target\": \"n_245\", \"color\": \"#999999\", \"width\": 0.5, \"weight\": 0.5}, {\"source\": \"n_161\", \"target\": \"n_177\", \"color\": \"#999999\", \"width\": 0.5, \"weight\": 0.16666666666666666}, {\"source\": \"n_67\", \"target\": \"n_117\", \"color\": \"#999999\", \"width\": 0.5, \"weight\": 0.16666666666666666}, {\"source\": \"n_28\", \"target\": \"n_276\", \"color\": \"#999999\", \"width\": 0.5, \"weight\": 0.5}, {\"source\": \"n_217\", \"target\": \"n_262\", \"color\": \"#999999\", \"width\": 0.5, \"weight\": 0.125}, {\"source\": \"n_104\", \"target\": \"n_135\", \"color\": \"#999999\", \"width\": 0.5, \"weight\": 0.25}, {\"source\": \"n_171\", \"target\": \"n_272\", \"color\": \"#999999\", \"width\": 0.5, \"weight\": 0.16666666666666666}, {\"source\": \"n_80\", \"target\": \"n_201\", \"color\": \"#999999\", \"width\": 0.5, \"weight\": 0.16666666666666666}, {\"source\": \"n_55\", \"target\": \"n_264\", \"color\": \"#999999\", \"width\": 0.5, \"weight\": 0.125}, {\"source\": \"n_35\", \"target\": \"n_124\", \"color\": \"#999999\", \"width\": 0.5, \"weight\": 0.125}, {\"source\": \"n_5\", \"target\": \"n_61\", \"color\": \"#999999\", \"width\": 0.5, \"weight\": 0.25}, {\"source\": \"n_60\", \"target\": \"n_82\", \"color\": \"#999999\", \"width\": 0.5, \"weight\": 0.16666666666666666}, {\"source\": \"n_156\", \"target\": \"n_262\", \"color\": \"#999999\", \"width\": 0.5, \"weight\": 0.16666666666666666}, {\"source\": \"n_282\", \"target\": \"n_293\", \"color\": \"#999999\", \"width\": 0.5, \"weight\": 0.25}, {\"source\": \"n_274\", \"target\": \"n_279\", \"color\": \"#999999\", \"width\": 0.5, \"weight\": 0.125}, {\"source\": \"n_7\", \"target\": \"n_129\", \"color\": \"#999999\", \"width\": 0.5, \"weight\": 0.1}, {\"source\": \"n_64\", \"target\": \"n_109\", \"color\": \"#999999\", \"width\": 0.5, \"weight\": 0.16666666666666666}, {\"source\": \"n_54\", \"target\": \"n_194\", \"color\": \"#999999\", \"width\": 0.5, \"weight\": 0.125}, {\"source\": \"n_55\", \"target\": \"n_115\", \"color\": \"#999999\", \"width\": 0.5, \"weight\": 0.16666666666666666}, {\"source\": \"n_114\", \"target\": \"n_254\", \"color\": \"#999999\", \"width\": 0.5, \"weight\": 0.25}, {\"source\": \"n_125\", \"target\": \"n_274\", \"color\": \"#999999\", \"width\": 0.5, \"weight\": 0.1}, {\"source\": \"n_9\", \"target\": \"n_113\", \"color\": \"#999999\", \"width\": 0.5, \"weight\": 0.5}, {\"source\": \"n_19\", \"target\": \"n_110\", \"color\": \"#999999\", \"width\": 0.5, \"weight\": 0.16666666666666666}, {\"source\": \"n_92\", \"target\": \"n_280\", \"color\": \"#999999\", \"width\": 0.5, \"weight\": 0.125}, {\"source\": \"n_9\", \"target\": \"n_51\", \"color\": \"#999999\", \"width\": 0.5, \"weight\": 0.25}, {\"source\": \"n_213\", \"target\": \"n_279\", \"color\": \"#999999\", \"width\": 0.5, \"weight\": 0.125}, {\"source\": \"n_247\", \"target\": \"n_261\", \"color\": \"#999999\", \"width\": 0.5, \"weight\": 0.5}, {\"source\": \"n_2\", \"target\": \"n_8\", \"color\": \"#999999\", \"width\": 0.5, \"weight\": 0.25}, {\"source\": \"n_63\", \"target\": \"n_191\", \"color\": \"#999999\", \"width\": 0.5, \"weight\": 0.25}, {\"source\": \"n_20\", \"target\": \"n_298\", \"color\": \"#999999\", \"width\": 0.5, \"weight\": 0.25}, {\"source\": \"n_90\", \"target\": \"n_130\", \"color\": \"#999999\", \"width\": 0.5, \"weight\": 0.25}, {\"source\": \"n_108\", \"target\": \"n_232\", \"color\": \"#999999\", \"width\": 0.5, \"weight\": 0.16666666666666666}, {\"source\": \"n_221\", \"target\": \"n_229\", \"color\": \"#999999\", \"width\": 0.5, \"weight\": 0.125}, {\"source\": \"n_11\", \"target\": \"n_60\", \"color\": \"#999999\", \"width\": 0.5, \"weight\": 0.16666666666666666}, {\"source\": \"n_3\", \"target\": \"n_141\", \"color\": \"#999999\", \"width\": 0.5, \"weight\": 0.08333333333333333}, {\"source\": \"n_135\", \"target\": \"n_260\", \"color\": \"#999999\", \"width\": 0.5, \"weight\": 0.16666666666666666}, {\"source\": \"n_123\", \"target\": \"n_139\", \"color\": \"#999999\", \"width\": 0.5, \"weight\": 0.125}, {\"source\": \"n_81\", \"target\": \"n_133\", \"color\": \"#999999\", \"width\": 0.5, \"weight\": 0.16666666666666666}, {\"source\": \"n_197\", \"target\": \"n_229\", \"color\": \"#999999\", \"width\": 0.5, \"weight\": 0.25}, {\"source\": \"n_62\", \"target\": \"n_116\", \"color\": \"#999999\", \"width\": 0.5, \"weight\": 0.25}, {\"source\": \"n_122\", \"target\": \"n_242\", \"color\": \"#999999\", \"width\": 0.5, \"weight\": 0.16666666666666666}, {\"source\": \"n_130\", \"target\": \"n_195\", \"color\": \"#999999\", \"width\": 0.5, \"weight\": 0.25}, {\"source\": \"n_13\", \"target\": \"n_134\", \"color\": \"#999999\", \"width\": 0.5, \"weight\": 0.125}, {\"source\": \"n_3\", \"target\": \"n_157\", \"color\": \"#999999\", \"width\": 0.5, \"weight\": 0.08333333333333333}, {\"source\": \"n_53\", \"target\": \"n_160\", \"color\": \"#999999\", \"width\": 0.5, \"weight\": 0.16666666666666666}, {\"source\": \"n_141\", \"target\": \"n_275\", \"color\": \"#999999\", \"width\": 0.5, \"weight\": 0.1}, {\"source\": \"n_24\", \"target\": \"n_274\", \"color\": \"#999999\", \"width\": 0.5, \"weight\": 0.125}, {\"source\": \"n_194\", \"target\": \"n_282\", \"color\": \"#999999\", \"width\": 0.5, \"weight\": 0.16666666666666666}, {\"source\": \"n_32\", \"target\": \"n_254\", \"color\": \"#999999\", \"width\": 0.5, \"weight\": 0.125}, {\"source\": \"n_189\", \"target\": \"n_268\", \"color\": \"#999999\", \"width\": 0.5, \"weight\": 0.25}, {\"source\": \"n_78\", \"target\": \"n_89\", \"color\": \"#999999\", \"width\": 0.5, \"weight\": 0.16666666666666666}, {\"source\": \"n_1\", \"target\": \"n_238\", \"color\": \"#999999\", \"width\": 0.5, \"weight\": 0.16666666666666666}, {\"source\": \"n_221\", \"target\": \"n_295\", \"color\": \"#999999\", \"width\": 0.5, \"weight\": 0.1}, {\"source\": \"n_142\", \"target\": \"n_181\", \"color\": \"#999999\", \"width\": 0.5, \"weight\": 0.16666666666666666}, {\"source\": \"n_150\", \"target\": \"n_198\", \"color\": \"#999999\", \"width\": 0.5, \"weight\": 0.1}, {\"source\": \"n_201\", \"target\": \"n_264\", \"color\": \"#999999\", \"width\": 0.5, \"weight\": 0.125}, {\"source\": \"n_150\", \"target\": \"n_247\", \"color\": \"#999999\", \"width\": 0.5, \"weight\": 0.1}, {\"source\": \"n_58\", \"target\": \"n_258\", \"color\": \"#999999\", \"width\": 0.5, \"weight\": 0.25}, {\"source\": \"n_155\", \"target\": \"n_268\", \"color\": \"#999999\", \"width\": 0.5, \"weight\": 0.16666666666666666}, {\"source\": \"n_247\", \"target\": \"n_288\", \"color\": \"#999999\", \"width\": 0.5, \"weight\": 0.1}, {\"source\": \"n_26\", \"target\": \"n_48\", \"color\": \"#999999\", \"width\": 0.5, \"weight\": 0.5}, {\"source\": \"n_1\", \"target\": \"n_283\", \"color\": \"#999999\", \"width\": 0.5, \"weight\": 0.08333333333333333}, {\"source\": \"n_94\", \"target\": \"n_167\", \"color\": \"#999999\", \"width\": 0.5, \"weight\": 0.5}, {\"source\": \"n_69\", \"target\": \"n_83\", \"color\": \"#999999\", \"width\": 0.5, \"weight\": 0.25}, {\"source\": \"n_95\", \"target\": \"n_160\", \"color\": \"#999999\", \"width\": 0.5, \"weight\": 0.125}, {\"source\": \"n_209\", \"target\": \"n_240\", \"color\": \"#999999\", \"width\": 0.5, \"weight\": 0.16666666666666666}, {\"source\": \"n_64\", \"target\": \"n_274\", \"color\": \"#999999\", \"width\": 0.5, \"weight\": 0.1}, {\"source\": \"n_143\", \"target\": \"n_211\", \"color\": \"#999999\", \"width\": 0.5, \"weight\": 0.16666666666666666}, {\"source\": \"n_68\", \"target\": \"n_108\", \"color\": \"#999999\", \"width\": 0.5, \"weight\": 0.16666666666666666}, {\"source\": \"n_123\", \"target\": \"n_267\", \"color\": \"#999999\", \"width\": 0.5, \"weight\": 0.125}, {\"source\": \"n_119\", \"target\": \"n_226\", \"color\": \"#999999\", \"width\": 0.5, \"weight\": 0.5}, {\"source\": \"n_6\", \"target\": \"n_270\", \"color\": \"#999999\", \"width\": 0.5, \"weight\": 0.16666666666666666}, {\"source\": \"n_61\", \"target\": \"n_298\", \"color\": \"#999999\", \"width\": 0.5, \"weight\": 0.25}, {\"source\": \"n_63\", \"target\": \"n_201\", \"color\": \"#999999\", \"width\": 0.5, \"weight\": 0.1}, {\"source\": \"n_31\", \"target\": \"n_178\", \"color\": \"#999999\", \"width\": 0.5, \"weight\": 0.5}, {\"source\": \"n_80\", \"target\": \"n_227\", \"color\": \"#999999\", \"width\": 0.5, \"weight\": 0.25}, {\"source\": \"n_70\", \"target\": \"n_239\", \"color\": \"#999999\", \"width\": 0.5, \"weight\": 0.25}, {\"source\": \"n_48\", \"target\": \"n_237\", \"color\": \"#999999\", \"width\": 0.5, \"weight\": 0.25}, {\"source\": \"n_75\", \"target\": \"n_283\", \"color\": \"#999999\", \"width\": 0.5, \"weight\": 0.5}, {\"source\": \"n_10\", \"target\": \"n_226\", \"color\": \"#999999\", \"width\": 0.5, \"weight\": 0.25}, {\"source\": \"n_58\", \"target\": \"n_230\", \"color\": \"#999999\", \"width\": 0.5, \"weight\": 0.16666666666666666}, {\"source\": \"n_114\", \"target\": \"n_120\", \"color\": \"#999999\", \"width\": 0.5, \"weight\": 0.25}, {\"source\": \"n_215\", \"target\": \"n_284\", \"color\": \"#999999\", \"width\": 0.5, \"weight\": 0.125}, {\"source\": \"n_246\", \"target\": \"n_266\", \"color\": \"#999999\", \"width\": 0.5, \"weight\": 0.25}, {\"source\": \"n_90\", \"target\": \"n_284\", \"color\": \"#999999\", \"width\": 0.5, \"weight\": 0.125}, {\"source\": \"n_40\", \"target\": \"n_206\", \"color\": \"#999999\", \"width\": 0.5, \"weight\": 0.25}, {\"source\": \"n_155\", \"target\": \"n_205\", \"color\": \"#999999\", \"width\": 0.5, \"weight\": 0.25}, {\"source\": \"n_208\", \"target\": \"n_239\", \"color\": \"#999999\", \"width\": 0.5, \"weight\": 0.25}, {\"source\": \"n_1\", \"target\": \"n_58\", \"color\": \"#999999\", \"width\": 0.5, \"weight\": 0.125}, {\"source\": \"n_175\", \"target\": \"n_207\", \"color\": \"#999999\", \"width\": 0.5, \"weight\": 0.16666666666666666}, {\"source\": \"n_163\", \"target\": \"n_297\", \"color\": \"#999999\", \"width\": 0.5, \"weight\": 0.25}, {\"source\": \"n_140\", \"target\": \"n_159\", \"color\": \"#999999\", \"width\": 0.5, \"weight\": 0.125}, {\"source\": \"n_48\", \"target\": \"n_90\", \"color\": \"#999999\", \"width\": 0.5, \"weight\": 0.125}, {\"source\": \"n_205\", \"target\": \"n_266\", \"color\": \"#999999\", \"width\": 0.5, \"weight\": 0.25}, {\"source\": \"n_53\", \"target\": \"n_59\", \"color\": \"#999999\", \"width\": 0.5, \"weight\": 0.16666666666666666}, {\"source\": \"n_58\", \"target\": \"n_298\", \"color\": \"#999999\", \"width\": 0.5, \"weight\": 0.125}, {\"source\": \"n_154\", \"target\": \"n_288\", \"color\": \"#999999\", \"width\": 0.5, \"weight\": 0.25}, {\"source\": \"n_15\", \"target\": \"n_143\", \"color\": \"#999999\", \"width\": 0.5, \"weight\": 0.125}, {\"source\": \"n_35\", \"target\": \"n_253\", \"color\": \"#999999\", \"width\": 0.5, \"weight\": 0.5}, {\"source\": \"n_123\", \"target\": \"n_281\", \"color\": \"#999999\", \"width\": 0.5, \"weight\": 0.1}, {\"source\": \"n_23\", \"target\": \"n_89\", \"color\": \"#999999\", \"width\": 0.5, \"weight\": 0.5}, {\"source\": \"n_174\", \"target\": \"n_232\", \"color\": \"#999999\", \"width\": 0.5, \"weight\": 0.25}, {\"source\": \"n_52\", \"target\": \"n_298\", \"color\": \"#999999\", \"width\": 0.5, \"weight\": 0.25}, {\"source\": \"n_229\", \"target\": \"n_260\", \"color\": \"#999999\", \"width\": 0.5, \"weight\": 0.16666666666666666}, {\"source\": \"n_50\", \"target\": \"n_268\", \"color\": \"#999999\", \"width\": 0.5, \"weight\": 0.25}, {\"source\": \"n_5\", \"target\": \"n_225\", \"color\": \"#999999\", \"width\": 0.5, \"weight\": 0.16666666666666666}, {\"source\": \"n_7\", \"target\": \"n_14\", \"color\": \"#999999\", \"width\": 0.5, \"weight\": 0.16666666666666666}, {\"source\": \"n_204\", \"target\": \"n_289\", \"color\": \"#999999\", \"width\": 0.5, \"weight\": 0.5}, {\"source\": \"n_8\", \"target\": \"n_177\", \"color\": \"#999999\", \"width\": 0.5, \"weight\": 0.16666666666666666}, {\"source\": \"n_250\", \"target\": \"n_294\", \"color\": \"#999999\", \"width\": 0.5, \"weight\": 0.25}, {\"source\": \"n_30\", \"target\": \"n_221\", \"color\": \"#999999\", \"width\": 0.5, \"weight\": 0.16666666666666666}, {\"source\": \"n_39\", \"target\": \"n_107\", \"color\": \"#999999\", \"width\": 0.5, \"weight\": 0.25}, {\"source\": \"n_4\", \"target\": \"n_217\", \"color\": \"#999999\", \"width\": 0.5, \"weight\": 0.125}, {\"source\": \"n_102\", \"target\": \"n_228\", \"color\": \"#999999\", \"width\": 0.5, \"weight\": 0.5}, {\"source\": \"n_91\", \"target\": \"n_291\", \"color\": \"#999999\", \"width\": 0.5, \"weight\": 0.25}, {\"source\": \"n_92\", \"target\": \"n_267\", \"color\": \"#999999\", \"width\": 0.5, \"weight\": 0.125}, {\"source\": \"n_102\", \"target\": \"n_270\", \"color\": \"#999999\", \"width\": 0.5, \"weight\": 0.1}, {\"source\": \"n_68\", \"target\": \"n_216\", \"color\": \"#999999\", \"width\": 0.5, \"weight\": 0.16666666666666666}, {\"source\": \"n_1\", \"target\": \"n_194\", \"color\": \"#999999\", \"width\": 0.5, \"weight\": 0.125}, {\"source\": \"n_24\", \"target\": \"n_48\", \"color\": \"#999999\", \"width\": 0.5, \"weight\": 0.125}, {\"source\": \"n_78\", \"target\": \"n_139\", \"color\": \"#999999\", \"width\": 0.5, \"weight\": 0.16666666666666666}, {\"source\": \"n_198\", \"target\": \"n_283\", \"color\": \"#999999\", \"width\": 0.5, \"weight\": 0.08333333333333333}, {\"source\": \"n_74\", \"target\": \"n_81\", \"color\": \"#999999\", \"width\": 0.5, \"weight\": 0.125}, {\"source\": \"n_248\", \"target\": \"n_264\", \"color\": \"#999999\", \"width\": 0.5, \"weight\": 0.25}, {\"source\": \"n_234\", \"target\": \"n_264\", \"color\": \"#999999\", \"width\": 0.5, \"weight\": 0.16666666666666666}, {\"source\": \"n_33\", \"target\": \"n_97\", \"color\": \"#999999\", \"width\": 0.5, \"weight\": 0.5}, {\"source\": \"n_19\", \"target\": \"n_163\", \"color\": \"#999999\", \"width\": 0.5, \"weight\": 0.16666666666666666}, {\"source\": \"n_16\", \"target\": \"n_149\", \"color\": \"#999999\", \"width\": 0.5, \"weight\": 0.5}, {\"source\": \"n_87\", \"target\": \"n_195\", \"color\": \"#999999\", \"width\": 0.5, \"weight\": 0.25}, {\"source\": \"n_152\", \"target\": \"n_175\", \"color\": \"#999999\", \"width\": 0.5, \"weight\": 0.16666666666666666}, {\"source\": \"n_89\", \"target\": \"n_102\", \"color\": \"#999999\", \"width\": 0.5, \"weight\": 0.1}, {\"source\": \"n_27\", \"target\": \"n_51\", \"color\": \"#999999\", \"width\": 0.5, \"weight\": 0.1}, {\"source\": \"n_136\", \"target\": \"n_220\", \"color\": \"#999999\", \"width\": 0.5, \"weight\": 0.25}, {\"source\": \"n_63\", \"target\": \"n_87\", \"color\": \"#999999\", \"width\": 0.5, \"weight\": 0.25}, {\"source\": \"n_89\", \"target\": \"n_198\", \"color\": \"#999999\", \"width\": 0.5, \"weight\": 0.08333333333333333}, {\"source\": \"n_142\", \"target\": \"n_270\", \"color\": \"#999999\", \"width\": 0.5, \"weight\": 0.16666666666666666}, {\"source\": \"n_126\", \"target\": \"n_176\", \"color\": \"#999999\", \"width\": 0.5, \"weight\": 0.125}, {\"source\": \"n_72\", \"target\": \"n_209\", \"color\": \"#999999\", \"width\": 0.5, \"weight\": 0.16666666666666666}, {\"source\": \"n_51\", \"target\": \"n_259\", \"color\": \"#999999\", \"width\": 0.5, \"weight\": 0.16666666666666666}, {\"source\": \"n_235\", \"target\": \"n_240\", \"color\": \"#999999\", \"width\": 0.5, \"weight\": 0.16666666666666666}, {\"source\": \"n_57\", \"target\": \"n_159\", \"color\": \"#999999\", \"width\": 0.5, \"weight\": 0.16666666666666666}, {\"source\": \"n_32\", \"target\": \"n_233\", \"color\": \"#999999\", \"width\": 0.5, \"weight\": 0.25}, {\"source\": \"n_252\", \"target\": \"n_258\", \"color\": \"#999999\", \"width\": 0.5, \"weight\": 0.25}, {\"source\": \"n_91\", \"target\": \"n_263\", \"color\": \"#999999\", \"width\": 0.5, \"weight\": 0.25}, {\"source\": \"n_100\", \"target\": \"n_151\", \"color\": \"#999999\", \"width\": 0.5, \"weight\": 0.125}, {\"source\": \"n_100\", \"target\": \"n_150\", \"color\": \"#999999\", \"width\": 0.5, \"weight\": 0.125}, {\"source\": \"n_95\", \"target\": \"n_125\", \"color\": \"#999999\", \"width\": 0.5, \"weight\": 0.125}, {\"source\": \"n_263\", \"target\": \"n_284\", \"color\": \"#999999\", \"width\": 0.5, \"weight\": 0.25}, {\"source\": \"n_215\", \"target\": \"n_292\", \"color\": \"#999999\", \"width\": 0.5, \"weight\": 0.125}, {\"source\": \"n_22\", \"target\": \"n_292\", \"color\": \"#999999\", \"width\": 0.5, \"weight\": 0.5}, {\"source\": \"n_146\", \"target\": \"n_254\", \"color\": \"#999999\", \"width\": 0.5, \"weight\": 0.16666666666666666}, {\"source\": \"n_79\", \"target\": \"n_199\", \"color\": \"#999999\", \"width\": 0.5, \"weight\": 0.125}, {\"source\": \"n_51\", \"target\": \"n_101\", \"color\": \"#999999\", \"width\": 0.5, \"weight\": 0.16666666666666666}, {\"source\": \"n_4\", \"target\": \"n_262\", \"color\": \"#999999\", \"width\": 0.5, \"weight\": 0.125}, {\"source\": \"n_39\", \"target\": \"n_158\", \"color\": \"#999999\", \"width\": 0.5, \"weight\": 0.25}, {\"source\": \"n_106\", \"target\": \"n_217\", \"color\": \"#999999\", \"width\": 0.5, \"weight\": 0.125}, {\"source\": \"n_10\", \"target\": \"n_221\", \"color\": \"#999999\", \"width\": 0.5, \"weight\": 0.25}, {\"source\": \"n_118\", \"target\": \"n_229\", \"color\": \"#999999\", \"width\": 0.5, \"weight\": 0.25}, {\"source\": \"n_106\", \"target\": \"n_134\", \"color\": \"#999999\", \"width\": 0.5, \"weight\": 0.125}, {\"source\": \"n_46\", \"target\": \"n_127\", \"color\": \"#999999\", \"width\": 0.5, \"weight\": 0.5}, {\"source\": \"n_135\", \"target\": \"n_251\", \"color\": \"#999999\", \"width\": 0.5, \"weight\": 0.5}, {\"source\": \"n_33\", \"target\": \"n_255\", \"color\": \"#999999\", \"width\": 0.5, \"weight\": 0.25}, {\"source\": \"n_79\", \"target\": \"n_275\", \"color\": \"#999999\", \"width\": 0.5, \"weight\": 0.1}, {\"source\": \"n_182\", \"target\": \"n_210\", \"color\": \"#999999\", \"width\": 0.5, \"weight\": 0.125}, {\"source\": \"n_18\", \"target\": \"n_159\", \"color\": \"#999999\", \"width\": 0.5, \"weight\": 0.125}, {\"source\": \"n_45\", \"target\": \"n_277\", \"color\": \"#999999\", \"width\": 0.5, \"weight\": 0.25}, {\"source\": \"n_90\", \"target\": \"n_279\", \"color\": \"#999999\", \"width\": 0.5, \"weight\": 0.125}, {\"source\": \"n_200\", \"target\": \"n_244\", \"color\": \"#999999\", \"width\": 0.5, \"weight\": 0.25}, {\"source\": \"n_59\", \"target\": \"n_121\", \"color\": \"#999999\", \"width\": 0.5, \"weight\": 0.25}, {\"source\": \"n_8\", \"target\": \"n_260\", \"color\": \"#999999\", \"width\": 0.5, \"weight\": 0.16666666666666666}, {\"source\": \"n_190\", \"target\": \"n_283\", \"color\": \"#999999\", \"width\": 0.5, \"weight\": 0.16666666666666666}, {\"source\": \"n_45\", \"target\": \"n_271\", \"color\": \"#999999\", \"width\": 0.5, \"weight\": 0.25}, {\"source\": \"n_77\", \"target\": \"n_121\", \"color\": \"#999999\", \"width\": 0.5, \"weight\": 0.25}, {\"source\": \"n_278\", \"target\": \"n_285\", \"color\": \"#999999\", \"width\": 0.5, \"weight\": 0.5}, {\"source\": \"n_5\", \"target\": \"n_55\", \"color\": \"#999999\", \"width\": 0.5, \"weight\": 0.1}, {\"source\": \"n_88\", \"target\": \"n_233\", \"color\": \"#999999\", \"width\": 0.5, \"weight\": 0.25}, {\"source\": \"n_77\", \"target\": \"n_269\", \"color\": \"#999999\", \"width\": 0.5, \"weight\": 0.16666666666666666}, {\"source\": \"n_149\", \"target\": \"n_169\", \"color\": \"#999999\", \"width\": 0.5, \"weight\": 0.5}, {\"source\": \"n_35\", \"target\": \"n_259\", \"color\": \"#999999\", \"width\": 0.5, \"weight\": 0.16666666666666666}, {\"source\": \"n_46\", \"target\": \"n_191\", \"color\": \"#999999\", \"width\": 0.5, \"weight\": 0.25}, {\"source\": \"n_64\", \"target\": \"n_287\", \"color\": \"#999999\", \"width\": 0.5, \"weight\": 0.16666666666666666}, {\"source\": \"n_173\", \"target\": \"n_210\", \"color\": \"#999999\", \"width\": 0.5, \"weight\": 0.16666666666666666}, {\"source\": \"n_3\", \"target\": \"n_7\", \"color\": \"#999999\", \"width\": 0.5, \"weight\": 0.08333333333333333}, {\"source\": \"n_70\", \"target\": \"n_225\", \"color\": \"#999999\", \"width\": 0.5, \"weight\": 0.25}, {\"source\": \"n_0\", \"target\": \"n_133\", \"color\": \"#999999\", \"width\": 0.5, \"weight\": 0.5}, {\"source\": \"n_123\", \"target\": \"n_185\", \"color\": \"#999999\", \"width\": 0.5, \"weight\": 0.25}, {\"source\": \"n_57\", \"target\": \"n_259\", \"color\": \"#999999\", \"width\": 0.5, \"weight\": 0.16666666666666666}, {\"source\": \"n_175\", \"target\": \"n_265\", \"color\": \"#999999\", \"width\": 0.5, \"weight\": 0.25}, {\"source\": \"n_4\", \"target\": \"n_125\", \"color\": \"#999999\", \"width\": 0.5, \"weight\": 0.125}, {\"source\": \"n_78\", \"target\": \"n_267\", \"color\": \"#999999\", \"width\": 0.5, \"weight\": 0.16666666666666666}, {\"source\": \"n_62\", \"target\": \"n_278\", \"color\": \"#999999\", \"width\": 0.5, \"weight\": 0.25}, {\"source\": \"n_37\", \"target\": \"n_68\", \"color\": \"#999999\", \"width\": 0.5, \"weight\": 0.16666666666666666}, {\"source\": \"n_29\", \"target\": \"n_275\", \"color\": \"#999999\", \"width\": 0.5, \"weight\": 0.25}, {\"source\": \"n_21\", \"target\": \"n_190\", \"color\": \"#999999\", \"width\": 0.5, \"weight\": 0.16666666666666666}, {\"source\": \"n_252\", \"target\": \"n_280\", \"color\": \"#999999\", \"width\": 0.5, \"weight\": 0.16666666666666666}, {\"source\": \"n_76\", \"target\": \"n_95\", \"color\": \"#999999\", \"width\": 0.5, \"weight\": 0.125}, {\"source\": \"n_81\", \"target\": \"n_207\", \"color\": \"#999999\", \"width\": 0.5, \"weight\": 0.125}, {\"source\": \"n_161\", \"target\": \"n_270\", \"color\": \"#999999\", \"width\": 0.5, \"weight\": 0.125}, {\"source\": \"n_141\", \"target\": \"n_234\", \"color\": \"#999999\", \"width\": 0.5, \"weight\": 0.16666666666666666}, {\"source\": \"n_15\", \"target\": \"n_270\", \"color\": \"#999999\", \"width\": 0.5, \"weight\": 0.125}, {\"source\": \"n_156\", \"target\": \"n_226\", \"color\": \"#999999\", \"width\": 0.5, \"weight\": 0.16666666666666666}, {\"source\": \"n_18\", \"target\": \"n_275\", \"color\": \"#999999\", \"width\": 0.5, \"weight\": 0.125}, {\"source\": \"n_249\", \"target\": \"n_295\", \"color\": \"#999999\", \"width\": 0.5, \"weight\": 0.1}, {\"source\": \"n_66\", \"target\": \"n_124\", \"color\": \"#999999\", \"width\": 0.5, \"weight\": 0.125}, {\"source\": \"n_194\", \"target\": \"n_256\", \"color\": \"#999999\", \"width\": 0.5, \"weight\": 0.125}, {\"source\": \"n_160\", \"target\": \"n_292\", \"color\": \"#999999\", \"width\": 0.5, \"weight\": 0.1}, {\"source\": \"n_27\", \"target\": \"n_63\", \"color\": \"#999999\", \"width\": 0.5, \"weight\": 0.1}, {\"source\": \"n_6\", \"target\": \"n_57\", \"color\": \"#999999\", \"width\": 0.5, \"weight\": 0.16666666666666666}, {\"source\": \"n_248\", \"target\": \"n_286\", \"color\": \"#999999\", \"width\": 0.5, \"weight\": 0.25}, {\"source\": \"n_148\", \"target\": \"n_295\", \"color\": \"#999999\", \"width\": 0.5, \"weight\": 0.25}, {\"source\": \"n_105\", \"target\": \"n_182\", \"color\": \"#999999\", \"width\": 0.5, \"weight\": 0.16666666666666666}, {\"source\": \"n_8\", \"target\": \"n_89\", \"color\": \"#999999\", \"width\": 0.5, \"weight\": 0.08333333333333333}, {\"source\": \"n_126\", \"target\": \"n_196\", \"color\": \"#999999\", \"width\": 0.5, \"weight\": 0.1}, {\"source\": \"n_162\", \"target\": \"n_176\", \"color\": \"#999999\", \"width\": 0.5, \"weight\": 0.25}, {\"source\": \"n_7\", \"target\": \"n_110\", \"color\": \"#999999\", \"width\": 0.5, \"weight\": 0.08333333333333333}, {\"source\": \"n_59\", \"target\": \"n_151\", \"color\": \"#999999\", \"width\": 0.5, \"weight\": 0.125}, {\"source\": \"n_202\", \"target\": \"n_267\", \"color\": \"#999999\", \"width\": 0.5, \"weight\": 0.125}, {\"source\": \"n_64\", \"target\": \"n_132\", \"color\": \"#999999\", \"width\": 0.5, \"weight\": 0.25}, {\"source\": \"n_82\", \"target\": \"n_226\", \"color\": \"#999999\", \"width\": 0.5, \"weight\": 0.125}, {\"source\": \"n_249\", \"target\": \"n_298\", \"color\": \"#999999\", \"width\": 0.5, \"weight\": 0.1}, {\"source\": \"n_120\", \"target\": \"n_196\", \"color\": \"#999999\", \"width\": 0.5, \"weight\": 0.1}, {\"source\": \"n_17\", \"target\": \"n_283\", \"color\": \"#999999\", \"width\": 0.5, \"weight\": 0.5}, {\"source\": \"n_214\", \"target\": \"n_298\", \"color\": \"#999999\", \"width\": 0.5, \"weight\": 0.16666666666666666}, {\"source\": \"n_171\", \"target\": \"n_211\", \"color\": \"#999999\", \"width\": 0.5, \"weight\": 0.16666666666666666}, {\"source\": \"n_98\", \"target\": \"n_202\", \"color\": \"#999999\", \"width\": 0.5, \"weight\": 0.25}, {\"source\": \"n_13\", \"target\": \"n_207\", \"color\": \"#999999\", \"width\": 0.5, \"weight\": 0.125}, {\"source\": \"n_8\", \"target\": \"n_102\", \"color\": \"#999999\", \"width\": 0.5, \"weight\": 0.1}, {\"source\": \"n_89\", \"target\": \"n_247\", \"color\": \"#999999\", \"width\": 0.5, \"weight\": 0.08333333333333333}, {\"source\": \"n_48\", \"target\": \"n_79\", \"color\": \"#999999\", \"width\": 0.5, \"weight\": 0.1}, {\"source\": \"n_84\", \"target\": \"n_237\", \"color\": \"#999999\", \"width\": 0.5, \"weight\": 0.25}, {\"source\": \"n_100\", \"target\": \"n_204\", \"color\": \"#999999\", \"width\": 0.5, \"weight\": 0.25}, {\"source\": \"n_69\", \"target\": \"n_199\", \"color\": \"#999999\", \"width\": 0.5, \"weight\": 0.25}, {\"source\": \"n_140\", \"target\": \"n_165\", \"color\": \"#999999\", \"width\": 0.5, \"weight\": 0.5}, {\"source\": \"n_79\", \"target\": \"n_272\", \"color\": \"#999999\", \"width\": 0.5, \"weight\": 0.16666666666666666}, {\"source\": \"n_101\", \"target\": \"n_163\", \"color\": \"#999999\", \"width\": 0.5, \"weight\": 0.16666666666666666}, {\"source\": \"n_32\", \"target\": \"n_157\", \"color\": \"#999999\", \"width\": 0.5, \"weight\": 0.125}, {\"source\": \"n_82\", \"target\": \"n_280\", \"color\": \"#999999\", \"width\": 0.5, \"weight\": 0.125}, {\"source\": \"n_276\", \"target\": \"n_296\", \"color\": \"#999999\", \"width\": 0.5, \"weight\": 0.25}, {\"source\": \"n_34\", \"target\": \"n_134\", \"color\": \"#999999\", \"width\": 0.5, \"weight\": 0.16666666666666666}, {\"source\": \"n_152\", \"target\": \"n_208\", \"color\": \"#999999\", \"width\": 0.5, \"weight\": 0.25}, {\"source\": \"n_40\", \"target\": \"n_252\", \"color\": \"#999999\", \"width\": 0.5, \"weight\": 0.25}, {\"source\": \"n_122\", \"target\": \"n_207\", \"color\": \"#999999\", \"width\": 0.5, \"weight\": 0.16666666666666666}, {\"source\": \"n_31\", \"target\": \"n_230\", \"color\": \"#999999\", \"width\": 0.5, \"weight\": 0.16666666666666666}, {\"source\": \"n_7\", \"target\": \"n_239\", \"color\": \"#999999\", \"width\": 0.5, \"weight\": 0.125}, {\"source\": \"n_117\", \"target\": \"n_292\", \"color\": \"#999999\", \"width\": 0.5, \"weight\": 0.16666666666666666}, {\"source\": \"n_34\", \"target\": \"n_277\", \"color\": \"#999999\", \"width\": 0.5, \"weight\": 0.16666666666666666}, {\"source\": \"n_100\", \"target\": \"n_164\", \"color\": \"#999999\", \"width\": 0.5, \"weight\": 0.25}, {\"source\": \"n_66\", \"target\": \"n_136\", \"color\": \"#999999\", \"width\": 0.5, \"weight\": 0.16666666666666666}, {\"source\": \"n_37\", \"target\": \"n_123\", \"color\": \"#999999\", \"width\": 0.5, \"weight\": 0.16666666666666666}, {\"source\": \"n_82\", \"target\": \"n_241\", \"color\": \"#999999\", \"width\": 0.5, \"weight\": 0.5}, {\"source\": \"n_120\", \"target\": \"n_188\", \"color\": \"#999999\", \"width\": 0.5, \"weight\": 0.5}, {\"source\": \"n_7\", \"target\": \"n_143\", \"color\": \"#999999\", \"width\": 0.5, \"weight\": 0.08333333333333333}, {\"source\": \"n_27\", \"target\": \"n_176\", \"color\": \"#999999\", \"width\": 0.5, \"weight\": 0.125}, {\"source\": \"n_212\", \"target\": \"n_288\", \"color\": \"#999999\", \"width\": 0.5, \"weight\": 0.25}, {\"source\": \"n_147\", \"target\": \"n_157\", \"color\": \"#999999\", \"width\": 0.5, \"weight\": 0.5}, {\"source\": \"n_44\", \"target\": \"n_56\", \"color\": \"#999999\", \"width\": 0.5, \"weight\": 0.5}, {\"source\": \"n_139\", \"target\": \"n_255\", \"color\": \"#999999\", \"width\": 0.5, \"weight\": 0.125}, {\"source\": \"n_53\", \"target\": \"n_199\", \"color\": \"#999999\", \"width\": 0.5, \"weight\": 0.16666666666666666}, {\"source\": \"n_95\", \"target\": \"n_255\", \"color\": \"#999999\", \"width\": 0.5, \"weight\": 0.125}, {\"source\": \"n_83\", \"target\": \"n_209\", \"color\": \"#999999\", \"width\": 0.5, \"weight\": 0.16666666666666666}, {\"source\": \"n_129\", \"target\": \"n_274\", \"color\": \"#999999\", \"width\": 0.5, \"weight\": 0.1}, {\"source\": \"n_123\", \"target\": \"n_181\", \"color\": \"#999999\", \"width\": 0.5, \"weight\": 0.1}, {\"source\": \"n_144\", \"target\": \"n_217\", \"color\": \"#999999\", \"width\": 0.5, \"weight\": 0.25}, {\"source\": \"n_27\", \"target\": \"n_226\", \"color\": \"#999999\", \"width\": 0.5, \"weight\": 0.1}, {\"source\": \"n_269\", \"target\": \"n_298\", \"color\": \"#999999\", \"width\": 0.5, \"weight\": 0.125}, {\"source\": \"n_109\", \"target\": \"n_222\", \"color\": \"#999999\", \"width\": 0.5, \"weight\": 0.5}, {\"source\": \"n_270\", \"target\": \"n_274\", \"color\": \"#999999\", \"width\": 0.5, \"weight\": 0.07142857142857142}, {\"source\": \"n_3\", \"target\": \"n_88\", \"color\": \"#999999\", \"width\": 0.5, \"weight\": 0.125}, {\"source\": \"n_129\", \"target\": \"n_286\", \"color\": \"#999999\", \"width\": 0.5, \"weight\": 0.1}, {\"source\": \"n_15\", \"target\": \"n_255\", \"color\": \"#999999\", \"width\": 0.5, \"weight\": 0.125}, {\"source\": \"n_85\", \"target\": \"n_215\", \"color\": \"#999999\", \"width\": 0.5, \"weight\": 0.25}, {\"source\": \"n_106\", \"target\": \"n_110\", \"color\": \"#999999\", \"width\": 0.5, \"weight\": 0.125}, {\"source\": \"n_143\", \"target\": \"n_181\", \"color\": \"#999999\", \"width\": 0.5, \"weight\": 0.1}, {\"source\": \"n_43\", \"target\": \"n_54\", \"color\": \"#999999\", \"width\": 0.5, \"weight\": 0.16666666666666666}, {\"source\": \"n_166\", \"target\": \"n_183\", \"color\": \"#999999\", \"width\": 0.5, \"weight\": 0.25}, {\"source\": \"n_76\", \"target\": \"n_134\", \"color\": \"#999999\", \"width\": 0.5, \"weight\": 0.125}, {\"source\": \"n_55\", \"target\": \"n_142\", \"color\": \"#999999\", \"width\": 0.5, \"weight\": 0.16666666666666666}, {\"source\": \"n_149\", \"target\": \"n_297\", \"color\": \"#999999\", \"width\": 0.5, \"weight\": 0.25}, {\"source\": \"n_72\", \"target\": \"n_284\", \"color\": \"#999999\", \"width\": 0.5, \"weight\": 0.16666666666666666}, {\"source\": \"n_60\", \"target\": \"n_150\", \"color\": \"#999999\", \"width\": 0.5, \"weight\": 0.16666666666666666}, {\"source\": \"n_141\", \"target\": \"n_209\", \"color\": \"#999999\", \"width\": 0.5, \"weight\": 0.125}, {\"source\": \"n_46\", \"target\": \"n_143\", \"color\": \"#999999\", \"width\": 0.5, \"weight\": 0.08333333333333333}], \"nodes\": [{\"id\": \"n_0\", \"text\": \"n_0\", \"color\": \"#99ccff\", \"size\": 5.0}, {\"id\": \"n_1\", \"text\": \"n_1\", \"color\": \"#99ccff\", \"size\": 5.0}, {\"id\": \"n_2\", \"text\": \"n_2\", \"color\": \"#99ccff\", \"size\": 5.0}, {\"id\": \"n_3\", \"text\": \"n_3\", \"color\": \"#99ccff\", \"size\": 5.0}, {\"id\": \"n_4\", \"text\": \"n_4\", \"color\": \"#99ccff\", \"size\": 5.0}, {\"id\": \"n_5\", \"text\": \"n_5\", \"color\": \"#99ccff\", \"size\": 5.0}, {\"id\": \"n_6\", \"text\": \"n_6\", \"color\": \"#99ccff\", \"size\": 5.0}, {\"id\": \"n_7\", \"text\": \"n_7\", \"color\": \"#99ccff\", \"size\": 5.0}, {\"id\": \"n_8\", \"text\": \"n_8\", \"color\": \"#99ccff\", \"size\": 5.0}, {\"id\": \"n_9\", \"text\": \"n_9\", \"color\": \"#99ccff\", \"size\": 5.0}, {\"id\": \"n_10\", \"text\": \"n_10\", \"color\": \"#99ccff\", \"size\": 5.0}, {\"id\": \"n_11\", \"text\": \"n_11\", \"color\": \"#99ccff\", \"size\": 5.0}, {\"id\": \"n_12\", \"text\": \"n_12\", \"color\": \"#99ccff\", \"size\": 5.0}, {\"id\": \"n_13\", \"text\": \"n_13\", \"color\": \"#99ccff\", \"size\": 5.0}, {\"id\": \"n_14\", \"text\": \"n_14\", \"color\": \"#99ccff\", \"size\": 5.0}, {\"id\": \"n_15\", \"text\": \"n_15\", \"color\": \"#99ccff\", \"size\": 5.0}, {\"id\": \"n_16\", \"text\": \"n_16\", \"color\": \"#99ccff\", \"size\": 5.0}, {\"id\": \"n_17\", \"text\": \"n_17\", \"color\": \"#99ccff\", \"size\": 5.0}, {\"id\": \"n_18\", \"text\": \"n_18\", \"color\": \"#99ccff\", \"size\": 5.0}, {\"id\": \"n_19\", \"text\": \"n_19\", \"color\": \"#99ccff\", \"size\": 5.0}, {\"id\": \"n_20\", \"text\": \"n_20\", \"color\": \"#99ccff\", \"size\": 5.0}, {\"id\": \"n_21\", \"text\": \"n_21\", \"color\": \"#99ccff\", \"size\": 5.0}, {\"id\": \"n_22\", \"text\": \"n_22\", \"color\": \"#99ccff\", \"size\": 5.0}, {\"id\": \"n_23\", \"text\": \"n_23\", \"color\": \"#99ccff\", \"size\": 5.0}, {\"id\": \"n_24\", \"text\": \"n_24\", \"color\": \"#99ccff\", \"size\": 5.0}, {\"id\": \"n_25\", \"text\": \"n_25\", \"color\": \"#99ccff\", \"size\": 5.0}, {\"id\": \"n_26\", \"text\": \"n_26\", \"color\": \"#99ccff\", \"size\": 5.0}, {\"id\": \"n_27\", \"text\": \"n_27\", \"color\": \"#99ccff\", \"size\": 5.0}, {\"id\": \"n_28\", \"text\": \"n_28\", \"color\": \"#99ccff\", \"size\": 5.0}, {\"id\": \"n_29\", \"text\": \"n_29\", \"color\": \"#99ccff\", \"size\": 5.0}, {\"id\": \"n_30\", \"text\": \"n_30\", \"color\": \"#99ccff\", \"size\": 5.0}, {\"id\": \"n_31\", \"text\": \"n_31\", \"color\": \"#99ccff\", \"size\": 5.0}, {\"id\": \"n_32\", \"text\": \"n_32\", \"color\": \"#99ccff\", \"size\": 5.0}, {\"id\": \"n_33\", \"text\": \"n_33\", \"color\": \"#99ccff\", \"size\": 5.0}, {\"id\": \"n_34\", \"text\": \"n_34\", \"color\": \"#99ccff\", \"size\": 5.0}, {\"id\": \"n_35\", \"text\": \"n_35\", \"color\": \"#99ccff\", \"size\": 5.0}, {\"id\": \"n_36\", \"text\": \"n_36\", \"color\": \"#99ccff\", \"size\": 5.0}, {\"id\": \"n_37\", \"text\": \"n_37\", \"color\": \"#99ccff\", \"size\": 5.0}, {\"id\": \"n_38\", \"text\": \"n_38\", \"color\": \"#99ccff\", \"size\": 5.0}, {\"id\": \"n_39\", \"text\": \"n_39\", \"color\": \"#99ccff\", \"size\": 5.0}, {\"id\": \"n_40\", \"text\": \"n_40\", \"color\": \"#99ccff\", \"size\": 5.0}, {\"id\": \"n_41\", \"text\": \"n_41\", \"color\": \"#99ccff\", \"size\": 5.0}, {\"id\": \"n_42\", \"text\": \"n_42\", \"color\": \"#99ccff\", \"size\": 5.0}, {\"id\": \"n_43\", \"text\": \"n_43\", \"color\": \"#99ccff\", \"size\": 5.0}, {\"id\": \"n_44\", \"text\": \"n_44\", \"color\": \"#99ccff\", \"size\": 5.0}, {\"id\": \"n_45\", \"text\": \"n_45\", \"color\": \"#99ccff\", \"size\": 5.0}, {\"id\": \"n_46\", \"text\": \"n_46\", \"color\": \"#99ccff\", \"size\": 5.0}, {\"id\": \"n_47\", \"text\": \"n_47\", \"color\": \"#99ccff\", \"size\": 5.0}, {\"id\": \"n_48\", \"text\": \"n_48\", \"color\": \"#99ccff\", \"size\": 5.0}, {\"id\": \"n_49\", \"text\": \"n_49\", \"color\": \"#99ccff\", \"size\": 5.0}, {\"id\": \"n_50\", \"text\": \"n_50\", \"color\": \"#99ccff\", \"size\": 5.0}, {\"id\": \"n_51\", \"text\": \"n_51\", \"color\": \"#99ccff\", \"size\": 5.0}, {\"id\": \"n_52\", \"text\": \"n_52\", \"color\": \"#99ccff\", \"size\": 5.0}, {\"id\": \"n_53\", \"text\": \"n_53\", \"color\": \"#99ccff\", \"size\": 5.0}, {\"id\": \"n_54\", \"text\": \"n_54\", \"color\": \"#99ccff\", \"size\": 5.0}, {\"id\": \"n_55\", \"text\": \"n_55\", \"color\": \"#99ccff\", \"size\": 5.0}, {\"id\": \"n_56\", \"text\": \"n_56\", \"color\": \"#99ccff\", \"size\": 5.0}, {\"id\": \"n_57\", \"text\": \"n_57\", \"color\": \"#99ccff\", \"size\": 5.0}, {\"id\": \"n_58\", \"text\": \"n_58\", \"color\": \"#99ccff\", \"size\": 5.0}, {\"id\": \"n_59\", \"text\": \"n_59\", \"color\": \"#99ccff\", \"size\": 5.0}, {\"id\": \"n_60\", \"text\": \"n_60\", \"color\": \"#99ccff\", \"size\": 5.0}, {\"id\": \"n_61\", \"text\": \"n_61\", \"color\": \"#99ccff\", \"size\": 5.0}, {\"id\": \"n_62\", \"text\": \"n_62\", \"color\": \"#99ccff\", \"size\": 5.0}, {\"id\": \"n_63\", \"text\": \"n_63\", \"color\": \"#99ccff\", \"size\": 5.0}, {\"id\": \"n_64\", \"text\": \"n_64\", \"color\": \"#99ccff\", \"size\": 5.0}, {\"id\": \"n_65\", \"text\": \"n_65\", \"color\": \"#99ccff\", \"size\": 5.0}, {\"id\": \"n_66\", \"text\": \"n_66\", \"color\": \"#99ccff\", \"size\": 5.0}, {\"id\": \"n_67\", \"text\": \"n_67\", \"color\": \"#99ccff\", \"size\": 5.0}, {\"id\": \"n_68\", \"text\": \"n_68\", \"color\": \"#99ccff\", \"size\": 5.0}, {\"id\": \"n_69\", \"text\": \"n_69\", \"color\": \"#99ccff\", \"size\": 5.0}, {\"id\": \"n_70\", \"text\": \"n_70\", \"color\": \"#99ccff\", \"size\": 5.0}, {\"id\": \"n_71\", \"text\": \"n_71\", \"color\": \"#99ccff\", \"size\": 5.0}, {\"id\": \"n_72\", \"text\": \"n_72\", \"color\": \"#99ccff\", \"size\": 5.0}, {\"id\": \"n_73\", \"text\": \"n_73\", \"color\": \"#99ccff\", \"size\": 5.0}, {\"id\": \"n_74\", \"text\": \"n_74\", \"color\": \"#99ccff\", \"size\": 5.0}, {\"id\": \"n_75\", \"text\": \"n_75\", \"color\": \"#99ccff\", \"size\": 5.0}, {\"id\": \"n_76\", \"text\": \"n_76\", \"color\": \"#99ccff\", \"size\": 5.0}, {\"id\": \"n_77\", \"text\": \"n_77\", \"color\": \"#99ccff\", \"size\": 5.0}, {\"id\": \"n_78\", \"text\": \"n_78\", \"color\": \"#99ccff\", \"size\": 5.0}, {\"id\": \"n_79\", \"text\": \"n_79\", \"color\": \"#99ccff\", \"size\": 5.0}, {\"id\": \"n_80\", \"text\": \"n_80\", \"color\": \"#99ccff\", \"size\": 5.0}, {\"id\": \"n_81\", \"text\": \"n_81\", \"color\": \"#99ccff\", \"size\": 5.0}, {\"id\": \"n_82\", \"text\": \"n_82\", \"color\": \"#99ccff\", \"size\": 5.0}, {\"id\": \"n_83\", \"text\": \"n_83\", \"color\": \"#99ccff\", \"size\": 5.0}, {\"id\": \"n_84\", \"text\": \"n_84\", \"color\": \"#99ccff\", \"size\": 5.0}, {\"id\": \"n_85\", \"text\": \"n_85\", \"color\": \"#99ccff\", \"size\": 5.0}, {\"id\": \"n_86\", \"text\": \"n_86\", \"color\": \"#99ccff\", \"size\": 5.0}, {\"id\": \"n_87\", \"text\": \"n_87\", \"color\": \"#99ccff\", \"size\": 5.0}, {\"id\": \"n_88\", \"text\": \"n_88\", \"color\": \"#99ccff\", \"size\": 5.0}, {\"id\": \"n_89\", \"text\": \"n_89\", \"color\": \"#99ccff\", \"size\": 5.0}, {\"id\": \"n_90\", \"text\": \"n_90\", \"color\": \"#99ccff\", \"size\": 5.0}, {\"id\": \"n_91\", \"text\": \"n_91\", \"color\": \"#99ccff\", \"size\": 5.0}, {\"id\": \"n_92\", \"text\": \"n_92\", \"color\": \"#99ccff\", \"size\": 5.0}, {\"id\": \"n_93\", \"text\": \"n_93\", \"color\": \"#99ccff\", \"size\": 5.0}, {\"id\": \"n_94\", \"text\": \"n_94\", \"color\": \"#99ccff\", \"size\": 5.0}, {\"id\": \"n_95\", \"text\": \"n_95\", \"color\": \"#99ccff\", \"size\": 5.0}, {\"id\": \"n_96\", \"text\": \"n_96\", \"color\": \"#99ccff\", \"size\": 5.0}, {\"id\": \"n_97\", \"text\": \"n_97\", \"color\": \"#99ccff\", \"size\": 5.0}, {\"id\": \"n_98\", \"text\": \"n_98\", \"color\": \"#99ccff\", \"size\": 5.0}, {\"id\": \"n_99\", \"text\": \"n_99\", \"color\": \"#99ccff\", \"size\": 5.0}, {\"id\": \"n_100\", \"text\": \"n_100\", \"color\": \"#99ccff\", \"size\": 5.0}, {\"id\": \"n_101\", \"text\": \"n_101\", \"color\": \"#99ccff\", \"size\": 5.0}, {\"id\": \"n_102\", \"text\": \"n_102\", \"color\": \"#99ccff\", \"size\": 5.0}, {\"id\": \"n_103\", \"text\": \"n_103\", \"color\": \"#99ccff\", \"size\": 5.0}, {\"id\": \"n_104\", \"text\": \"n_104\", \"color\": \"#99ccff\", \"size\": 5.0}, {\"id\": \"n_105\", \"text\": \"n_105\", \"color\": \"#99ccff\", \"size\": 5.0}, {\"id\": \"n_106\", \"text\": \"n_106\", \"color\": \"#99ccff\", \"size\": 5.0}, {\"id\": \"n_107\", \"text\": \"n_107\", \"color\": \"#99ccff\", \"size\": 5.0}, {\"id\": \"n_108\", \"text\": \"n_108\", \"color\": \"#99ccff\", \"size\": 5.0}, {\"id\": \"n_109\", \"text\": \"n_109\", \"color\": \"#99ccff\", \"size\": 5.0}, {\"id\": \"n_110\", \"text\": \"n_110\", \"color\": \"#99ccff\", \"size\": 5.0}, {\"id\": \"n_111\", \"text\": \"n_111\", \"color\": \"#99ccff\", \"size\": 5.0}, {\"id\": \"n_112\", \"text\": \"n_112\", \"color\": \"#99ccff\", \"size\": 5.0}, {\"id\": \"n_113\", \"text\": \"n_113\", \"color\": \"#99ccff\", \"size\": 5.0}, {\"id\": \"n_114\", \"text\": \"n_114\", \"color\": \"#99ccff\", \"size\": 5.0}, {\"id\": \"n_115\", \"text\": \"n_115\", \"color\": \"#99ccff\", \"size\": 5.0}, {\"id\": \"n_116\", \"text\": \"n_116\", \"color\": \"#99ccff\", \"size\": 5.0}, {\"id\": \"n_117\", \"text\": \"n_117\", \"color\": \"#99ccff\", \"size\": 5.0}, {\"id\": \"n_118\", \"text\": \"n_118\", \"color\": \"#99ccff\", \"size\": 5.0}, {\"id\": \"n_119\", \"text\": \"n_119\", \"color\": \"#99ccff\", \"size\": 5.0}, {\"id\": \"n_120\", \"text\": \"n_120\", \"color\": \"#99ccff\", \"size\": 5.0}, {\"id\": \"n_121\", \"text\": \"n_121\", \"color\": \"#99ccff\", \"size\": 5.0}, {\"id\": \"n_122\", \"text\": \"n_122\", \"color\": \"#99ccff\", \"size\": 5.0}, {\"id\": \"n_123\", \"text\": \"n_123\", \"color\": \"#99ccff\", \"size\": 5.0}, {\"id\": \"n_124\", \"text\": \"n_124\", \"color\": \"#99ccff\", \"size\": 5.0}, {\"id\": \"n_125\", \"text\": \"n_125\", \"color\": \"#99ccff\", \"size\": 5.0}, {\"id\": \"n_126\", \"text\": \"n_126\", \"color\": \"#99ccff\", \"size\": 5.0}, {\"id\": \"n_127\", \"text\": \"n_127\", \"color\": \"#99ccff\", \"size\": 5.0}, {\"id\": \"n_128\", \"text\": \"n_128\", \"color\": \"#99ccff\", \"size\": 5.0}, {\"id\": \"n_129\", \"text\": \"n_129\", \"color\": \"#99ccff\", \"size\": 5.0}, {\"id\": \"n_130\", \"text\": \"n_130\", \"color\": \"#99ccff\", \"size\": 5.0}, {\"id\": \"n_131\", \"text\": \"n_131\", \"color\": \"#99ccff\", \"size\": 5.0}, {\"id\": \"n_132\", \"text\": \"n_132\", \"color\": \"#99ccff\", \"size\": 5.0}, {\"id\": \"n_133\", \"text\": \"n_133\", \"color\": \"#99ccff\", \"size\": 5.0}, {\"id\": \"n_134\", \"text\": \"n_134\", \"color\": \"#99ccff\", \"size\": 5.0}, {\"id\": \"n_135\", \"text\": \"n_135\", \"color\": \"#99ccff\", \"size\": 5.0}, {\"id\": \"n_136\", \"text\": \"n_136\", \"color\": \"#99ccff\", \"size\": 5.0}, {\"id\": \"n_137\", \"text\": \"n_137\", \"color\": \"#99ccff\", \"size\": 5.0}, {\"id\": \"n_138\", \"text\": \"n_138\", \"color\": \"#99ccff\", \"size\": 5.0}, {\"id\": \"n_139\", \"text\": \"n_139\", \"color\": \"#99ccff\", \"size\": 5.0}, {\"id\": \"n_140\", \"text\": \"n_140\", \"color\": \"#99ccff\", \"size\": 5.0}, {\"id\": \"n_141\", \"text\": \"n_141\", \"color\": \"#99ccff\", \"size\": 5.0}, {\"id\": \"n_142\", \"text\": \"n_142\", \"color\": \"#99ccff\", \"size\": 5.0}, {\"id\": \"n_143\", \"text\": \"n_143\", \"color\": \"#99ccff\", \"size\": 5.0}, {\"id\": \"n_144\", \"text\": \"n_144\", \"color\": \"#99ccff\", \"size\": 5.0}, {\"id\": \"n_145\", \"text\": \"n_145\", \"color\": \"#99ccff\", \"size\": 5.0}, {\"id\": \"n_146\", \"text\": \"n_146\", \"color\": \"#99ccff\", \"size\": 5.0}, {\"id\": \"n_147\", \"text\": \"n_147\", \"color\": \"#99ccff\", \"size\": 5.0}, {\"id\": \"n_148\", \"text\": \"n_148\", \"color\": \"#99ccff\", \"size\": 5.0}, {\"id\": \"n_149\", \"text\": \"n_149\", \"color\": \"#99ccff\", \"size\": 5.0}, {\"id\": \"n_150\", \"text\": \"n_150\", \"color\": \"#99ccff\", \"size\": 5.0}, {\"id\": \"n_151\", \"text\": \"n_151\", \"color\": \"#99ccff\", \"size\": 5.0}, {\"id\": \"n_152\", \"text\": \"n_152\", \"color\": \"#99ccff\", \"size\": 5.0}, {\"id\": \"n_153\", \"text\": \"n_153\", \"color\": \"#99ccff\", \"size\": 5.0}, {\"id\": \"n_154\", \"text\": \"n_154\", \"color\": \"#99ccff\", \"size\": 5.0}, {\"id\": \"n_155\", \"text\": \"n_155\", \"color\": \"#99ccff\", \"size\": 5.0}, {\"id\": \"n_156\", \"text\": \"n_156\", \"color\": \"#99ccff\", \"size\": 5.0}, {\"id\": \"n_157\", \"text\": \"n_157\", \"color\": \"#99ccff\", \"size\": 5.0}, {\"id\": \"n_158\", \"text\": \"n_158\", \"color\": \"#99ccff\", \"size\": 5.0}, {\"id\": \"n_159\", \"text\": \"n_159\", \"color\": \"#99ccff\", \"size\": 5.0}, {\"id\": \"n_160\", \"text\": \"n_160\", \"color\": \"#99ccff\", \"size\": 5.0}, {\"id\": \"n_161\", \"text\": \"n_161\", \"color\": \"#99ccff\", \"size\": 5.0}, {\"id\": \"n_162\", \"text\": \"n_162\", \"color\": \"#99ccff\", \"size\": 5.0}, {\"id\": \"n_163\", \"text\": \"n_163\", \"color\": \"#99ccff\", \"size\": 5.0}, {\"id\": \"n_164\", \"text\": \"n_164\", \"color\": \"#99ccff\", \"size\": 5.0}, {\"id\": \"n_165\", \"text\": \"n_165\", \"color\": \"#99ccff\", \"size\": 5.0}, {\"id\": \"n_166\", \"text\": \"n_166\", \"color\": \"#99ccff\", \"size\": 5.0}, {\"id\": \"n_167\", \"text\": \"n_167\", \"color\": \"#99ccff\", \"size\": 5.0}, {\"id\": \"n_168\", \"text\": \"n_168\", \"color\": \"#99ccff\", \"size\": 5.0}, {\"id\": \"n_169\", \"text\": \"n_169\", \"color\": \"#99ccff\", \"size\": 5.0}, {\"id\": \"n_170\", \"text\": \"n_170\", \"color\": \"#99ccff\", \"size\": 5.0}, {\"id\": \"n_171\", \"text\": \"n_171\", \"color\": \"#99ccff\", \"size\": 5.0}, {\"id\": \"n_172\", \"text\": \"n_172\", \"color\": \"#99ccff\", \"size\": 5.0}, {\"id\": \"n_173\", \"text\": \"n_173\", \"color\": \"#99ccff\", \"size\": 5.0}, {\"id\": \"n_174\", \"text\": \"n_174\", \"color\": \"#99ccff\", \"size\": 5.0}, {\"id\": \"n_175\", \"text\": \"n_175\", \"color\": \"#99ccff\", \"size\": 5.0}, {\"id\": \"n_176\", \"text\": \"n_176\", \"color\": \"#99ccff\", \"size\": 5.0}, {\"id\": \"n_177\", \"text\": \"n_177\", \"color\": \"#99ccff\", \"size\": 5.0}, {\"id\": \"n_178\", \"text\": \"n_178\", \"color\": \"#99ccff\", \"size\": 5.0}, {\"id\": \"n_179\", \"text\": \"n_179\", \"color\": \"#99ccff\", \"size\": 5.0}, {\"id\": \"n_180\", \"text\": \"n_180\", \"color\": \"#99ccff\", \"size\": 5.0}, {\"id\": \"n_181\", \"text\": \"n_181\", \"color\": \"#99ccff\", \"size\": 5.0}, {\"id\": \"n_182\", \"text\": \"n_182\", \"color\": \"#99ccff\", \"size\": 5.0}, {\"id\": \"n_183\", \"text\": \"n_183\", \"color\": \"#99ccff\", \"size\": 5.0}, {\"id\": \"n_184\", \"text\": \"n_184\", \"color\": \"#99ccff\", \"size\": 5.0}, {\"id\": \"n_185\", \"text\": \"n_185\", \"color\": \"#99ccff\", \"size\": 5.0}, {\"id\": \"n_186\", \"text\": \"n_186\", \"color\": \"#99ccff\", \"size\": 5.0}, {\"id\": \"n_187\", \"text\": \"n_187\", \"color\": \"#99ccff\", \"size\": 5.0}, {\"id\": \"n_188\", \"text\": \"n_188\", \"color\": \"#99ccff\", \"size\": 5.0}, {\"id\": \"n_189\", \"text\": \"n_189\", \"color\": \"#99ccff\", \"size\": 5.0}, {\"id\": \"n_190\", \"text\": \"n_190\", \"color\": \"#99ccff\", \"size\": 5.0}, {\"id\": \"n_191\", \"text\": \"n_191\", \"color\": \"#99ccff\", \"size\": 5.0}, {\"id\": \"n_192\", \"text\": \"n_192\", \"color\": \"#99ccff\", \"size\": 5.0}, {\"id\": \"n_193\", \"text\": \"n_193\", \"color\": \"#99ccff\", \"size\": 5.0}, {\"id\": \"n_194\", \"text\": \"n_194\", \"color\": \"#99ccff\", \"size\": 5.0}, {\"id\": \"n_195\", \"text\": \"n_195\", \"color\": \"#99ccff\", \"size\": 5.0}, {\"id\": \"n_196\", \"text\": \"n_196\", \"color\": \"#99ccff\", \"size\": 5.0}, {\"id\": \"n_197\", \"text\": \"n_197\", \"color\": \"#99ccff\", \"size\": 5.0}, {\"id\": \"n_198\", \"text\": \"n_198\", \"color\": \"#99ccff\", \"size\": 5.0}, {\"id\": \"n_199\", \"text\": \"n_199\", \"color\": \"#99ccff\", \"size\": 5.0}, {\"id\": \"n_200\", \"text\": \"n_200\", \"color\": \"#99ccff\", \"size\": 5.0}, {\"id\": \"n_201\", \"text\": \"n_201\", \"color\": \"#99ccff\", \"size\": 5.0}, {\"id\": \"n_202\", \"text\": \"n_202\", \"color\": \"#99ccff\", \"size\": 5.0}, {\"id\": \"n_203\", \"text\": \"n_203\", \"color\": \"#99ccff\", \"size\": 5.0}, {\"id\": \"n_204\", \"text\": \"n_204\", \"color\": \"#99ccff\", \"size\": 5.0}, {\"id\": \"n_205\", \"text\": \"n_205\", \"color\": \"#99ccff\", \"size\": 5.0}, {\"id\": \"n_206\", \"text\": \"n_206\", \"color\": \"#99ccff\", \"size\": 5.0}, {\"id\": \"n_207\", \"text\": \"n_207\", \"color\": \"#99ccff\", \"size\": 5.0}, {\"id\": \"n_208\", \"text\": \"n_208\", \"color\": \"#99ccff\", \"size\": 5.0}, {\"id\": \"n_209\", \"text\": \"n_209\", \"color\": \"#99ccff\", \"size\": 5.0}, {\"id\": \"n_210\", \"text\": \"n_210\", \"color\": \"#99ccff\", \"size\": 5.0}, {\"id\": \"n_211\", \"text\": \"n_211\", \"color\": \"#99ccff\", \"size\": 5.0}, {\"id\": \"n_212\", \"text\": \"n_212\", \"color\": \"#99ccff\", \"size\": 5.0}, {\"id\": \"n_213\", \"text\": \"n_213\", \"color\": \"#99ccff\", \"size\": 5.0}, {\"id\": \"n_214\", \"text\": \"n_214\", \"color\": \"#99ccff\", \"size\": 5.0}, {\"id\": \"n_215\", \"text\": \"n_215\", \"color\": \"#99ccff\", \"size\": 5.0}, {\"id\": \"n_216\", \"text\": \"n_216\", \"color\": \"#99ccff\", \"size\": 5.0}, {\"id\": \"n_217\", \"text\": \"n_217\", \"color\": \"#99ccff\", \"size\": 5.0}, {\"id\": \"n_218\", \"text\": \"n_218\", \"color\": \"#99ccff\", \"size\": 5.0}, {\"id\": \"n_219\", \"text\": \"n_219\", \"color\": \"#99ccff\", \"size\": 5.0}, {\"id\": \"n_220\", \"text\": \"n_220\", \"color\": \"#99ccff\", \"size\": 5.0}, {\"id\": \"n_221\", \"text\": \"n_221\", \"color\": \"#99ccff\", \"size\": 5.0}, {\"id\": \"n_222\", \"text\": \"n_222\", \"color\": \"#99ccff\", \"size\": 5.0}, {\"id\": \"n_223\", \"text\": \"n_223\", \"color\": \"#99ccff\", \"size\": 5.0}, {\"id\": \"n_224\", \"text\": \"n_224\", \"color\": \"#99ccff\", \"size\": 5.0}, {\"id\": \"n_225\", \"text\": \"n_225\", \"color\": \"#99ccff\", \"size\": 5.0}, {\"id\": \"n_226\", \"text\": \"n_226\", \"color\": \"#99ccff\", \"size\": 5.0}, {\"id\": \"n_227\", \"text\": \"n_227\", \"color\": \"#99ccff\", \"size\": 5.0}, {\"id\": \"n_228\", \"text\": \"n_228\", \"color\": \"#99ccff\", \"size\": 5.0}, {\"id\": \"n_229\", \"text\": \"n_229\", \"color\": \"#99ccff\", \"size\": 5.0}, {\"id\": \"n_230\", \"text\": \"n_230\", \"color\": \"#99ccff\", \"size\": 5.0}, {\"id\": \"n_231\", \"text\": \"n_231\", \"color\": \"#99ccff\", \"size\": 5.0}, {\"id\": \"n_232\", \"text\": \"n_232\", \"color\": \"#99ccff\", \"size\": 5.0}, {\"id\": \"n_233\", \"text\": \"n_233\", \"color\": \"#99ccff\", \"size\": 5.0}, {\"id\": \"n_234\", \"text\": \"n_234\", \"color\": \"#99ccff\", \"size\": 5.0}, {\"id\": \"n_235\", \"text\": \"n_235\", \"color\": \"#99ccff\", \"size\": 5.0}, {\"id\": \"n_236\", \"text\": \"n_236\", \"color\": \"#99ccff\", \"size\": 5.0}, {\"id\": \"n_237\", \"text\": \"n_237\", \"color\": \"#99ccff\", \"size\": 5.0}, {\"id\": \"n_238\", \"text\": \"n_238\", \"color\": \"#99ccff\", \"size\": 5.0}, {\"id\": \"n_239\", \"text\": \"n_239\", \"color\": \"#99ccff\", \"size\": 5.0}, {\"id\": \"n_240\", \"text\": \"n_240\", \"color\": \"#99ccff\", \"size\": 5.0}, {\"id\": \"n_241\", \"text\": \"n_241\", \"color\": \"#99ccff\", \"size\": 5.0}, {\"id\": \"n_242\", \"text\": \"n_242\", \"color\": \"#99ccff\", \"size\": 5.0}, {\"id\": \"n_243\", \"text\": \"n_243\", \"color\": \"#99ccff\", \"size\": 5.0}, {\"id\": \"n_244\", \"text\": \"n_244\", \"color\": \"#99ccff\", \"size\": 5.0}, {\"id\": \"n_245\", \"text\": \"n_245\", \"color\": \"#99ccff\", \"size\": 5.0}, {\"id\": \"n_246\", \"text\": \"n_246\", \"color\": \"#99ccff\", \"size\": 5.0}, {\"id\": \"n_247\", \"text\": \"n_247\", \"color\": \"#99ccff\", \"size\": 5.0}, {\"id\": \"n_248\", \"text\": \"n_248\", \"color\": \"#99ccff\", \"size\": 5.0}, {\"id\": \"n_249\", \"text\": \"n_249\", \"color\": \"#99ccff\", \"size\": 5.0}, {\"id\": \"n_250\", \"text\": \"n_250\", \"color\": \"#99ccff\", \"size\": 5.0}, {\"id\": \"n_251\", \"text\": \"n_251\", \"color\": \"#99ccff\", \"size\": 5.0}, {\"id\": \"n_252\", \"text\": \"n_252\", \"color\": \"#99ccff\", \"size\": 5.0}, {\"id\": \"n_253\", \"text\": \"n_253\", \"color\": \"#99ccff\", \"size\": 5.0}, {\"id\": \"n_254\", \"text\": \"n_254\", \"color\": \"#99ccff\", \"size\": 5.0}, {\"id\": \"n_255\", \"text\": \"n_255\", \"color\": \"#99ccff\", \"size\": 5.0}, {\"id\": \"n_256\", \"text\": \"n_256\", \"color\": \"#99ccff\", \"size\": 5.0}, {\"id\": \"n_257\", \"text\": \"n_257\", \"color\": \"#99ccff\", \"size\": 5.0}, {\"id\": \"n_258\", \"text\": \"n_258\", \"color\": \"#99ccff\", \"size\": 5.0}, {\"id\": \"n_259\", \"text\": \"n_259\", \"color\": \"#99ccff\", \"size\": 5.0}, {\"id\": \"n_260\", \"text\": \"n_260\", \"color\": \"#99ccff\", \"size\": 5.0}, {\"id\": \"n_261\", \"text\": \"n_261\", \"color\": \"#99ccff\", \"size\": 5.0}, {\"id\": \"n_262\", \"text\": \"n_262\", \"color\": \"#99ccff\", \"size\": 5.0}, {\"id\": \"n_263\", \"text\": \"n_263\", \"color\": \"#99ccff\", \"size\": 5.0}, {\"id\": \"n_264\", \"text\": \"n_264\", \"color\": \"#99ccff\", \"size\": 5.0}, {\"id\": \"n_265\", \"text\": \"n_265\", \"color\": \"#99ccff\", \"size\": 5.0}, {\"id\": \"n_266\", \"text\": \"n_266\", \"color\": \"#99ccff\", \"size\": 5.0}, {\"id\": \"n_267\", \"text\": \"n_267\", \"color\": \"#99ccff\", \"size\": 5.0}, {\"id\": \"n_268\", \"text\": \"n_268\", \"color\": \"#99ccff\", \"size\": 5.0}, {\"id\": \"n_269\", \"text\": \"n_269\", \"color\": \"#99ccff\", \"size\": 5.0}, {\"id\": \"n_270\", \"text\": \"n_270\", \"color\": \"#99ccff\", \"size\": 5.0}, {\"id\": \"n_271\", \"text\": \"n_271\", \"color\": \"#99ccff\", \"size\": 5.0}, {\"id\": \"n_272\", \"text\": \"n_272\", \"color\": \"#99ccff\", \"size\": 5.0}, {\"id\": \"n_273\", \"text\": \"n_273\", \"color\": \"#99ccff\", \"size\": 5.0}, {\"id\": \"n_274\", \"text\": \"n_274\", \"color\": \"#99ccff\", \"size\": 5.0}, {\"id\": \"n_275\", \"text\": \"n_275\", \"color\": \"#99ccff\", \"size\": 5.0}, {\"id\": \"n_276\", \"text\": \"n_276\", \"color\": \"#99ccff\", \"size\": 5.0}, {\"id\": \"n_277\", \"text\": \"n_277\", \"color\": \"#99ccff\", \"size\": 5.0}, {\"id\": \"n_278\", \"text\": \"n_278\", \"color\": \"#99ccff\", \"size\": 5.0}, {\"id\": \"n_279\", \"text\": \"n_279\", \"color\": \"#99ccff\", \"size\": 5.0}, {\"id\": \"n_280\", \"text\": \"n_280\", \"color\": \"#99ccff\", \"size\": 5.0}, {\"id\": \"n_281\", \"text\": \"n_281\", \"color\": \"#99ccff\", \"size\": 5.0}, {\"id\": \"n_282\", \"text\": \"n_282\", \"color\": \"#99ccff\", \"size\": 5.0}, {\"id\": \"n_283\", \"text\": \"n_283\", \"color\": \"#99ccff\", \"size\": 5.0}, {\"id\": \"n_284\", \"text\": \"n_284\", \"color\": \"#99ccff\", \"size\": 5.0}, {\"id\": \"n_285\", \"text\": \"n_285\", \"color\": \"#99ccff\", \"size\": 5.0}, {\"id\": \"n_286\", \"text\": \"n_286\", \"color\": \"#99ccff\", \"size\": 5.0}, {\"id\": \"n_287\", \"text\": \"n_287\", \"color\": \"#99ccff\", \"size\": 5.0}, {\"id\": \"n_288\", \"text\": \"n_288\", \"color\": \"#99ccff\", \"size\": 5.0}, {\"id\": \"n_289\", \"text\": \"n_289\", \"color\": \"#99ccff\", \"size\": 5.0}, {\"id\": \"n_290\", \"text\": \"n_290\", \"color\": \"#99ccff\", \"size\": 5.0}, {\"id\": \"n_291\", \"text\": \"n_291\", \"color\": \"#99ccff\", \"size\": 5.0}, {\"id\": \"n_292\", \"text\": \"n_292\", \"color\": \"#99ccff\", \"size\": 5.0}, {\"id\": \"n_293\", \"text\": \"n_293\", \"color\": \"#99ccff\", \"size\": 5.0}, {\"id\": \"n_294\", \"text\": \"n_294\", \"color\": \"#99ccff\", \"size\": 5.0}, {\"id\": \"n_295\", \"text\": \"n_295\", \"color\": \"#99ccff\", \"size\": 5.0}, {\"id\": \"n_296\", \"text\": \"n_296\", \"color\": \"#99ccff\", \"size\": 5.0}, {\"id\": \"n_297\", \"text\": \"n_297\", \"color\": \"#99ccff\", \"size\": 5.0}, {\"id\": \"n_298\", \"text\": \"n_298\", \"color\": \"#99ccff\", \"size\": 5.0}, {\"id\": \"n_299\", \"text\": \"n_299\", \"color\": \"#99ccff\", \"size\": 5.0}]};\n",
       "    var directed = false;\n",
       "\n",
       "    var simulation = d3.forceSimulation()        \n",
       "       .force(\"link\", d3.forceLink().id(function(d) { return d.id; }).strength(function(d){return d.weight;}))\n",
       "        .force(\"charge\", d3.forceManyBody().strength(-20).distanceMax(400))\n",
       "       .force(\"repelForce\", d3.forceManyBody().strength(-200).distanceMax(100))\n",
       "       .force(\"center\", d3.forceCenter(400 / 2, 400 / 2))\n",
       "       .alphaTarget(0.0);\n",
       "\n",
       "    svg.append(\"defs\").selectAll(\"marker\")\n",
       "        .data([\"end\"])\n",
       "    .enter().append(\"marker\")\n",
       "        .attr(\"id\", String)\n",
       "        .attr(\"viewBox\", \"0 -5 20 20\")\n",
       "        .attr(\"refX\", 34)\n",
       "        .attr(\"refY\", 0)\n",
       "        .attr(\"markerWidth\", 15)\n",
       "        .attr(\"markerHeight\", 15)\n",
       "        .attr(\"orient\", \"auto\")\n",
       "    .append(\"path\")\n",
       "        // draws a filled path (triangle) between three points\n",
       "        .attr(\"d\", \"M0,-5 L20,0 L0,5 z\")\n",
       "        .attr(\"fill\", '#999')\n",
       "        .attr(\"stroke\", 'none');\n",
       "\n",
       "    var g = svg.append(\"g\")\n",
       "        .attr(\"class\", \"everything\");\n",
       "\n",
       "    var link = g.append(\"g\")\n",
       "        .attr(\"class\", \"links_QPekKGQs\")\n",
       "        .selectAll(\"line\")\n",
       "        .data(graph.links)\n",
       "        .enter().append(\"line\")\n",
       "        .attr(\"stroke-width\", function(d) { return d.width; })\n",
       "        .attr(\"stroke\", function(d) { return d.color; } );\n",
       "\n",
       "    if (directed)\n",
       "        link.attr(\"marker-end\", \"url(#end)\");\n",
       "\n",
       "    var node_g = g.append(\"g\")\n",
       "        .attr(\"class\", \"nodes_QPekKGQs\")\n",
       "        .selectAll(\"circle\")\n",
       "        .data(graph.nodes)\n",
       "        .enter()\n",
       "        .append(\"g\"); \n",
       "\n",
       "    var node = node_g.append(\"circle\")\n",
       "        .attr('id', function(d) { return d.id; })\n",
       "        .attr(\"r\", function(d) { return d.size; })\n",
       "        .attr(\"fill\", function(d) { return d.color; })\n",
       "        .call(d3.drag()\n",
       "            .on(\"start\", dragstarted)\n",
       "            .on(\"drag\", dragged)\n",
       "            .on(\"end\", dragended));\n",
       "\n",
       "    var text = node_g.append(\"text\")\n",
       "    .attr(\"x\", [0, -10][0])\n",
       "    .attr(\"y\", [0, -10][1]+3)\n",
       "    .attr(\"id\", function(d) {return d.id; })\n",
       "    .attr(\"class\", \"label_QPekKGQs\")\n",
       "    .text(function(d) { return d.id; });\n",
       "\n",
       "    node.append(\"title\")\n",
       "        .text(function(d) { return d.text; });\n",
       "\n",
       "    var zoom_handler = d3.zoom()\n",
       "        .on(\"zoom\", zoom_actions);\n",
       "    zoom_handler(svg);\n",
       "\n",
       "    // attach event handler for svg export\n",
       "    d3.select('#QPekKGQs_svg_txt').on(\"click\", save_svg);\n",
       "\n",
       "    simulation\n",
       "        .nodes(graph.nodes)\n",
       "        .on(\"tick\", ticked);\n",
       "\n",
       "    simulation.force(\"link\")\n",
       "        .links(graph.links);\n",
       "\n",
       "    function ticked() {\n",
       "        link.attr(\"x1\", function(d) { return d.source.x; })\n",
       "            .attr(\"y1\", function(d) { return d.source.y; })\n",
       "            .attr(\"x2\", function(d) { return d.target.x; })\n",
       "            .attr(\"y2\", function(d) { return d.target.y; });\n",
       "\n",
       "         text.attr(\"transform\", transform);\n",
       "\n",
       "\n",
       "        text.attr(\"cx\", function(d) { return d.x; })\n",
       "            .attr(\"cy\", function(d) { return d.y; });\n",
       "\n",
       "        node.attr(\"cx\", function(d) { return d.x; })\n",
       "            .attr(\"cy\", function(d) { return d.y; });\n",
       "    }\n",
       "\n",
       "    function transform(d) {\n",
       "        return \"translate(\" + d.x + \",\" + d.y + \")\";\n",
       "    }\n",
       "\n",
       "    function dragstarted(d) {\n",
       "    if (!d3.event.active) simulation.alphaTarget(0.3).restart();\n",
       "    d.fx = d.x;\n",
       "    d.fy = d.y;\n",
       "    }\n",
       "\n",
       "    function zoom_actions(){\n",
       "        g.attr(\"transform\", d3.event.transform)\n",
       "    }    \n",
       "\n",
       "    function dragged(d) {\n",
       "    d.fx = d3.event.x;\n",
       "    d.fy = d3.event.y;\n",
       "    }\n",
       "\n",
       "    function dragended(d) {\n",
       "    if (!d3.event.active) simulation.alphaTarget(0);\n",
       "    d.fx = null;\n",
       "    d.fy = null;\n",
       "    }\n",
       "\n",
       "    function to_svg() {\n",
       "        // Returns a SVG representation of the current state of the visualisation\n",
       "\t    var svg  = document.getElementById('QPekKGQs');\n",
       "\t    var xml = (new XMLSerializer).serializeToString(svg);\n",
       "        return xml;\n",
       "    }\n",
       "\n",
       "    function save_svg() {\n",
       "        var svg  = document.getElementById('QPekKGQs');\n",
       "        var xml = (new XMLSerializer).serializeToString(svg);        \n",
       "        var blob = new Blob([xml], {type: 'text/xml'});\n",
       "        if(window.navigator.msSaveOrOpenBlob) {\n",
       "            window.navigator.msSaveBlob(blob, 'network.svg');\n",
       "        }\n",
       "        else{\n",
       "            var elem = window.document.createElement('a');\n",
       "            elem.href = window.URL.createObjectURL(blob);\n",
       "            elem.download = 'network.svg';\n",
       "            document.body.appendChild(elem);\n",
       "            elem.click();\n",
       "            document.body.removeChild(elem);\n",
       "        }\n",
       "    }\n",
       "});\n",
       "</script>"
      ],
      "text/plain": [
       "<IPython.core.display.HTML object>"
      ]
     },
     "metadata": {},
     "output_type": "display_data"
    }
   ],
   "source": [
    "pp.visualisation.plot(g_poisson)"
   ]
  },
  {
   "cell_type": "markdown",
   "metadata": {},
   "source": [
    "### Task 3: The Friendship Paradox\n",
    "\n",
    "Load the network `lotr` from the file `01_networks.db`, which captures co-occurrence of character names in sentences. Each co-occurrence will be treated as friendship."
   ]
  },
  {
   "cell_type": "code",
   "execution_count": 17,
   "metadata": {},
   "outputs": [
    {
     "name": "stdout",
     "output_type": "stream",
     "text": [
      "2021-12-24 16:30:53 [Severity.INFO]\tRetrieving links from database ...\n"
     ]
    }
   ],
   "source": [
    "#BOILERPLATE_CODE\n",
    "import matplotlib.mlab as mlab\n",
    "import sqlite3\n",
    "\n",
    "con = sqlite3.connect('./01_networks.db')\n",
    "con.row_factory = sqlite3.Row\n",
    "\n",
    "g_lotr = pp.Network.from_sqlite(con.execute('SELECT source, target FROM lotr'), directed=False)"
   ]
  },
  {
   "cell_type": "markdown",
   "metadata": {},
   "source": [
    "How many friends does `Tom` have? How many friends do his friends have on average? Who are `Tom`'s friends?"
   ]
  },
  {
   "cell_type": "code",
   "execution_count": 18,
   "metadata": {},
   "outputs": [
    {
     "name": "stdout",
     "output_type": "stream",
     "text": [
      "Tom has 9 friends. His friends have on average 27.33 friends.\n"
     ]
    }
   ],
   "source": [
    "def node_degree(g, name):\n",
    "    return g.nodes[name]['degree']\n",
    "    \n",
    "def avg_neighbor_degree(g, name):\n",
    "    friend_count = 0.\n",
    "    for i in g.successors[name]:\n",
    "        friend_count += g.nodes[i]['degree']\n",
    "    \n",
    "    return friend_count / g.nodes[name]['degree']\n",
    "\n",
    "name = 'Tom'\n",
    "\n",
    "print(\n",
    "    'Tom has {0:d} friends. His friends have on average {1:.2f} friends.'\n",
    "      .format(node_degree(g_lotr, name), avg_neighbor_degree(g_lotr, name))\n",
    ")"
   ]
  },
  {
   "cell_type": "markdown",
   "metadata": {},
   "source": [
    "This is the, so-called, **friendship paradox**. It states that your friends have on average more friends than you. It is called \"paradox\" because intuitively you and your friends appear to be the same. So the average should give the same number. \n",
    "\n",
    "In the following, we test this paradox in the network of character co-ocurrences in the Lord of the Rings. Calculate how many friends the characters have *on average*."
   ]
  },
  {
   "cell_type": "code",
   "execution_count": 19,
   "metadata": {},
   "outputs": [
    {
     "name": "stdout",
     "output_type": "stream",
     "text": [
      "The characters have on average 9.122 friends.\n"
     ]
    }
   ],
   "source": [
    "print('The characters have on average {0:.3f} friends.'\n",
    "      .format(np.average([node_degree(g_lotr, name) for name in g_lotr.nodes]))\n",
    "     )"
   ]
  },
  {
   "cell_type": "markdown",
   "metadata": {},
   "source": [
    "The correct value is 9.122. \n",
    "\n",
    "Now for every node $v$ in the network calculate the mean degree $k_n$ of their neighbours. Now compare the average $\\langle k_n \\rangle$ across all nodes $v$ to the mean degree $\\langle k \\rangle$ calculated above."
   ]
  },
  {
   "cell_type": "code",
   "execution_count": 20,
   "metadata": {},
   "outputs": [
    {
     "name": "stdout",
     "output_type": "stream",
     "text": [
      "The neighbors of each character have on average 20.014 friends.\n"
     ]
    }
   ],
   "source": [
    "print('The neighbors of each character have on average {0:.3f} friends.'\n",
    "      .format(np.average([avg_neighbor_degree(g_lotr, name) for name in g_lotr.nodes]))\n",
    "     )"
   ]
  },
  {
   "cell_type": "markdown",
   "metadata": {
    "collapsed": true
   },
   "source": [
    "The correct value for $\\langle k_n \\rangle$ should be approximately 20, so the friendship paradox holds *on average*. However, there may be individual nodes in the network for whom the paradox does *not* hold. In the following we study for which nodes the number of friends ($k$) is smaller than the average number ($k_n$) of direct friends that their friends have?\n",
    "\n",
    "To answer this question, we use the following helper function. It produces the following plot: it shows the degrees of all nodes on the x-axis, with the corresponding mean neighbour degrees on the y-axis. We further count for how many nodes in this network the friendship paradox holds, i.e. for how many nodes we have $k_n>k$."
   ]
  },
  {
   "cell_type": "code",
   "execution_count": 21,
   "metadata": {
    "scrolled": true
   },
   "outputs": [
    {
     "name": "stdout",
     "output_type": "stream",
     "text": [
      "Number of nodes for which k_n > k = 125\n",
      "Number of nodes for which k_n < k = 14\n"
     ]
    },
    {
     "data": {
      "image/png": "[encoded data removed]",
      "text/plain": [
       "<Figure size 432x288 with 1 Axes>"
      ]
     },
     "metadata": {
      "needs_background": "light"
     },
     "output_type": "display_data"
    }
   ],
   "source": [
    "#BOILERPLATE_CODE\n",
    "\n",
    "def plotNeighbourDegrees(g):\n",
    "    degrees = [node_degree(g, name) for name in g.nodes]\n",
    "    ndegrees = [avg_neighbor_degree(g, name) for name in g.nodes]\n",
    "    \n",
    "    cnt_larger = 0\n",
    "    cnt_smaller = 0\n",
    "    for degree, ndegree in zip(degrees, ndegrees):\n",
    "        if degree > ndegree:\n",
    "            cnt_smaller += 1\n",
    "        else:\n",
    "            cnt_larger += 1\n",
    "#     for v in g.nodes:\n",
    "#         knn = 0\n",
    "#         ...\n",
    "            \n",
    "    print(\"Number of nodes for which k_n > k =\", cnt_larger)\n",
    "    print(\"Number of nodes for which k_n < k =\", cnt_smaller)\n",
    "    \n",
    "    plt.clf()\n",
    "    plt.grid(True)\n",
    "    plt.xlabel(r'$k$')\n",
    "    plt.ylabel(r'$k_n$')\n",
    "    plt.plot(degrees, ndegrees, 'o')\n",
    "    plt.plot(range(max(g.degrees())), range(max(g.degrees())), '-')\n",
    "    plt.savefig('./graphics/exercise_05_task_3_friends_paradox.pdf')\n",
    "    plt.show()\n",
    "\n",
    "plotNeighbourDegrees(g_lotr)"
   ]
  },
  {
   "cell_type": "markdown",
   "metadata": {},
   "source": [
    "Print the names of those characters that have more friends than their friends have on average."
   ]
  },
  {
   "cell_type": "code",
   "execution_count": 22,
   "metadata": {},
   "outputs": [
    {
     "data": {
      "text/plain": [
       "['Gandalf',\n",
       " 'Elrond',\n",
       " 'Frodo',\n",
       " 'Bilbo',\n",
       " 'Aragorn',\n",
       " 'Faramir',\n",
       " 'Merry',\n",
       " 'Pippin',\n",
       " 'Sam',\n",
       " 'Gimli',\n",
       " 'Legolas',\n",
       " 'Helm',\n",
       " 'Grimbold',\n",
       " 'Théoden']"
      ]
     },
     "execution_count": 22,
     "metadata": {},
     "output_type": "execute_result"
    }
   ],
   "source": [
    "def surpasses_the_friends_friend_count(g):\n",
    "    return [name for name in g.nodes if node_degree(g, name) > avg_neighbor_degree(g, name)]\n",
    "\n",
    "surpasses_the_friends_friend_count(g_lotr)"
   ]
  },
  {
   "cell_type": "code",
   "execution_count": null,
   "metadata": {},
   "outputs": [],
   "source": []
  }
 ],
 "metadata": {
  "kernelspec": {
   "display_name": "Python 3",
   "language": "python",
   "name": "python3"
  },
  "language_info": {
   "codemirror_mode": {
    "name": "ipython",
    "version": 3
   },
   "file_extension": ".py",
   "mimetype": "text/x-python",
   "name": "python",
   "nbconvert_exporter": "python",
   "pygments_lexer": "ipython3",
   "version": "3.8.10"
  }
 },
 "nbformat": 4,
 "nbformat_minor": 1
}
