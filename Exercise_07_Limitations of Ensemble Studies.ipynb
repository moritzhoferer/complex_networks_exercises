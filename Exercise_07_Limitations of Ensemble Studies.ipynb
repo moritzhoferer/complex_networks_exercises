{
 "cells": [
  {
   "cell_type": "markdown",
   "metadata": {},
   "source": [
    "# Exercise 07: Limitations of Ensemble Studies\n",
    "\n",
    "**Assignment due:** *April 9 2019*  \n",
    "\n",
    "In this exercise we investigate limitations of the statistical ensemble perspective on network data. In particular, we have seen that the properties of finite scale-free networks can deviate significantly from theoretical predictions obtained in the limit of infinite networks. We will explore these finite-size effects based on simulations. We further calculate the _variance_ of microstate properties within an ensemble, which helps us to assess whether expected values are a reasonable proxy for the properties of individual realisations."
   ]
  },
  {
   "cell_type": "code",
   "execution_count": 1,
   "metadata": {},
   "outputs": [],
   "source": [
    "#BOILERPLATE_CODE\n",
    "%matplotlib inline\n",
    "import matplotlib.pyplot as plt\n",
    "plt.style.use('ggplot')\n",
    "\n",
    "import pathpy as pp\n",
    "import numpy as np\n",
    "\n",
    "from scipy.optimize import curve_fit"
   ]
  },
  {
   "cell_type": "markdown",
   "metadata": {},
   "source": [
    "### Task 1:  Finite-size effects in scale-free networks\n",
    "\n",
    "Your first task is to generate random scale-free networks with different exponents and different sizes to study finite-size effects in statistical ensembles. The generation of a scale-free network with a given exponent and size can be done using the following helper function:"
   ]
  },
  {
   "cell_type": "code",
   "execution_count": 2,
   "metadata": {},
   "outputs": [],
   "source": [
    "#BOILERPLATE_CODE\n",
    "def is_graphic_Erdos_Gallai(degree_sequence_to_test):\n",
    "    degree_sequence = sorted(degree_sequence_to_test,reverse=True)\n",
    "    S = sum(degree_sequence)\n",
    "    n = len(degree_sequence)\n",
    "    if S%2 != 0:\n",
    "        return False\n",
    "    for r in range(1, n):\n",
    "        M = 0\n",
    "        S = 0\n",
    "        for i in range(1, r+1):\n",
    "            S += degree_sequence[i-1]\n",
    "        for i in range(r+1, n+1):\n",
    "            M += min(r, degree_sequence[i-1])\n",
    "        if S > r * (r-1) + M:\n",
    "            return False\n",
    "    return True\n",
    "\n",
    "\n",
    "def MolloyReed(degrees, relax = False):\n",
    "    # assume that we are given a graphical degree sequence\n",
    "    if not is_graphic_Erdos_Gallai(degrees):\n",
    "        return 0\n",
    "    \n",
    "    # create empty network with n nodes\n",
    "    n = len(degrees)\n",
    "    g = pp.Network(directed = False)\n",
    "    \n",
    "    # generate link stubs based on degree sequence\n",
    "    stubs = []\n",
    "    for i in range(n):\n",
    "        for k in range(degrees[i]):\n",
    "            stubs.append(i)\n",
    "    \n",
    "    # connect randomly chosen pairs of link stubs\n",
    "    # note: if relax is True, we conceptually allow self-loops \n",
    "    # and multi-edges, but do not add them to the network/\n",
    "    # This implies that the generated network may not have \n",
    "    # exactly sum(degrees)/2 links, but it ensures that the algorithm \n",
    "    # always finishes.\n",
    "    while(len(stubs)>0):\n",
    "        v, w = np.random.choice(stubs, 2, replace=False)\n",
    "        if relax or (v!=w and ((v,w) not in g.edges.keys())):\n",
    "            # do not add self-loops and multi-edges\n",
    "            if (v!=w and ((v,w) not in g.edges.keys())):\n",
    "                g.add_edge(str(v),str(w))\n",
    "            stubs.remove(v)\n",
    "            stubs.remove(w)\n",
    "    return g"
   ]
  },
  {
   "cell_type": "code",
   "execution_count": 3,
   "metadata": {},
   "outputs": [],
   "source": [
    "#BOILERPLATE_CODE\n",
    "def generateSFNetwork(n=1000, gamma=2.1):\n",
    "    degrees_zipf = [1]\n",
    "    while not is_graphic_Erdos_Gallai(degrees_zipf):\n",
    "        degrees_zipf = [int(x) for x in np.random.zipf(gamma, n)]\n",
    "    g = MolloyReed(degrees_zipf, relax = True)\n",
    "    return g"
   ]
  },
  {
   "cell_type": "markdown",
   "metadata": {},
   "source": [
    "For each point in the parameter space, we then \n",
    "1. compute the relative size of the largest connected component, and \n",
    "2. the relative size of the largest surviving connected component for a uniform failure probability $q=0.3$.\n",
    "\n",
    "For the latter part, we will reuse the function that we developed in exercise 6. "
   ]
  },
  {
   "cell_type": "code",
   "execution_count": 4,
   "metadata": {},
   "outputs": [],
   "source": [
    "#BOILERPLATE_CODE\n",
    "def remove_random_frac(network, frac):\n",
    "    n = network.ncount() \n",
    "    while (network.ncount()/n>1-frac):\n",
    "        v = np.random.choice(list(network.nodes))\n",
    "        network.remove_node(v)\n",
    "    return network"
   ]
  },
  {
   "cell_type": "markdown",
   "metadata": {},
   "source": [
    "To get meaningful average values, we average 20 different random realizations for each combination of the parameters $n$ and $\\gamma$. This is done by the following function:"
   ]
  },
  {
   "cell_type": "code",
   "execution_count": 5,
   "metadata": {},
   "outputs": [],
   "source": [
    "#BOILERPLATE_CODE\n",
    "def finite_size_effects(gamma_range, size_range, q=0.3, samples=1):\n",
    "    gcc_results = {}\n",
    "    sgcc_results = {}\n",
    "    for gamma in gamma_range:\n",
    "#         print(\"Generating networks for gamma =\", gamma)\n",
    "        gcc_results[gamma] = []\n",
    "        sgcc_results[gamma] = []\n",
    "        for n in size_range:\n",
    "            gcc = 0\n",
    "            sgcc = 0\n",
    "            for i in range(samples):         \n",
    "                g_before = generateSFNetwork(n, gamma)\n",
    "                count_before_pre = g_before.ncount()\n",
    "                pp.algorithms.components.reduce_to_gcc(g_before)\n",
    "                gcc += g_before.ncount()/count_before_pre\n",
    "                \n",
    "                g_after = remove_random_frac(g_before, q)\n",
    "                count_after_pre = g_after.ncount()\n",
    "                pp.algorithms.components.reduce_to_gcc(g_after)\n",
    "                sgcc += g_after.ncount()/ count_after_pre\n",
    "            \n",
    "            gcc_results[gamma].append(gcc/samples)\n",
    "            sgcc_results[gamma].append(sgcc/samples)\n",
    "#             print(\"Finished simulations for n =\", n)        \n",
    "    return (gcc_results, sgcc_results)"
   ]
  },
  {
   "cell_type": "markdown",
   "metadata": {},
   "source": [
    "Now use the functions above to calculate the relative size of the largest connected component before and after the node failures. Use 5 samples of different scale-free networks with exponents $\\gamma \\in \\{2.1, 2.3, 2.5, 2.9\\}$ and 20 different logarithmically spaced network sizes $n \\in \\left[100, 1000\\right]$. Plot your results."
   ]
  },
  {
   "cell_type": "code",
   "execution_count": 6,
   "metadata": {},
   "outputs": [],
   "source": [
    "gamma_values = np.array([2.1, 2.3, 2.5, 2.9])\n",
    "size_values = np.logspace(2, 3, 20, dtype=int)\n",
    "colors_values = ['tomato', 'lightskyblue', 'olivedrab', 'darkmagenta']"
   ]
  },
  {
   "cell_type": "code",
   "execution_count": 7,
   "metadata": {},
   "outputs": [],
   "source": [
    "gcc_results, sgcc_results = finite_size_effects(gamma_values, size_values, samples=10)"
   ]
  },
  {
   "cell_type": "code",
   "execution_count": 8,
   "metadata": {},
   "outputs": [
    {
     "data": {
      "image/png": "[encoded data removed]",
      "text/plain": [
       "<Figure size 432x288 with 1 Axes>"
      ]
     },
     "metadata": {},
     "output_type": "display_data"
    }
   ],
   "source": [
    "# fig.clf()\n",
    "fig = plt.figure()\n",
    "ax = plt.subplot(111)\n",
    "\n",
    "s = 0\n",
    "for gamma, result in gcc_results.items():\n",
    "    ax.plot(size_values, result,'-', color=colors_values[s%4],label=r'{}'.format(gamma))\n",
    "    s += 1\n",
    "for gamma, result in sgcc_results.items():\n",
    "    ax.plot(size_values, result,'--', color=colors_values[s%4])\n",
    "    s += 1\n",
    "\n",
    "ax.set_xlabel(r'Size $n$')\n",
    "ax.set_ylabel(r'Relative (S)GCC')\n",
    "ax.set_xlim(min(size_values),max(size_values))\n",
    "# ax.set_ylim()\n",
    "ax.set_xscale('log')\n",
    "ax.legend(loc='best')\n",
    "fig.tight_layout(pad=.1)\n",
    "fig.savefig('./graphics/exercise_07_task_1_sgcc.pdf')"
   ]
  },
  {
   "cell_type": "markdown",
   "metadata": {},
   "source": [
    "How can we interpret these findings? Based on the theory of scale-free networks, we have seen that we expect (i) a giant connected component to exist in the randomly generated network, and (ii) a giant connected component to exist in the network where 30 % of the nodes have failed at random. For any parameter $\\gamma$, we observe significant deviations from this theoretical prediction. They tend to be smaller for small networks, compared to large networks. We also observe that the deviations are getting more pronounced as the exponent $\\gamma$ is increased. For $\\gamma$ close to three, we see that the real behavior is very far from the prediction even for networks with $1000$ nodes."
   ]
  },
  {
   "cell_type": "markdown",
   "metadata": {},
   "source": [
    "### Task 2: Variance of microstate properties\n",
    "\n",
    "A second potential fallacy when applying ensemble average in the reasoning about real networks, is the variance of microstate properties within a statistical ensemble. In order to analyse the variance of microstates, use the $G(n,p)$ model to generate $1000$ microstates from the statistical ensemble of Erdoes-Renyi networks for $n=400$ and $np=3$. For each of these microstates, calculate the diameter and the clustering coefficient. Generate a scatter plot of the obtained values.\n",
    "\n",
    "**Hint:** Use `alpha=0.05` in your scatter plot to better highlight the distribution of values."
   ]
  },
  {
   "cell_type": "code",
   "execution_count": 9,
   "metadata": {},
   "outputs": [],
   "source": [
    "def second_fallacy(n, np, sample_size=1000):\n",
    "    diameter_values = []\n",
    "    clusterig_coeff_values = []\n",
    "    \n",
    "    for s in range(sample_size):\n",
    "        gnp = pp.algorithms.random_graphs.erdoes_renyi_gnp(n=n, p=np/n)\n",
    "        pp.algorithms.components.reduce_to_gcc(gnp)\n",
    "        diameter_values.append(pp.algorithms.shortest_paths.diameter(gnp))\n",
    "        clusterig_coeff_values.append(pp.algorithms.statistics.avg_clustering_coefficient(gnp))\n",
    "        \n",
    "    fig = plt.figure()\n",
    "    ax = plt.subplot(111)\n",
    "    \n",
    "    ax.scatter(diameter_values, clusterig_coeff_values, alpha=.05)\n",
    "    ax.set_xlabel(r'Diameter $d$')\n",
    "    ax.set_ylabel(r'Avg. clustering coeff.')\n",
    "    fig.savefig('./graphics/exercise_07_task_2_variance.pdf')\n",
    "    \n",
    "    return diameter_values"
   ]
  },
  {
   "cell_type": "code",
   "execution_count": 10,
   "metadata": {},
   "outputs": [
    {
     "data": {
      "image/png": "[encoded data removed]",
      "text/plain": [
       "<Figure size 432x288 with 1 Axes>"
      ]
     },
     "metadata": {},
     "output_type": "display_data"
    }
   ],
   "source": [
    "diameters = second_fallacy(400, 3.)"
   ]
  },
  {
   "cell_type": "markdown",
   "metadata": {},
   "source": [
    "Compute the mean and the standard deviation of the diameters within your sample:"
   ]
  },
  {
   "cell_type": "code",
   "execution_count": 11,
   "metadata": {},
   "outputs": [
    {
     "name": "stdout",
     "output_type": "stream",
     "text": [
      "Mean: 12.28 and diameter: 1.13 of the diameter.\n"
     ]
    }
   ],
   "source": [
    "print('Mean: {0:.2f} and diameter: {1:.2f} of the diameter.'.format(np.mean(diameters), np.std(diameters)))"
   ]
  },
  {
   "cell_type": "markdown",
   "metadata": {},
   "source": [
    "### Task 3: Fitting degree distributions\n",
    "\n",
    "Generate a degree sequence drawn from a **log-normal** distribution with a mean of $2$, a standard deviation of $1$ and a network size $n = 5000$. \n",
    "For this task, we need the degrees to be integers and larger than zero, which you can achieve by using the function `np.ceil`.\n",
    "We could use the `MolloyReed` function to generate a network with this degree sequence, but we don't need the actual network for this task."
   ]
  },
  {
   "cell_type": "code",
   "execution_count": 12,
   "metadata": {},
   "outputs": [],
   "source": [
    "degrees_lognorm = np.ceil(np.random.lognormal(mean=2., sigma=1., size=5000))"
   ]
  },
  {
   "cell_type": "markdown",
   "metadata": {},
   "source": [
    "The following helper function generates a log-log histogram of the degree distribution of this network. This function takes a `bins` argument that allows us to change the bin size used in the histogram calculation."
   ]
  },
  {
   "cell_type": "code",
   "execution_count": 13,
   "metadata": {},
   "outputs": [],
   "source": [
    "#BOILERPLATE_CODE\n",
    "def plot_degree_dist(degrees, bins, log=True):\n",
    "    fig = plt.figure()\n",
    "    ax = plt.subplot(111)\n",
    "    \n",
    "    ax.hist(degrees, bins=bins, density = True, facecolor = 'b', alpha = 0.75, log=log)\n",
    "    #plt.scatter(degrees, p)\n",
    "    ax.axis([min(bins), max(bins), 10**(-6), 1])\n",
    "    ax.grid(True) \n",
    "    ax.set_xlabel(r'$k$')\n",
    "    ax.set_ylabel(r'$P(k)$')\n",
    "    ax.set_xscale('log')\n",
    "    \n",
    "    fig.tight_layout(pad=.1)\n",
    "    fig.savefig('./graphics/exercise_07_task_3_log_normal.pdf')"
   ]
  },
  {
   "cell_type": "markdown",
   "metadata": {},
   "source": [
    "Use the function above to plot a histogram of degrees in log-log space. Use 15 logarithmically-spaced bins in the range from 1 to the maximum degree."
   ]
  },
  {
   "cell_type": "code",
   "execution_count": 14,
   "metadata": {
    "scrolled": true
   },
   "outputs": [
    {
     "data": {
      "image/png": "[encoded data removed]",
      "text/plain": [
       "<Figure size 432x288 with 1 Axes>"
      ]
     },
     "metadata": {},
     "output_type": "display_data"
    }
   ],
   "source": [
    "bins = np.logspace(0, np.log10(max(degrees_lognorm)),15)\n",
    "plot_degree_dist(degrees_lognorm, bins)"
   ]
  },
  {
   "cell_type": "markdown",
   "metadata": {},
   "source": [
    "Apart from the smallest degrees (smaller than approx. 5) this approximately looks like a straight line in a log-log space, which would indicate a powerlaw distribution (and thus a scale-free network).\n",
    "In the following, we will compare this hypothesis to the hypothesis that the data was drawn from a lognormal distribution (which we know it was).\n",
    "For this, we provide you with functions that compute the probability density functions of the lognormal and powerlaw distribution. We will later use those to calculate the model likelihoods given the empirical degree distribution."
   ]
  },
  {
   "cell_type": "code",
   "execution_count": 15,
   "metadata": {},
   "outputs": [],
   "source": [
    "#BOILERPLATE_CODE\n",
    "lognormal = lambda x, mu, sigma: ((1/x/sigma/np.sqrt(2*np.pi))*\n",
    "                           np.exp((-(np.log(x)-mu)**2)/2/sigma**2))\n",
    "powerlaw = lambda x, gamma, a: a*x**(-gamma)"
   ]
  },
  {
   "cell_type": "markdown",
   "metadata": {},
   "source": [
    "### Task 3.1 Fitting a power law distribution"
   ]
  },
  {
   "cell_type": "markdown",
   "metadata": {},
   "source": [
    "In order to fit the power law distribution to the data, we will use a dirty trick (which you should not try at home). Instead of the actual data, we will use the binned data from the log-log histogram above to fit a linear model in log-space. For the fitting we need pairs x, y where x is the middle point of each bin and y is the height of that bin. The following function computes these x, y value pairs for the empirical degree distribution and the logarithmically-spaced bins chosen above. Note that the values returned are in logarithmic space."
   ]
  },
  {
   "cell_type": "code",
   "execution_count": 16,
   "metadata": {},
   "outputs": [],
   "source": [
    "#BOILERPLATE_CODE\n",
    "def get_xy(degrees_lognorm, bins):\n",
    "    # returns the side of the bins\n",
    "    y, x_sides = np.histogram(degrees_lognorm, bins=bins, density=True)\n",
    "    x = [(x_sides[i]+x_sides[i+1])/2 for i in range(len(x_sides)-1)]\n",
    "    x_new = []\n",
    "    y_new = []\n",
    "    for i in range(len(y)):\n",
    "        if y[i] != 0.0:\n",
    "            x_new.append(x[i])\n",
    "            y_new.append(y[i])\n",
    "    return np.array(np.log10(x_new)), np.array(np.log10(y_new))\n",
    "\n",
    "log_x, log_y = get_xy(degrees_lognorm, bins)"
   ]
  },
  {
   "cell_type": "markdown",
   "metadata": {},
   "source": [
    "We now use our trick to fit the power law distribution to the data. Since a power law in linear space is simply a straight line in log-log-space we can fit the slope of a linear model based on the data points x, y that we have created above.\n",
    "\n",
    "To do this, you can use the function `curve_fit` from the module `scipy.optimize`. For your convenience, we provide you with a lambda function that represents a linear model with two parameters alpha (the slope of the line) and beta (the intercept, i.e. where the line crosses the y-axis). The argument x has to be first due to the convention of [`curve_fit`](https://docs.scipy.org/doc/scipy/reference/generated/scipy.optimize.curve_fit.html)."
   ]
  },
  {
   "cell_type": "code",
   "execution_count": 17,
   "metadata": {},
   "outputs": [
    {
     "name": "stdout",
     "output_type": "stream",
     "text": [
      "-1.9637208660554508 0.003222929376053285\n"
     ]
    }
   ],
   "source": [
    "#BOILERPLATE_CODE\n",
    "linear_model = lambda x, alpha, beta: alpha*x+beta\n",
    "\n",
    "[alpha, beta], pcov = curve_fit(linear_model, log_x, log_y)\n",
    "print(alpha, beta)"
   ]
  },
  {
   "cell_type": "markdown",
   "metadata": {},
   "source": [
    "Use the solution generated by `curve_fit` to fit the slope `alpha` and the intercept `beta` of the linear model. You can now use those to calculate the exponent `gamma` and the scale parameter `a` of the powerlaw distribution. $\\mathrm{log}(a \\cdot k^{-\\gamma}) = log(a) - \\gamma  log(k) = \\beta + \\alpha \\cdot x \\rightarrow \\alpha = - \\gamma$ and $\\beta = \\mathrm{log}(a)$."
   ]
  },
  {
   "cell_type": "code",
   "execution_count": 18,
   "metadata": {},
   "outputs": [
    {
     "name": "stdout",
     "output_type": "stream",
     "text": [
      "gamma: 1.96 and a: 1.00\n"
     ]
    }
   ],
   "source": [
    "print('gamma: {:.2f} and a: {:.2f}'.format(-alpha, np.exp(beta)))"
   ]
  },
  {
   "cell_type": "markdown",
   "metadata": {},
   "source": [
    "Plot the histogram with the bins above, using `density=True` as well as the fitted power law."
   ]
  },
  {
   "cell_type": "code",
   "execution_count": 19,
   "metadata": {
    "scrolled": true
   },
   "outputs": [
    {
     "data": {
      "image/png": "[encoded data removed]",
      "text/plain": [
       "<Figure size 432x288 with 1 Axes>"
      ]
     },
     "metadata": {},
     "output_type": "display_data"
    }
   ],
   "source": [
    "fig = plt.figure()\n",
    "ax = plt.subplot(111)\n",
    "\n",
    "ax.hist(degrees_lognorm, bins=bins, density = True, alpha=0.5, log=True)\n",
    "ax.plot(bins, np.exp(beta) * bins**(alpha), '-')\n",
    "#plt.scatter(degrees, p)\n",
    "ax.axis([min(bins), max(bins), 10**(-6), 1])\n",
    "ax.grid(True) \n",
    "ax.set_xlabel(r'$k$')\n",
    "ax.set_ylabel(r'$P(k)$')\n",
    "ax.set_xscale('log')\n",
    "\n",
    "fig.tight_layout(pad=.1)\n",
    "fig.savefig('./graphics/exercise_07_task_3_fit.pdf')"
   ]
  },
  {
   "cell_type": "markdown",
   "metadata": {},
   "source": [
    "### Task 3.2 Comparing hypotheses based on Likelihood"
   ]
  },
  {
   "cell_type": "markdown",
   "metadata": {},
   "source": [
    "While the exponent `gamma` found above represent the best possible fit of a power law distribution to the data, this does **not** imply that the degree distribution actually follows a power law. We rather have to compare the support for this hypothesis against other, alternative hypotheses regarding the true distribution. here, we actually know know that the data was generated from a lognormal distribution, so this is the alternative hypothesis that we want to compare against.\n",
    "\n",
    "There exist different ways to compare hypotheses (and test one null hypothesis against an alternative). Here we use a maximally simple, heuristic approach to compare the **model likelihoods** to each other, i.e. we compare the probabilities with which each of the two models would generate the empirical data.\n",
    "\n",
    "We start with the power law distribution. Use the function `llh_powerlaw` given below to calculate the log-likelihood of the fitted powerlaw model given the empirical degree sequence above."
   ]
  },
  {
   "cell_type": "code",
   "execution_count": 20,
   "metadata": {},
   "outputs": [],
   "source": [
    "#BOILERPLATE_CODE\n",
    "def llh_powerlaw(x, gamma, a):\n",
    "    llh_each = np.log(a)-gamma*np.log(x)\n",
    "    return np.sum(llh_each)"
   ]
  },
  {
   "cell_type": "code",
   "execution_count": 21,
   "metadata": {},
   "outputs": [],
   "source": [
    "log_likelihood_powerlaw = llh_powerlaw(bins, -alpha, np.exp(beta))"
   ]
  },
  {
   "cell_type": "markdown",
   "metadata": {},
   "source": [
    "We now want to compare this likelihood to the likelihood of a lognormal distribution that we fit to the data. We can actually fit such a model by maximising the log-likelihood of the model given the data. This is a widely used method that we will discuss in more detail in one of the next lectures. There are different optimisation methods, that we can use to maximise the likelihood. Here we use a variant of a [gradient descent](https://en.wikipedia.org/wiki/Gradient_descent) algorithm, which is based on a simple idea: Considering that the lognormal distribution has two parameters `mu` and `sigma`, we start with a random point in a two-dimensional parameter space. We then apply an iterative algorithm. In each step, we 1) calculate the likelihood of the current parameters, 2) compare this likelihood to the likelihoods of four neighbouring points at a certain distance `d` in different directions, and 3) move to the neighbouring point with the maximum likelihood if it is larger than the current likelihood. Whenever we remain in the same point, we decrease the distance `d`, i.e. we take smaller steps to find a maximum.\n",
    "\n",
    "This simple method is implemented in the following function:"
   ]
  },
  {
   "cell_type": "code",
   "execution_count": 22,
   "metadata": {},
   "outputs": [],
   "source": [
    "#BOILERPLATE_CODE\n",
    "def llh_lognorm(x, mu, sigma):\n",
    "    p_each = lognormal(x, mu, sigma)\n",
    "    llh_each = np.log(p_each)\n",
    "    return np.sum(llh_each)\n",
    "\n",
    "\n",
    "def MLE_lognormal(x, mu0=1.0, sig0=1.0, iterations=1000):\n",
    "    r\"\"\" Performs a gradient descent maximisation of the log-likelihood \n",
    "    of a lognormal distribution given the empirical data x.\n",
    "    \"\"\"\n",
    "    max_m = mu0\n",
    "    max_s = sig0\n",
    "    dm = 0.5\n",
    "    ds = 0.5\n",
    "    for i in range(iterations):\n",
    "        prev_m = max_m\n",
    "        prev_s = max_s\n",
    "        # check four points around the point [m,s] in the \n",
    "        # parameter space at distances dm and ds\n",
    "        for new_m, new_s in [[max_m-dm, max_s], [max_m+dm, max_s], [max_m, max_s+ds], [max_m, max_s-ds]]:\n",
    "            # accept the move if one of the new values is giving a higher likelihood \n",
    "            if llh_lognorm(x, max_m, max_s) < llh_lognorm(x, new_m, new_s):\n",
    "                max_m = new_m\n",
    "                max_s = new_s\n",
    "        # if we remain at the same point, decrease the distances dm, ds\n",
    "        if max_m==prev_m and max_s==prev_s:\n",
    "            dm = 1/(i+1)\n",
    "            ds = 1/(i+1)\n",
    "    return max_m, max_s"
   ]
  },
  {
   "cell_type": "markdown",
   "metadata": {},
   "source": [
    "Use the function `MLE_lognormal` above to find the parameters `mu_opt` and `sigma_opt` that maximise the likelihood of the lognormal model given the empirical degree distribution. Plot both the histogram of degrees as well as the fitted lognormal distribution (using the function `lognormal` from above)."
   ]
  },
  {
   "cell_type": "code",
   "execution_count": null,
   "metadata": {},
   "outputs": [],
   "source": []
  },
  {
   "cell_type": "markdown",
   "metadata": {},
   "source": [
    "Now calculate the likelihood of the lognormal model given the data and compare it to the likelihood of the power law distribution obtained above. Which hypothesis would you prefer?"
   ]
  },
  {
   "cell_type": "code",
   "execution_count": null,
   "metadata": {},
   "outputs": [],
   "source": []
  }
 ],
 "metadata": {
  "kernelspec": {
   "display_name": "Python 3",
   "language": "python",
   "name": "python3"
  },
  "language_info": {
   "codemirror_mode": {
    "name": "ipython",
    "version": 3
   },
   "file_extension": ".py",
   "mimetype": "text/x-python",
   "name": "python",
   "nbconvert_exporter": "python",
   "pygments_lexer": "ipython3",
   "version": "3.8.10"
  }
 },
 "nbformat": 4,
 "nbformat_minor": 1
}
